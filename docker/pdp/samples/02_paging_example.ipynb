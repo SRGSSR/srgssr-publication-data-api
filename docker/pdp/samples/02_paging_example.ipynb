{
 "cells": [
  {
   "cell_type": "markdown",
   "id": "18005905",
   "metadata": {},
   "source": [
    "# Example 2: Query multiple items using paging\n",
    "See more about paging here: https://graphql.org/learn/pagination/"
   ]
  },
  {
   "cell_type": "code",
   "execution_count": null,
   "id": "6f7673fb",
   "metadata": {},
   "outputs": [],
   "source": [
    "from srgssr_publication_data_api import PublicationDataApi\n",
    "import os"
   ]
  },
  {
   "cell_type": "markdown",
   "id": "63f36a38",
   "metadata": {},
   "source": [
    "## 1. Check the API endpoint and initialize client"
   ]
  },
  {
   "cell_type": "code",
   "execution_count": null,
   "id": "0c25dc17",
   "metadata": {},
   "outputs": [],
   "source": [
    "%env PDP_API"
   ]
  },
  {
   "cell_type": "code",
   "execution_count": null,
   "id": "e9e8c3f5",
   "metadata": {},
   "outputs": [],
   "source": [
    "client = PublicationDataApi(os.environ['PDP_API'], os.environ['USER_NAME'], os.environ['USER_PASSWORD'])"
   ]
  },
  {
   "cell_type": "markdown",
   "id": "611f86bd",
   "metadata": {},
   "source": [
    "## 2. Show available queries"
   ]
  },
  {
   "cell_type": "code",
   "execution_count": null,
   "id": "931b0efa",
   "metadata": {},
   "outputs": [],
   "source": [
    "# first=[number of queries to retrieve, e.g. *first* 10 queries]\n",
    "# after=[id or cursor position from which to start]\n",
    "client.schema.Query"
   ]
  },
  {
   "cell_type": "markdown",
   "id": "c54e65d6",
   "metadata": {},
   "source": [
    "## 3. Configure the query operation with paging\n",
    "To query pages programmatically we parametrize the query"
   ]
  },
  {
   "cell_type": "code",
   "execution_count": null,
   "id": "0dd8a046",
   "metadata": {},
   "outputs": [],
   "source": [
    "from sgqlc.types import Variable, non_null\n",
    "\n",
    "op = client.query_op(name='faroItems', variables={'first':non_null(int), 'after':str})"
   ]
  },
  {
   "cell_type": "code",
   "execution_count": null,
   "id": "0f208b88",
   "metadata": {},
   "outputs": [],
   "source": [
    "# return current query (empty)\n",
    "op"
   ]
  },
  {
   "cell_type": "code",
   "execution_count": null,
   "id": "939c7629",
   "metadata": {},
   "outputs": [],
   "source": [
    "# select query type and configure with argument\n",
    "faro = op.faro_items(first=Variable('first'), after=Variable('after'))"
   ]
  },
  {
   "cell_type": "code",
   "execution_count": null,
   "id": "88356399",
   "metadata": {},
   "outputs": [],
   "source": [
    "# return current query (configured)\n",
    "op"
   ]
  },
  {
   "cell_type": "markdown",
   "id": "791f408a",
   "metadata": {},
   "source": [
    "## 4. Select fields of interest"
   ]
  },
  {
   "cell_type": "code",
   "execution_count": null,
   "id": "47e5a3a4",
   "metadata": {},
   "outputs": [],
   "source": [
    "# select fields to be retured\n",
    "faro.edges.id()\n",
    "faro.edges.program.date()\n",
    "faro.edges.program.title()\n",
    "faro.edges.producer()\n",
    "faro.cursor()"
   ]
  },
  {
   "cell_type": "code",
   "execution_count": null,
   "id": "d838f6b2",
   "metadata": {},
   "outputs": [],
   "source": [
    "# return current query\n",
    "op"
   ]
  },
  {
   "cell_type": "markdown",
   "id": "2dfdb845",
   "metadata": {},
   "source": [
    "## 5. Retrieve the data"
   ]
  },
  {
   "cell_type": "code",
   "execution_count": null,
   "id": "556312a9",
   "metadata": {},
   "outputs": [],
   "source": [
    "# constants\n",
    "page_size = 100\n",
    "page_requests = 100"
   ]
  },
  {
   "cell_type": "code",
   "execution_count": null,
   "id": "9aad64e4",
   "metadata": {},
   "outputs": [],
   "source": [
    "# initialize with first query\n",
    "data = client.run_query(op, {'first':page_size})\n",
    "\n",
    "results = data.faro_items\n",
    "\n",
    "if not results.edges:\n",
    "    print('No items!', file=sys.stderr)\n",
    "    raise SystemExit()"
   ]
  },
  {
   "cell_type": "code",
   "execution_count": null,
   "id": "3758b4b6",
   "metadata": {},
   "outputs": [],
   "source": [
    "from tqdm.notebook import tnrange\n",
    "for i in tnrange(page_requests, desc=\"Downloading data\"):\n",
    "    # query page\n",
    "    data = client.run_query(op, {'first':page_size, 'after':results.cursor})\n",
    "    \n",
    "    # convert page to object oriented results\n",
    "    page = data.faro_items\n",
    "\n",
    "    # extract new edges and update cursor\n",
    "    results.edges += page.edges\n",
    "    results.cursor = page.cursor"
   ]
  },
  {
   "cell_type": "code",
   "execution_count": null,
   "id": "dcd90eb7",
   "metadata": {},
   "outputs": [],
   "source": [
    "print(f'INFO - Retrieved {len(results.edges):,} FaroItems')"
   ]
  },
  {
   "cell_type": "markdown",
   "id": "1bb3f90f",
   "metadata": {},
   "source": [
    "## 6. Plot the year distribution of first display"
   ]
  },
  {
   "cell_type": "code",
   "execution_count": null,
   "id": "c0c2d292",
   "metadata": {},
   "outputs": [],
   "source": [
    "from collections import Counter\n",
    "from datetime import date\n",
    "\n",
    "# count year occurrences\n",
    "c = Counter(date.fromisoformat(x.program.date).year for x in results.edges if x.program.date)"
   ]
  },
  {
   "cell_type": "code",
   "execution_count": null,
   "id": "57806460",
   "metadata": {},
   "outputs": [],
   "source": [
    "import matplotlib.pyplot as plt\n",
    "%matplotlib inline\n",
    "plt.rcParams['figure.figsize'] = (20, 10)"
   ]
  },
  {
   "cell_type": "code",
   "execution_count": null,
   "id": "4afbdd8a",
   "metadata": {},
   "outputs": [],
   "source": [
    "with plt.style.context('fivethirtyeight'):\n",
    "    plt.bar(c.keys(), c.values())"
   ]
  },
  {
   "cell_type": "markdown",
   "id": "91aa626e",
   "metadata": {},
   "source": [
    "## 7. Load data into a `pandas` dataframe"
   ]
  },
  {
   "cell_type": "code",
   "execution_count": null,
   "id": "cdcaea23",
   "metadata": {},
   "outputs": [],
   "source": [
    "import pandas as pd"
   ]
  },
  {
   "cell_type": "code",
   "execution_count": null,
   "id": "8245fe20",
   "metadata": {},
   "outputs": [],
   "source": [
    "results.edges[0].__fields_cache__"
   ]
  },
  {
   "cell_type": "code",
   "execution_count": null,
   "id": "63a21359",
   "metadata": {},
   "outputs": [],
   "source": [
    "# todo: find better way to import data into pandas\n",
    "df = pd.DataFrame([x.__json_data__ for x in results.edges])"
   ]
  },
  {
   "cell_type": "code",
   "execution_count": null,
   "id": "192352da",
   "metadata": {},
   "outputs": [],
   "source": [
    "df"
   ]
  },
  {
   "cell_type": "code",
   "execution_count": null,
   "id": "a2b26976",
   "metadata": {},
   "outputs": [],
   "source": [
    "(df\n",
    " .groupby('producer')\n",
    " .filter(lambda x: len(x) > 100)\n",
    " .producer\n",
    " .value_counts()\n",
    " .plot\n",
    " .pie(fontsize=30));"
   ]
  },
  {
   "cell_type": "code",
   "execution_count": null,
   "id": "f18e3e72",
   "metadata": {},
   "outputs": [],
   "source": []
  }
 ],
 "metadata": {
  "kernelspec": {
   "display_name": "Python 3",
   "language": "python",
   "name": "python3"
  },
  "language_info": {
   "codemirror_mode": {
    "name": "ipython",
    "version": 3
   },
   "file_extension": ".py",
   "mimetype": "text/x-python",
   "name": "python",
   "nbconvert_exporter": "python",
   "pygments_lexer": "ipython3",
   "version": "3.8.8"
  }
 },
 "nbformat": 4,
 "nbformat_minor": 5
}