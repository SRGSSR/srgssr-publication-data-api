{
 "cells": [
  {
   "cell_type": "markdown",
   "id": "administrative-savage",
   "metadata": {},
   "source": [
    "# Example 1: Introduction how to access PDP GraphQL API"
   ]
  },
  {
   "cell_type": "code",
   "execution_count": null,
   "id": "legislative-turtle",
   "metadata": {},
   "outputs": [],
   "source": [
    "from sgqlc.types import Variable, non_null\n",
    "from srgssr_publication_data_api import PublicationDataApi\n",
    "import os"
   ]
  },
  {
   "cell_type": "markdown",
   "id": "royal-midnight",
   "metadata": {},
   "source": [
    "## 1. Init the operations"
   ]
  },
  {
   "cell_type": "code",
   "execution_count": null,
   "metadata": {},
   "outputs": [],
   "source": [
    "client = PublicationDataApi(os.environ['PDP_API'], os.environ['USER_NAME'], os.environ['USER_PASSWORD'])"
   ]
  },
  {
   "cell_type": "markdown",
   "id": "expected-restriction",
   "metadata": {},
   "source": [
    "## 2. Prepare the operation"
   ]
  },
  {
   "cell_type": "code",
   "execution_count": null,
   "id": "linear-check",
   "metadata": {},
   "outputs": [],
   "source": [
    "op = client.query_op()"
   ]
  },
  {
   "cell_type": "markdown",
   "id": "ambient-values",
   "metadata": {},
   "source": [
    "## 3. Configure the selector"
   ]
  },
  {
   "cell_type": "code",
   "execution_count": null,
   "id": "proper-intro",
   "metadata": {},
   "outputs": [],
   "source": [
    "# retrieve query operations\n",
    "selector = op.faro_items(first=5)\n",
    "selector.edges().title()\n",
    "selector.cursor()"
   ]
  },
  {
   "cell_type": "code",
   "execution_count": null,
   "id": "scientific-finish",
   "metadata": {},
   "outputs": [],
   "source": [
    "# run query and retrieve data\n",
    "result = client.run_query(op)"
   ]
  },
  {
   "cell_type": "code",
   "execution_count": null,
   "id": "acting-windsor",
   "metadata": {},
   "outputs": [],
   "source": [
    "# display raw data (json)\n",
    "result"
   ]
  },
  {
   "source": [
    "Show the \"content\" of the results."
   ],
   "cell_type": "markdown",
   "metadata": {}
  },
  {
   "cell_type": "code",
   "execution_count": null,
   "metadata": {},
   "outputs": [],
   "source": [
    "result.faro_items"
   ]
  }
 ],
 "metadata": {
  "kernelspec": {
   "name": "python391jvsc74a57bd010740d4db6b9674867423ab4c609d9de5551821e2092fac3b654ef5f498ea6b5",
   "display_name": "Python 3.9.1 64-bit ('3.9.1')"
  },
  "language_info": {
   "codemirror_mode": {
    "name": "ipython",
    "version": 3
   },
   "file_extension": ".py",
   "mimetype": "text/x-python",
   "name": "python",
   "nbconvert_exporter": "python",
   "pygments_lexer": "ipython3",
   "version": "3.9.1-final"
  },
  "metadata": {
   "interpreter": {
    "hash": "10740d4db6b9674867423ab4c609d9de5551821e2092fac3b654ef5f498ea6b5"
   }
  }
 },
 "nbformat": 4,
 "nbformat_minor": 5
}