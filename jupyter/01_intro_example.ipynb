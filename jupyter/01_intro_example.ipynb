{
 "cells": [
  {
   "cell_type": "markdown",
   "id": "administrative-savage",
   "metadata": {},
   "source": [
    "# Example 1: Introduction how to access PDP GraphQL API"
   ]
  },
  {
   "cell_type": "code",
   "execution_count": 1,
   "id": "legislative-turtle",
   "metadata": {},
   "outputs": [],
   "source": [
    "from sgqlc.operation import Operation\n",
    "from srgssr_publication_data_api import pdp_schema as schema\n",
    "from srgssr_publication_data_api import client"
   ]
  },
  {
   "cell_type": "markdown",
   "id": "royal-midnight",
   "metadata": {},
   "source": [
    "## 1. Set the API endpoint\n",
    "Ensure the endpoint is set to the PDP (FARO) schema on INT"
   ]
  },
  {
   "cell_type": "code",
   "execution_count": 2,
   "id": "moral-router",
   "metadata": {},
   "outputs": [
    {
     "output_type": "stream",
     "name": "stdout",
     "text": [
      "env: PDP_API=https://graphql-api.pdp.dev.srgssr.ch/graphql\n"
     ]
    }
   ],
   "source": [
    "%set_env PDP_API=https://graphql-api.pdp.dev.srgssr.ch/graphql"
   ]
  },
  {
   "cell_type": "markdown",
   "id": "expected-restriction",
   "metadata": {},
   "source": [
    "## 2. Show available queries"
   ]
  },
  {
   "cell_type": "code",
   "execution_count": 3,
   "id": "linear-check",
   "metadata": {},
   "outputs": [
    {
     "output_type": "execute_result",
     "data": {
      "text/plain": [
       "type Query {\n",
       "  faroItems(first: Int!, after: String): FaroItemPage!\n",
       "}"
      ]
     },
     "metadata": {},
     "execution_count": 3
    }
   ],
   "source": [
    "schema.Query"
   ]
  },
  {
   "cell_type": "markdown",
   "id": "ambient-values",
   "metadata": {},
   "source": [
    "## 3. Configure the query operation"
   ]
  },
  {
   "cell_type": "code",
   "execution_count": 4,
   "id": "proper-intro",
   "metadata": {},
   "outputs": [],
   "source": [
    "# retrieve query operations\n",
    "op = Operation(schema.Query)"
   ]
  },
  {
   "cell_type": "code",
   "execution_count": 5,
   "id": "ongoing-disco",
   "metadata": {},
   "outputs": [
    {
     "output_type": "execute_result",
     "data": {
      "text/plain": [
       "sgqlc.operation.Operation"
      ]
     },
     "metadata": {},
     "execution_count": 5
    }
   ],
   "source": [
    "type(op)"
   ]
  },
  {
   "cell_type": "code",
   "execution_count": 6,
   "id": "supreme-friend",
   "metadata": {},
   "outputs": [
    {
     "output_type": "execute_result",
     "data": {
      "text/plain": [
       "query {\n",
       "}"
      ]
     },
     "metadata": {},
     "execution_count": 6
    }
   ],
   "source": [
    "# return current query (empty)\n",
    "op"
   ]
  },
  {
   "cell_type": "code",
   "execution_count": 7,
   "id": "endangered-convention",
   "metadata": {},
   "outputs": [
    {
     "output_type": "error",
     "ename": "AttributeError",
     "evalue": "query {\n} has no field faro_items_by_play_urn",
     "traceback": [
      "\u001b[0;31m---------------------------------------------------------------------------\u001b[0m",
      "\u001b[0;31mKeyError\u001b[0m                                  Traceback (most recent call last)",
      "\u001b[0;32m~/.local/share/virtualenvs/pdp_graphql_client_python-Yf7ejsAK/lib/python3.8/site-packages/sgqlc/types/__init__.py\u001b[0m in \u001b[0;36m__getitem__\u001b[0;34m(cls, key)\u001b[0m\n\u001b[1;32m   1624\u001b[0m         \u001b[0;32mtry\u001b[0m\u001b[0;34m:\u001b[0m\u001b[0;34m\u001b[0m\u001b[0;34m\u001b[0m\u001b[0m\n\u001b[0;32m-> 1625\u001b[0;31m             \u001b[0;32mreturn\u001b[0m \u001b[0mcls\u001b[0m\u001b[0;34m.\u001b[0m\u001b[0m__fields\u001b[0m\u001b[0;34m[\u001b[0m\u001b[0mkey\u001b[0m\u001b[0;34m]\u001b[0m\u001b[0;34m\u001b[0m\u001b[0;34m\u001b[0m\u001b[0m\n\u001b[0m\u001b[1;32m   1626\u001b[0m         \u001b[0;32mexcept\u001b[0m \u001b[0mKeyError\u001b[0m \u001b[0;32mas\u001b[0m \u001b[0mexc\u001b[0m\u001b[0;34m:\u001b[0m\u001b[0;34m\u001b[0m\u001b[0;34m\u001b[0m\u001b[0m\n",
      "\u001b[0;31mKeyError\u001b[0m: 'faro_items_by_play_urn'",
      "\nThe above exception was the direct cause of the following exception:\n",
      "\u001b[0;31mKeyError\u001b[0m                                  Traceback (most recent call last)",
      "\u001b[0;32m~/.local/share/virtualenvs/pdp_graphql_client_python-Yf7ejsAK/lib/python3.8/site-packages/sgqlc/operation/__init__.py\u001b[0m in \u001b[0;36m__getattr__\u001b[0;34m(self, name)\u001b[0m\n\u001b[1;32m   2088\u001b[0m         \u001b[0;32mtry\u001b[0m\u001b[0;34m:\u001b[0m\u001b[0;34m\u001b[0m\u001b[0;34m\u001b[0m\u001b[0m\n\u001b[0;32m-> 2089\u001b[0;31m             \u001b[0;32mreturn\u001b[0m \u001b[0mself\u001b[0m\u001b[0;34m.\u001b[0m\u001b[0m__selection_list\u001b[0m\u001b[0;34m[\u001b[0m\u001b[0mname\u001b[0m\u001b[0;34m]\u001b[0m\u001b[0;34m\u001b[0m\u001b[0;34m\u001b[0m\u001b[0m\n\u001b[0m\u001b[1;32m   2090\u001b[0m         \u001b[0;32mexcept\u001b[0m \u001b[0mKeyError\u001b[0m \u001b[0;32mas\u001b[0m \u001b[0mexc\u001b[0m\u001b[0;34m:\u001b[0m\u001b[0;34m\u001b[0m\u001b[0;34m\u001b[0m\u001b[0m\n",
      "\u001b[0;32m~/.local/share/virtualenvs/pdp_graphql_client_python-Yf7ejsAK/lib/python3.8/site-packages/sgqlc/operation/__init__.py\u001b[0m in \u001b[0;36m__getitem__\u001b[0;34m(self, name)\u001b[0m\n\u001b[1;32m   1751\u001b[0m         \u001b[0;32mif\u001b[0m \u001b[0ms\u001b[0m \u001b[0;32mis\u001b[0m \u001b[0;32mNone\u001b[0m\u001b[0;34m:\u001b[0m\u001b[0;34m\u001b[0m\u001b[0;34m\u001b[0m\u001b[0m\n\u001b[0;32m-> 1752\u001b[0;31m             \u001b[0ms\u001b[0m \u001b[0;34m=\u001b[0m \u001b[0mself\u001b[0m\u001b[0;34m.\u001b[0m\u001b[0m__selectors\u001b[0m\u001b[0;34m[\u001b[0m\u001b[0mname\u001b[0m\u001b[0;34m]\u001b[0m \u001b[0;34m=\u001b[0m \u001b[0mSelector\u001b[0m\u001b[0;34m(\u001b[0m\u001b[0mself\u001b[0m\u001b[0;34m,\u001b[0m \u001b[0mself\u001b[0m\u001b[0;34m.\u001b[0m\u001b[0m__type\u001b[0m\u001b[0;34m[\u001b[0m\u001b[0mname\u001b[0m\u001b[0;34m]\u001b[0m\u001b[0;34m)\u001b[0m\u001b[0;34m\u001b[0m\u001b[0;34m\u001b[0m\u001b[0m\n\u001b[0m\u001b[1;32m   1753\u001b[0m         \u001b[0;32mreturn\u001b[0m \u001b[0ms\u001b[0m\u001b[0;34m\u001b[0m\u001b[0;34m\u001b[0m\u001b[0m\n",
      "\u001b[0;32m~/.local/share/virtualenvs/pdp_graphql_client_python-Yf7ejsAK/lib/python3.8/site-packages/sgqlc/types/__init__.py\u001b[0m in \u001b[0;36m__getitem__\u001b[0;34m(cls, key)\u001b[0m\n\u001b[1;32m   1626\u001b[0m         \u001b[0;32mexcept\u001b[0m \u001b[0mKeyError\u001b[0m \u001b[0;32mas\u001b[0m \u001b[0mexc\u001b[0m\u001b[0;34m:\u001b[0m\u001b[0;34m\u001b[0m\u001b[0;34m\u001b[0m\u001b[0m\n\u001b[0;32m-> 1627\u001b[0;31m             \u001b[0;32mraise\u001b[0m \u001b[0mKeyError\u001b[0m\u001b[0;34m(\u001b[0m\u001b[0;34m'%s has no field %s'\u001b[0m \u001b[0;34m%\u001b[0m \u001b[0;34m(\u001b[0m\u001b[0mcls\u001b[0m\u001b[0;34m,\u001b[0m \u001b[0mkey\u001b[0m\u001b[0;34m)\u001b[0m\u001b[0;34m)\u001b[0m \u001b[0;32mfrom\u001b[0m \u001b[0mexc\u001b[0m\u001b[0;34m\u001b[0m\u001b[0;34m\u001b[0m\u001b[0m\n\u001b[0m\u001b[1;32m   1628\u001b[0m \u001b[0;34m\u001b[0m\u001b[0m\n",
      "\u001b[0;31mKeyError\u001b[0m: 'Query has no field faro_items_by_play_urn'",
      "\nThe above exception was the direct cause of the following exception:\n",
      "\u001b[0;31mAttributeError\u001b[0m                            Traceback (most recent call last)",
      "\u001b[0;32m<ipython-input-7-353714c515b4>\u001b[0m in \u001b[0;36m<module>\u001b[0;34m\u001b[0m\n\u001b[1;32m      1\u001b[0m \u001b[0;31m# select query type and configure with argument\u001b[0m\u001b[0;34m\u001b[0m\u001b[0;34m\u001b[0m\u001b[0;34m\u001b[0m\u001b[0m\n\u001b[0;32m----> 2\u001b[0;31m \u001b[0mfaro\u001b[0m \u001b[0;34m=\u001b[0m \u001b[0mop\u001b[0m\u001b[0;34m.\u001b[0m\u001b[0mfaro_items_by_play_urn\u001b[0m\u001b[0;34m(\u001b[0m\u001b[0murns\u001b[0m\u001b[0;34m=\u001b[0m\u001b[0;34m[\u001b[0m\u001b[0;34m'urn:srf:video:00025f95-2437-4dc3-a15a-44e5d2fa1d37'\u001b[0m\u001b[0;34m]\u001b[0m\u001b[0;34m)\u001b[0m\u001b[0;34m\u001b[0m\u001b[0;34m\u001b[0m\u001b[0m\n\u001b[0m",
      "\u001b[0;32m~/.local/share/virtualenvs/pdp_graphql_client_python-Yf7ejsAK/lib/python3.8/site-packages/sgqlc/operation/__init__.py\u001b[0m in \u001b[0;36m__getattr__\u001b[0;34m(self, name)\u001b[0m\n\u001b[1;32m   2089\u001b[0m             \u001b[0;32mreturn\u001b[0m \u001b[0mself\u001b[0m\u001b[0;34m.\u001b[0m\u001b[0m__selection_list\u001b[0m\u001b[0;34m[\u001b[0m\u001b[0mname\u001b[0m\u001b[0;34m]\u001b[0m\u001b[0;34m\u001b[0m\u001b[0;34m\u001b[0m\u001b[0m\n\u001b[1;32m   2090\u001b[0m         \u001b[0;32mexcept\u001b[0m \u001b[0mKeyError\u001b[0m \u001b[0;32mas\u001b[0m \u001b[0mexc\u001b[0m\u001b[0;34m:\u001b[0m\u001b[0;34m\u001b[0m\u001b[0;34m\u001b[0m\u001b[0m\n\u001b[0;32m-> 2091\u001b[0;31m             \u001b[0;32mraise\u001b[0m \u001b[0mAttributeError\u001b[0m\u001b[0;34m(\u001b[0m\u001b[0;34m'%s has no field %s'\u001b[0m \u001b[0;34m%\u001b[0m \u001b[0;34m(\u001b[0m\u001b[0mself\u001b[0m\u001b[0;34m,\u001b[0m \u001b[0mname\u001b[0m\u001b[0;34m)\u001b[0m\u001b[0;34m)\u001b[0m \u001b[0;32mfrom\u001b[0m \u001b[0mexc\u001b[0m\u001b[0;34m\u001b[0m\u001b[0;34m\u001b[0m\u001b[0m\n\u001b[0m\u001b[1;32m   2092\u001b[0m \u001b[0;34m\u001b[0m\u001b[0m\n\u001b[1;32m   2093\u001b[0m     \u001b[0;32mdef\u001b[0m \u001b[0m__getitem__\u001b[0m\u001b[0;34m(\u001b[0m\u001b[0mself\u001b[0m\u001b[0;34m,\u001b[0m \u001b[0mname\u001b[0m\u001b[0;34m)\u001b[0m\u001b[0;34m:\u001b[0m\u001b[0;34m\u001b[0m\u001b[0;34m\u001b[0m\u001b[0m\n",
      "\u001b[0;31mAttributeError\u001b[0m: query {\n} has no field faro_items_by_play_urn"
     ]
    }
   ],
   "source": [
    "# select query type and configure with argument\n",
    "faro = op.faro_items_by_play_urn(urns=['urn:srf:video:00025f95-2437-4dc3-a15a-44e5d2fa1d37'])"
   ]
  },
  {
   "cell_type": "markdown",
   "id": "vertical-field",
   "metadata": {},
   "source": [
    "## 4. Select fields of interest"
   ]
  },
  {
   "cell_type": "code",
   "execution_count": 7,
   "id": "impressed-conviction",
   "metadata": {},
   "outputs": [
    {
     "output_type": "execute_result",
     "data": {
      "text/plain": [
       "bu"
      ]
     },
     "metadata": {},
     "execution_count": 7
    }
   ],
   "source": [
    "# select fields to be retured\n",
    "faro.program.id()\n",
    "faro.program.bu()"
   ]
  },
  {
   "cell_type": "code",
   "execution_count": 8,
   "id": "lovely-accuracy",
   "metadata": {},
   "outputs": [
    {
     "output_type": "execute_result",
     "data": {
      "text/plain": [
       "query {\n",
       "  faroItemsByPlayUrn(urns: [\"urn:srf:video:00025f95-2437-4dc3-a15a-44e5d2fa1d37\"]) {\n",
       "    program {\n",
       "      id\n",
       "      bu\n",
       "    }\n",
       "  }\n",
       "}"
      ]
     },
     "metadata": {},
     "execution_count": 8
    }
   ],
   "source": [
    "# return current query\n",
    "op"
   ]
  },
  {
   "cell_type": "markdown",
   "id": "greenhouse-contractor",
   "metadata": {},
   "source": [
    "## 5. Retrieve the data"
   ]
  },
  {
   "cell_type": "code",
   "execution_count": 9,
   "id": "scientific-finish",
   "metadata": {},
   "outputs": [
    {
     "output_type": "stream",
     "name": "stderr",
     "text": [
      "https://graphql-api.pdp.int.srgssr.ch/graphql: HTTP Error 406: Not Acceptable\n",
      "HTTP Error 406: Not Acceptable\n"
     ]
    },
    {
     "output_type": "error",
     "ename": "SystemExit",
     "evalue": "Request returned with errors!",
     "traceback": [
      "An exception has occurred, use %tb to see the full traceback.\n",
      "\u001b[0;31mSystemExit\u001b[0m\u001b[0;31m:\u001b[0m Request returned with errors!\n"
     ]
    }
   ],
   "source": [
    "# run query and retrieve data\n",
    "data = client.run_query(op)"
   ]
  },
  {
   "cell_type": "code",
   "execution_count": 10,
   "id": "acting-windsor",
   "metadata": {},
   "outputs": [
    {
     "output_type": "error",
     "ename": "NameError",
     "evalue": "name 'data' is not defined",
     "traceback": [
      "\u001b[0;31m---------------------------------------------------------------------------\u001b[0m",
      "\u001b[0;31mNameError\u001b[0m                                 Traceback (most recent call last)",
      "\u001b[0;32m<ipython-input-10-2f058bcaa6a5>\u001b[0m in \u001b[0;36m<module>\u001b[0;34m\u001b[0m\n\u001b[1;32m      1\u001b[0m \u001b[0;31m# display raw data (json)\u001b[0m\u001b[0;34m\u001b[0m\u001b[0;34m\u001b[0m\u001b[0;34m\u001b[0m\u001b[0m\n\u001b[0;32m----> 2\u001b[0;31m \u001b[0mdata\u001b[0m\u001b[0;34m\u001b[0m\u001b[0;34m\u001b[0m\u001b[0m\n\u001b[0m",
      "\u001b[0;31mNameError\u001b[0m: name 'data' is not defined"
     ]
    }
   ],
   "source": [
    "# display raw data (json)\n",
    "data"
   ]
  },
  {
   "cell_type": "code",
   "execution_count": 11,
   "id": "comic-material",
   "metadata": {},
   "outputs": [
    {
     "output_type": "error",
     "ename": "NameError",
     "evalue": "name 'data' is not defined",
     "traceback": [
      "\u001b[0;31m---------------------------------------------------------------------------\u001b[0m",
      "\u001b[0;31mNameError\u001b[0m                                 Traceback (most recent call last)",
      "\u001b[0;32m<ipython-input-11-3791cd3e12fc>\u001b[0m in \u001b[0;36m<module>\u001b[0;34m\u001b[0m\n\u001b[1;32m      1\u001b[0m \u001b[0;31m# convert again to object oriented results\u001b[0m\u001b[0;34m\u001b[0m\u001b[0;34m\u001b[0m\u001b[0;34m\u001b[0m\u001b[0m\n\u001b[0;32m----> 2\u001b[0;31m \u001b[0mresults\u001b[0m \u001b[0;34m=\u001b[0m \u001b[0;34m(\u001b[0m\u001b[0mop\u001b[0m \u001b[0;34m+\u001b[0m \u001b[0mdata\u001b[0m\u001b[0;34m)\u001b[0m\u001b[0;34m.\u001b[0m\u001b[0mfaro_items_by_play_urn\u001b[0m\u001b[0;34m\u001b[0m\u001b[0;34m\u001b[0m\u001b[0m\n\u001b[0m",
      "\u001b[0;31mNameError\u001b[0m: name 'data' is not defined"
     ]
    }
   ],
   "source": [
    "# convert again to object oriented results\n",
    "results = (op + data).faro_items_by_play_urn"
   ]
  },
  {
   "cell_type": "code",
   "execution_count": 13,
   "id": "solar-ethnic",
   "metadata": {},
   "outputs": [
    {
     "data": {
      "text/plain": [
       "[FaroItem(program=FaroProgram(id='5a5b58fe-4ac7-4db8-87a4-899e27f3b826', bu='srf'))]"
      ]
     },
     "execution_count": 13,
     "metadata": {},
     "output_type": "execute_result"
    }
   ],
   "source": [
    "# display object transformed data\n",
    "results"
   ]
  },
  {
   "cell_type": "code",
   "execution_count": 14,
   "id": "sharp-wells",
   "metadata": {},
   "outputs": [
    {
     "data": {
      "text/plain": [
       "type FaroProgram {\n",
       "  id: String!\n",
       "  bu: String\n",
       "  mediaType: String\n",
       "  episodeIds: [String!]!\n",
       "  sTit: String\n",
       "  sDatStart: String\n",
       "  sGef: String\n",
       "  pTit: String\n",
       "  department: String\n",
       "  workgroup: String\n",
       "  seriesNr: Int\n",
       "  moderators: [FaroModerator!]!\n",
       "  itemPage(first: Int!, after: String): FaroItemPage!\n",
       "  playEpisodes: [PlayEpisode!]!\n",
       "}"
      ]
     },
     "execution_count": 14,
     "metadata": {},
     "output_type": "execute_result"
    }
   ],
   "source": [
    "# discover data types\n",
    "type(results[0].program)"
   ]
  },
  {
   "cell_type": "code",
   "execution_count": 15,
   "id": "understanding-summary",
   "metadata": {},
   "outputs": [
    {
     "name": "stdout",
     "output_type": "stream",
     "text": [
      "The program business unit of the first result is: srf\n"
     ]
    }
   ],
   "source": [
    "# return data\n",
    "print(f'The program business unit of the first result is: {results[0].program.bu}')"
   ]
  }
 ],
 "metadata": {
  "kernelspec": {
   "display_name": "Python 3",
   "language": "python",
   "name": "python3"
  },
  "language_info": {
   "codemirror_mode": {
    "name": "ipython",
    "version": 3
   },
   "file_extension": ".py",
   "mimetype": "text/x-python",
   "name": "python",
   "nbconvert_exporter": "python",
   "pygments_lexer": "ipython3",
   "version": "3.8.7-final"
  }
 },
 "nbformat": 4,
 "nbformat_minor": 5
}