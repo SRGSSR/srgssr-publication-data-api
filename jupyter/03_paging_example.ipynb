{
 "cells": [
  {
   "cell_type": "markdown",
   "id": "administrative-savage",
   "metadata": {},
   "source": [
    "# Example 3: Query multiple items using paging\n",
    "See more about paging here: https://graphql.org/learn/pagination/"
   ]
  },
  {
   "cell_type": "code",
   "execution_count": 1,
   "id": "legislative-turtle",
   "metadata": {},
   "outputs": [],
   "source": [
    "import sys\n",
    "from sgqlc.operation import Operation\n",
    "from pdp_schema import pdp_schema as schema\n",
    "from pdp_graphql_client_python import client"
   ]
  },
  {
   "cell_type": "markdown",
   "id": "immediate-overhead",
   "metadata": {},
   "source": [
    "## 1. Set the API endpoint\n",
    "Ensure the endpoint is set to the PDP (FARO) schema on INT"
   ]
  },
  {
   "cell_type": "code",
   "execution_count": 2,
   "id": "retired-egypt",
   "metadata": {},
   "outputs": [
    {
     "name": "stdout",
     "output_type": "stream",
     "text": [
      "env: PDP_API=https://graphql-api.pdp.int.srgssr.ch/graphql\n"
     ]
    }
   ],
   "source": [
    "%set_env PDP_API=https://graphql-api.pdp.int.srgssr.ch/graphql"
   ]
  },
  {
   "cell_type": "markdown",
   "id": "athletic-internet",
   "metadata": {},
   "source": [
    "## 2. Show available queries"
   ]
  },
  {
   "cell_type": "code",
   "execution_count": 3,
   "id": "linear-check",
   "metadata": {},
   "outputs": [
    {
     "data": {
      "text/plain": [
       "type Query {\n",
       "  faroProgramPage(first: Int!, after: String): FaroProgramPage!\n",
       "  faroPrograms(ids: [String!]!): [FaroProgram]!\n",
       "  randomFaroPrograms: [FaroProgram!]!\n",
       "  faroItemPage(first: Int!, after: String): FaroItemPage!\n",
       "  faroItems(ids: [String!]!): [FaroItem]!\n",
       "  faroItemsByPlayUrn(urns: [String!]!): [FaroItem]!\n",
       "  faroItemsByPlayUrnGraphDb(urns: [String!]!): [FaroItem]!\n",
       "  randomFaroItems: [FaroItem!]!\n",
       "}"
      ]
     },
     "execution_count": 3,
     "metadata": {},
     "output_type": "execute_result"
    }
   ],
   "source": [
    "# *Page queries allow for paging\n",
    "# first=[number of queries to retrieve, e.g. *first* 10 queries]\n",
    "# after=[id or cursor position from which to start]\n",
    "schema.Query"
   ]
  },
  {
   "cell_type": "markdown",
   "id": "adjustable-thursday",
   "metadata": {},
   "source": [
    "## 3. Configure the query operation with paging\n",
    "To query pages programmatically we parametrize the query"
   ]
  },
  {
   "cell_type": "code",
   "execution_count": 4,
   "id": "proper-intro",
   "metadata": {},
   "outputs": [],
   "source": [
    "from sgqlc.types import Variable, non_null\n",
    "\n",
    "op = Operation(schema.Query, name='PagingQuery', variables={'first':non_null(int), 'after':str})"
   ]
  },
  {
   "cell_type": "code",
   "execution_count": 5,
   "id": "supreme-friend",
   "metadata": {},
   "outputs": [
    {
     "data": {
      "text/plain": [
       "query PagingQuery($first: Int!, $after: String) {\n",
       "}"
      ]
     },
     "execution_count": 5,
     "metadata": {},
     "output_type": "execute_result"
    }
   ],
   "source": [
    "# return current query (empty)\n",
    "op"
   ]
  },
  {
   "cell_type": "code",
   "execution_count": 6,
   "id": "endangered-convention",
   "metadata": {},
   "outputs": [],
   "source": [
    "# select query type and configure with argument\n",
    "faro = op.faro_program_page(first=Variable('first'), after=Variable('after'))"
   ]
  },
  {
   "cell_type": "code",
   "execution_count": 7,
   "id": "inappropriate-puzzle",
   "metadata": {},
   "outputs": [
    {
     "data": {
      "text/plain": [
       "query PagingQuery($first: Int!, $after: String) {\n",
       "  faroProgramPage(first: $first, after: $after) {\n",
       "    edges {\n",
       "      id\n",
       "      bu\n",
       "      mediaType\n",
       "      episodeIds\n",
       "      sTit\n",
       "      sDatStart\n",
       "      sGef\n",
       "      pTit\n",
       "      department\n",
       "      workgroup\n",
       "      seriesNr\n",
       "    }\n",
       "    cursor\n",
       "  }\n",
       "}"
      ]
     },
     "execution_count": 7,
     "metadata": {},
     "output_type": "execute_result"
    }
   ],
   "source": [
    "# return current query (empty)\n",
    "op"
   ]
  },
  {
   "cell_type": "markdown",
   "id": "musical-lawrence",
   "metadata": {},
   "source": [
    "## 4. Select fields of interest"
   ]
  },
  {
   "cell_type": "code",
   "execution_count": 8,
   "id": "impressed-conviction",
   "metadata": {},
   "outputs": [
    {
     "data": {
      "text/plain": [
       "cursor"
      ]
     },
     "execution_count": 8,
     "metadata": {},
     "output_type": "execute_result"
    }
   ],
   "source": [
    "# select fields to be retured\n",
    "faro.edges.id()\n",
    "faro.edges.media_type()\n",
    "faro.edges.s_dat_start()\n",
    "faro.edges.s_gef()\n",
    "faro.edges.s_tit()\n",
    "faro.edges.series_nr()\n",
    "faro.cursor()"
   ]
  },
  {
   "cell_type": "code",
   "execution_count": 9,
   "id": "lovely-accuracy",
   "metadata": {},
   "outputs": [
    {
     "data": {
      "text/plain": [
       "query PagingQuery($first: Int!, $after: String) {\n",
       "  faroProgramPage(first: $first, after: $after) {\n",
       "    edges {\n",
       "      id\n",
       "      mediaType\n",
       "      sDatStart\n",
       "      sGef\n",
       "      sTit\n",
       "      seriesNr\n",
       "    }\n",
       "    cursor\n",
       "  }\n",
       "}"
      ]
     },
     "execution_count": 9,
     "metadata": {},
     "output_type": "execute_result"
    }
   ],
   "source": [
    "# return current query\n",
    "op"
   ]
  },
  {
   "cell_type": "markdown",
   "id": "noticed-music",
   "metadata": {},
   "source": [
    "## 5. Retrieve the data"
   ]
  },
  {
   "cell_type": "code",
   "execution_count": 10,
   "id": "preliminary-adrian",
   "metadata": {},
   "outputs": [],
   "source": [
    "# constants\n",
    "page_size = 100\n",
    "page_requests = 100"
   ]
  },
  {
   "cell_type": "code",
   "execution_count": 11,
   "id": "shared-universe",
   "metadata": {},
   "outputs": [],
   "source": [
    "# initialize with first query\n",
    "data = client.run_query(op, {'first':page_size})\n",
    "\n",
    "results = (op + data).faro_program_page\n",
    "\n",
    "if not results.edges:\n",
    "    print('No items!', file=sys.stderr)\n",
    "    raise SystemExit()"
   ]
  },
  {
   "cell_type": "code",
   "execution_count": 12,
   "id": "scientific-finish",
   "metadata": {},
   "outputs": [
    {
     "data": {
      "application/vnd.jupyter.widget-view+json": {
       "model_id": "060c216db4ec448d923105c5ae2b366e",
       "version_major": 2,
       "version_minor": 0
      },
      "text/plain": [
       "Downloading data:   0%|          | 0/100 [00:00<?, ?it/s]"
      ]
     },
     "metadata": {},
     "output_type": "display_data"
    }
   ],
   "source": [
    "from tqdm.notebook import tnrange\n",
    "for i in tnrange(page_requests, desc=\"Downloading data\"):\n",
    "    # query page\n",
    "    data = client.run_query(op, {'first':page_size, 'after':results.cursor})\n",
    "    \n",
    "    # convert page to object oriented results\n",
    "    page = (op + data).faro_program_page\n",
    "\n",
    "    # extract new edges and update cursor\n",
    "    results.edges += page.edges\n",
    "    results.cursor = page.cursor"
   ]
  },
  {
   "cell_type": "code",
   "execution_count": 13,
   "id": "acting-windsor",
   "metadata": {},
   "outputs": [
    {
     "name": "stdout",
     "output_type": "stream",
     "text": [
      "INFO - Retrieved 10,100 FaroItems\n"
     ]
    }
   ],
   "source": [
    "print(f'INFO - Retrieved {len(results.edges):,} FaroItems')"
   ]
  },
  {
   "cell_type": "markdown",
   "id": "egyptian-probe",
   "metadata": {},
   "source": [
    "## 6. Plot the year distribution of first display"
   ]
  },
  {
   "cell_type": "code",
   "execution_count": 14,
   "id": "understanding-summary",
   "metadata": {},
   "outputs": [],
   "source": [
    "from collections import Counter\n",
    "from datetime import date\n",
    "\n",
    "# count year occurrences\n",
    "c = Counter(date.fromisoformat(x.s_dat_start).year for x in results.edges if x.s_dat_start)"
   ]
  },
  {
   "cell_type": "code",
   "execution_count": 15,
   "id": "improved-honey",
   "metadata": {},
   "outputs": [],
   "source": [
    "import matplotlib.pyplot as plt\n",
    "%matplotlib inline\n",
    "plt.rcParams['figure.figsize'] = (20, 10)"
   ]
  },
  {
   "cell_type": "code",
   "execution_count": 16,
   "id": "hourly-russia",
   "metadata": {},
   "outputs": [
    {
     "data": {
      "image/png": "[encoded data removed]",
      "text/plain": [
       "<Figure size 1440x720 with 1 Axes>"
      ]
     },
     "metadata": {},
     "output_type": "display_data"
    }
   ],
   "source": [
    "with plt.style.context('fivethirtyeight'):\n",
    "    plt.bar(c.keys(), c.values())"
   ]
  },
  {
   "cell_type": "markdown",
   "id": "independent-selling",
   "metadata": {},
   "source": [
    "## 7. Load data into a `pandas` dataframe"
   ]
  },
  {
   "cell_type": "code",
   "execution_count": 17,
   "id": "ideal-pharmacy",
   "metadata": {},
   "outputs": [],
   "source": [
    "import pandas as pd"
   ]
  },
  {
   "cell_type": "code",
   "execution_count": 18,
   "id": "considerable-passenger",
   "metadata": {},
   "outputs": [
    {
     "data": {
      "text/plain": [
       "OrderedDict([('id', id: String!),\n",
       "             ('media_type', mediaType: String),\n",
       "             ('s_dat_start', sDatStart: String),\n",
       "             ('s_gef', sGef: String),\n",
       "             ('s_tit', sTit: String),\n",
       "             ('series_nr', seriesNr: Int)])"
      ]
     },
     "execution_count": 18,
     "metadata": {},
     "output_type": "execute_result"
    }
   ],
   "source": [
    "results.edges[0].__fields_cache__"
   ]
  },
  {
   "cell_type": "code",
   "execution_count": 19,
   "id": "applied-skiing",
   "metadata": {},
   "outputs": [],
   "source": [
    "# todo: find better way to import data into pandas\n",
    "df = pd.DataFrame([x.__json_data__ for x in results.edges])"
   ]
  },
  {
   "cell_type": "code",
   "execution_count": 20,
   "id": "homeless-bottle",
   "metadata": {},
   "outputs": [
    {
     "data": {
      "text/html": [
       "<div>\n",
       "<style scoped>\n",
       "    .dataframe tbody tr th:only-of-type {\n",
       "        vertical-align: middle;\n",
       "    }\n",
       "\n",
       "    .dataframe tbody tr th {\n",
       "        vertical-align: top;\n",
       "    }\n",
       "\n",
       "    .dataframe thead th {\n",
       "        text-align: right;\n",
       "    }\n",
       "</style>\n",
       "<table border=\"1\" class=\"dataframe\">\n",
       "  <thead>\n",
       "    <tr style=\"text-align: right;\">\n",
       "      <th></th>\n",
       "      <th>sGef</th>\n",
       "      <th>sTit</th>\n",
       "      <th>mediaType</th>\n",
       "      <th>sDatStart</th>\n",
       "      <th>seriesNr</th>\n",
       "      <th>id</th>\n",
       "    </tr>\n",
       "  </thead>\n",
       "  <tbody>\n",
       "    <tr>\n",
       "      <th>0</th>\n",
       "      <td>Doppelpunkt</td>\n",
       "      <td>None</td>\n",
       "      <td>audio</td>\n",
       "      <td>1994-06-26</td>\n",
       "      <td>0.0</td>\n",
       "      <td>00000d68-1776-4355-b437-29f33219f956</td>\n",
       "    </tr>\n",
       "    <tr>\n",
       "      <th>1</th>\n",
       "      <td>None</td>\n",
       "      <td>None</td>\n",
       "      <td>audio</td>\n",
       "      <td>2012-11-26</td>\n",
       "      <td>NaN</td>\n",
       "      <td>00001741-a812-44ad-aad4-f235af1258f9</td>\n",
       "    </tr>\n",
       "    <tr>\n",
       "      <th>2</th>\n",
       "      <td>Oz</td>\n",
       "      <td>Contribuziun</td>\n",
       "      <td>audio</td>\n",
       "      <td>2006-11-21</td>\n",
       "      <td>NaN</td>\n",
       "      <td>00002453-5e11-4818-a9f0-abaeeb948e8b</td>\n",
       "    </tr>\n",
       "    <tr>\n",
       "      <th>3</th>\n",
       "      <td>None</td>\n",
       "      <td>None</td>\n",
       "      <td>audio</td>\n",
       "      <td>2012-09-28</td>\n",
       "      <td>NaN</td>\n",
       "      <td>00002561-ad3d-4bff-a9ae-1fe06901cc29</td>\n",
       "    </tr>\n",
       "    <tr>\n",
       "      <th>4</th>\n",
       "      <td>None</td>\n",
       "      <td>None</td>\n",
       "      <td>None</td>\n",
       "      <td>None</td>\n",
       "      <td>0.0</td>\n",
       "      <td>000042a5-b7bd-4787-a6ce-dd0fd96e2613</td>\n",
       "    </tr>\n",
       "    <tr>\n",
       "      <th>...</th>\n",
       "      <td>...</td>\n",
       "      <td>...</td>\n",
       "      <td>...</td>\n",
       "      <td>...</td>\n",
       "      <td>...</td>\n",
       "      <td>...</td>\n",
       "    </tr>\n",
       "    <tr>\n",
       "      <th>10095</th>\n",
       "      <td>None</td>\n",
       "      <td>None</td>\n",
       "      <td>video</td>\n",
       "      <td>None</td>\n",
       "      <td>0.0</td>\n",
       "      <td>01872173-07b4-40de-b534-2589f8f621d6</td>\n",
       "    </tr>\n",
       "    <tr>\n",
       "      <th>10096</th>\n",
       "      <td>None</td>\n",
       "      <td>None</td>\n",
       "      <td>audio</td>\n",
       "      <td>2008-04-07</td>\n",
       "      <td>NaN</td>\n",
       "      <td>018728e9-8c8c-4bc4-95dd-5e678eed5c0e</td>\n",
       "    </tr>\n",
       "    <tr>\n",
       "      <th>10097</th>\n",
       "      <td>100 Sekunden Wissen</td>\n",
       "      <td>None</td>\n",
       "      <td>audio</td>\n",
       "      <td>2015-04-29</td>\n",
       "      <td>NaN</td>\n",
       "      <td>01872be6-3d4c-4e40-966c-8475039806a6</td>\n",
       "    </tr>\n",
       "    <tr>\n",
       "      <th>10098</th>\n",
       "      <td>None</td>\n",
       "      <td>Urban Gardening</td>\n",
       "      <td>video</td>\n",
       "      <td>2015-07-23</td>\n",
       "      <td>3.0</td>\n",
       "      <td>01872c72-ac9e-4045-b91f-4f56045f3e61</td>\n",
       "    </tr>\n",
       "    <tr>\n",
       "      <th>10099</th>\n",
       "      <td>None</td>\n",
       "      <td>None</td>\n",
       "      <td>audio</td>\n",
       "      <td>2019-05-10</td>\n",
       "      <td>0.0</td>\n",
       "      <td>018741d3-81e7-465a-8285-cb922ee840fe</td>\n",
       "    </tr>\n",
       "  </tbody>\n",
       "</table>\n",
       "<p>10100 rows × 6 columns</p>\n",
       "</div>"
      ],
      "text/plain": [
       "                      sGef              sTit mediaType   sDatStart  seriesNr  \\\n",
       "0              Doppelpunkt              None     audio  1994-06-26       0.0   \n",
       "1                     None              None     audio  2012-11-26       NaN   \n",
       "2                       Oz      Contribuziun     audio  2006-11-21       NaN   \n",
       "3                     None              None     audio  2012-09-28       NaN   \n",
       "4                     None              None      None        None       0.0   \n",
       "...                    ...               ...       ...         ...       ...   \n",
       "10095                 None              None     video        None       0.0   \n",
       "10096                 None              None     audio  2008-04-07       NaN   \n",
       "10097  100 Sekunden Wissen              None     audio  2015-04-29       NaN   \n",
       "10098                 None  Urban Gardening      video  2015-07-23       3.0   \n",
       "10099                 None              None     audio  2019-05-10       0.0   \n",
       "\n",
       "                                         id  \n",
       "0      00000d68-1776-4355-b437-29f33219f956  \n",
       "1      00001741-a812-44ad-aad4-f235af1258f9  \n",
       "2      00002453-5e11-4818-a9f0-abaeeb948e8b  \n",
       "3      00002561-ad3d-4bff-a9ae-1fe06901cc29  \n",
       "4      000042a5-b7bd-4787-a6ce-dd0fd96e2613  \n",
       "...                                     ...  \n",
       "10095  01872173-07b4-40de-b534-2589f8f621d6  \n",
       "10096  018728e9-8c8c-4bc4-95dd-5e678eed5c0e  \n",
       "10097  01872be6-3d4c-4e40-966c-8475039806a6  \n",
       "10098  01872c72-ac9e-4045-b91f-4f56045f3e61  \n",
       "10099  018741d3-81e7-465a-8285-cb922ee840fe  \n",
       "\n",
       "[10100 rows x 6 columns]"
      ]
     },
     "execution_count": 20,
     "metadata": {},
     "output_type": "execute_result"
    }
   ],
   "source": [
    "df"
   ]
  },
  {
   "cell_type": "code",
   "execution_count": null,
   "id": "automated-alberta",
   "metadata": {},
   "outputs": [],
   "source": []
  }
 ],
 "metadata": {
  "kernelspec": {
   "display_name": "Python 3",
   "language": "python",
   "name": "python3"
  },
  "language_info": {
   "codemirror_mode": {
    "name": "ipython",
    "version": 3
   },
   "file_extension": ".py",
   "mimetype": "text/x-python",
   "name": "python",
   "nbconvert_exporter": "python",
   "pygments_lexer": "ipython3",
   "version": "3.9.1"
  }
 },
 "nbformat": 4,
 "nbformat_minor": 5
}
