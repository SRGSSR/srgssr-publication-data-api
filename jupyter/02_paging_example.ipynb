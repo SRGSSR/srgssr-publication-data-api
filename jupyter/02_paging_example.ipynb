{
 "cells": [
  {
   "cell_type": "markdown",
   "id": "7c132e89",
   "metadata": {},
   "source": [
    "# Example 2: Query multiple items using paging\n",
    "See more about paging here: https://graphql.org/learn/pagination/"
   ]
  },
  {
   "cell_type": "code",
   "execution_count": 3,
   "id": "777aec19",
   "metadata": {},
   "outputs": [],
   "source": [
    "from srgssr_publication_data_api import PublicationDataApi\n",
    "import os"
   ]
  },
  {
   "cell_type": "markdown",
   "id": "c273d972",
   "metadata": {},
   "source": [
    "## 1. Check the API endpoint and initialize client"
   ]
  },
  {
   "cell_type": "code",
   "execution_count": 5,
   "id": "7bc719ca",
   "metadata": {},
   "outputs": [
    {
     "data": {
      "text/plain": [
       "'https://graphql-api.pdp.dev.srgssr.ch/graphql'"
      ]
     },
     "execution_count": 5,
     "metadata": {},
     "output_type": "execute_result"
    }
   ],
   "source": [
    "%env PDP_API"
   ]
  },
  {
   "cell_type": "code",
   "execution_count": 6,
   "id": "6bc1161a",
   "metadata": {},
   "outputs": [],
   "source": [
    "client = PublicationDataApi(os.environ['PDP_API'], os.environ['USER_NAME'], os.environ['USER_PASSWORD'])"
   ]
  },
  {
   "cell_type": "markdown",
   "id": "7daa0db6",
   "metadata": {},
   "source": [
    "## 2. Show available queries"
   ]
  },
  {
   "cell_type": "code",
   "execution_count": 8,
   "id": "b26fc0e0",
   "metadata": {},
   "outputs": [
    {
     "data": {
      "text/plain": [
       "type Query {\n",
       "  faroItems(first: Int!, after: String): FaroItemPage!\n",
       "}"
      ]
     },
     "execution_count": 8,
     "metadata": {},
     "output_type": "execute_result"
    }
   ],
   "source": [
    "# first=[number of queries to retrieve, e.g. *first* 10 queries]\n",
    "# after=[id or cursor position from which to start]\n",
    "client.schema.Query"
   ]
  },
  {
   "cell_type": "markdown",
   "id": "5984591b",
   "metadata": {},
   "source": [
    "## 3. Configure the query operation with paging\n",
    "To query pages programmatically we parametrize the query"
   ]
  },
  {
   "cell_type": "code",
   "execution_count": 9,
   "id": "74d142f2",
   "metadata": {},
   "outputs": [],
   "source": [
    "from sgqlc.types import Variable, non_null\n",
    "\n",
    "op = client.query_op(name='faroItems', variables={'first':non_null(int), 'after':str})"
   ]
  },
  {
   "cell_type": "code",
   "execution_count": 10,
   "id": "60cf6bb5",
   "metadata": {},
   "outputs": [
    {
     "data": {
      "text/plain": [
       "query faroItems($first: Int!, $after: String) {\n",
       "}"
      ]
     },
     "execution_count": 10,
     "metadata": {},
     "output_type": "execute_result"
    }
   ],
   "source": [
    "# return current query (empty)\n",
    "op"
   ]
  },
  {
   "cell_type": "code",
   "execution_count": 11,
   "id": "5d0d8969",
   "metadata": {},
   "outputs": [],
   "source": [
    "# select query type and configure with argument\n",
    "faro = op.faro_items(first=Variable('first'), after=Variable('after'))"
   ]
  },
  {
   "cell_type": "code",
   "execution_count": 12,
   "id": "7fbb6115",
   "metadata": {},
   "outputs": [
    {
     "data": {
      "text/plain": [
       "query faroItems($first: Int!, $after: String) {\n",
       "  faroItems(first: $first, after: $after) {\n",
       "    edges {\n",
       "      id\n",
       "      programId\n",
       "      itemNr\n",
       "      mediaUrns\n",
       "      playLinks\n",
       "      descriptorPaths\n",
       "      title\n",
       "      producer\n",
       "      description\n",
       "      descriptor\n",
       "    }\n",
       "    cursor\n",
       "  }\n",
       "}"
      ]
     },
     "execution_count": 12,
     "metadata": {},
     "output_type": "execute_result"
    }
   ],
   "source": [
    "# return current query (configured)\n",
    "op"
   ]
  },
  {
   "cell_type": "markdown",
   "id": "6e8f67b9",
   "metadata": {},
   "source": [
    "## 4. Select fields of interest"
   ]
  },
  {
   "cell_type": "code",
   "execution_count": 24,
   "id": "2fbfe021",
   "metadata": {},
   "outputs": [
    {
     "data": {
      "text/plain": [
       "cursor"
      ]
     },
     "execution_count": 24,
     "metadata": {},
     "output_type": "execute_result"
    }
   ],
   "source": [
    "# select fields to be retured\n",
    "faro.edges.id()\n",
    "faro.edges.program.date()\n",
    "faro.edges.program.title()\n",
    "faro.edges.producer()\n",
    "faro.cursor()"
   ]
  },
  {
   "cell_type": "code",
   "execution_count": 25,
   "id": "f6668497",
   "metadata": {},
   "outputs": [
    {
     "data": {
      "text/plain": [
       "query faroItems($first: Int!, $after: String) {\n",
       "  faroItems(first: $first, after: $after) {\n",
       "    edges {\n",
       "      id\n",
       "      title\n",
       "      producer\n",
       "      program {\n",
       "        date\n",
       "        title\n",
       "      }\n",
       "    }\n",
       "    cursor\n",
       "  }\n",
       "}"
      ]
     },
     "execution_count": 25,
     "metadata": {},
     "output_type": "execute_result"
    }
   ],
   "source": [
    "# return current query\n",
    "op"
   ]
  },
  {
   "cell_type": "markdown",
   "id": "c287e518",
   "metadata": {},
   "source": [
    "## 5. Retrieve the data"
   ]
  },
  {
   "cell_type": "code",
   "execution_count": 26,
   "id": "e55899dd",
   "metadata": {},
   "outputs": [],
   "source": [
    "# constants\n",
    "page_size = 100\n",
    "page_requests = 100"
   ]
  },
  {
   "cell_type": "code",
   "execution_count": 27,
   "id": "aabf7fa5",
   "metadata": {},
   "outputs": [],
   "source": [
    "# initialize with first query\n",
    "data = client.run_query(op, {'first':page_size})\n",
    "\n",
    "results = data.faro_items\n",
    "\n",
    "if not results.edges:\n",
    "    print('No items!', file=sys.stderr)\n",
    "    raise SystemExit()"
   ]
  },
  {
   "cell_type": "code",
   "execution_count": 28,
   "id": "130f5c4c",
   "metadata": {},
   "outputs": [
    {
     "data": {
      "application/vnd.jupyter.widget-view+json": {
       "model_id": "9273fd849e2d4d50936a558ade791eaa",
       "version_major": 2,
       "version_minor": 0
      },
      "text/plain": [
       "Downloading data:   0%|          | 0/100 [00:00<?, ?it/s]"
      ]
     },
     "metadata": {},
     "output_type": "display_data"
    }
   ],
   "source": [
    "from tqdm.notebook import tnrange\n",
    "for i in tnrange(page_requests, desc=\"Downloading data\"):\n",
    "    # query page\n",
    "    data = client.run_query(op, {'first':page_size, 'after':results.cursor})\n",
    "    \n",
    "    # convert page to object oriented results\n",
    "    page = data.faro_items\n",
    "\n",
    "    # extract new edges and update cursor\n",
    "    results.edges += page.edges\n",
    "    results.cursor = page.cursor"
   ]
  },
  {
   "cell_type": "code",
   "execution_count": 29,
   "id": "27f892d6",
   "metadata": {},
   "outputs": [
    {
     "name": "stdout",
     "output_type": "stream",
     "text": [
      "INFO - Retrieved 10,100 FaroItems\n"
     ]
    }
   ],
   "source": [
    "print(f'INFO - Retrieved {len(results.edges):,} FaroItems')"
   ]
  },
  {
   "cell_type": "markdown",
   "id": "8f979627",
   "metadata": {},
   "source": [
    "## 6. Plot the year distribution of first display"
   ]
  },
  {
   "cell_type": "code",
   "execution_count": 30,
   "id": "a3bce253",
   "metadata": {},
   "outputs": [],
   "source": [
    "from collections import Counter\n",
    "from datetime import date\n",
    "\n",
    "# count year occurrences\n",
    "c = Counter(date.fromisoformat(x.program.date).year for x in results.edges if x.program.date)"
   ]
  },
  {
   "cell_type": "code",
   "execution_count": 31,
   "id": "2a2ddfd1",
   "metadata": {},
   "outputs": [],
   "source": [
    "import matplotlib.pyplot as plt\n",
    "%matplotlib inline\n",
    "plt.rcParams['figure.figsize'] = (20, 10)"
   ]
  },
  {
   "cell_type": "code",
   "execution_count": 32,
   "id": "da546114",
   "metadata": {},
   "outputs": [
    {
     "data": {
      "image/png": "[encoded data removed]",
      "text/plain": [
       "<Figure size 1440x720 with 1 Axes>"
      ]
     },
     "metadata": {},
     "output_type": "display_data"
    }
   ],
   "source": [
    "with plt.style.context('fivethirtyeight'):\n",
    "    plt.bar(c.keys(), c.values())"
   ]
  },
  {
   "cell_type": "markdown",
   "id": "177ecfe3",
   "metadata": {},
   "source": [
    "## 7. Load data into a `pandas` dataframe"
   ]
  },
  {
   "cell_type": "code",
   "execution_count": 33,
   "id": "986aaa88",
   "metadata": {},
   "outputs": [],
   "source": [
    "import pandas as pd"
   ]
  },
  {
   "cell_type": "code",
   "execution_count": 34,
   "id": "deba2749",
   "metadata": {},
   "outputs": [
    {
     "data": {
      "text/plain": [
       "OrderedDict([('id', id: String!),\n",
       "             ('title', title: String),\n",
       "             ('producer', producer: String),\n",
       "             ('program', program: FaroProgram)])"
      ]
     },
     "execution_count": 34,
     "metadata": {},
     "output_type": "execute_result"
    }
   ],
   "source": [
    "results.edges[0].__fields_cache__"
   ]
  },
  {
   "cell_type": "code",
   "execution_count": 35,
   "id": "f433003c",
   "metadata": {},
   "outputs": [],
   "source": [
    "# todo: find better way to import data into pandas\n",
    "df = pd.DataFrame([x.__json_data__ for x in results.edges])"
   ]
  },
  {
   "cell_type": "code",
   "execution_count": 36,
   "id": "79dbc08b",
   "metadata": {},
   "outputs": [
    {
     "data": {
      "text/html": [
       "<div>\n",
       "<style scoped>\n",
       "    .dataframe tbody tr th:only-of-type {\n",
       "        vertical-align: middle;\n",
       "    }\n",
       "\n",
       "    .dataframe tbody tr th {\n",
       "        vertical-align: top;\n",
       "    }\n",
       "\n",
       "    .dataframe thead th {\n",
       "        text-align: right;\n",
       "    }\n",
       "</style>\n",
       "<table border=\"1\" class=\"dataframe\">\n",
       "  <thead>\n",
       "    <tr style=\"text-align: right;\">\n",
       "      <th></th>\n",
       "      <th>id</th>\n",
       "      <th>title</th>\n",
       "      <th>producer</th>\n",
       "      <th>program</th>\n",
       "    </tr>\n",
       "  </thead>\n",
       "  <tbody>\n",
       "    <tr>\n",
       "      <th>0</th>\n",
       "      <td>00000703-a68b-43fd-a7c4-796f464f4f69</td>\n",
       "      <td>EW Ferrera</td>\n",
       "      <td>TvR</td>\n",
       "      <td>{'date': '1998-11-13', 'title': None}</td>\n",
       "    </tr>\n",
       "    <tr>\n",
       "      <th>1</th>\n",
       "      <td>00003565-3733-4f67-8095-d1156c6c89f0</td>\n",
       "      <td>Gotthard-Basistunnel als Bauwerk der Superlative</td>\n",
       "      <td>SRF</td>\n",
       "      <td>{'date': '2016-06-01', 'title': None}</td>\n",
       "    </tr>\n",
       "    <tr>\n",
       "      <th>2</th>\n",
       "      <td>00005416-87ac-4d3f-a5a7-e4822ec929d4</td>\n",
       "      <td>Wahl Leuenberger</td>\n",
       "      <td>SF</td>\n",
       "      <td>{'date': '2005-12-07', 'title': None}</td>\n",
       "    </tr>\n",
       "    <tr>\n",
       "      <th>3</th>\n",
       "      <td>00007798-1a95-478b-9fd4-22b186cd281a</td>\n",
       "      <td>Nationalpark-Serie \\\"Il parc naziunal svizzer\\...</td>\n",
       "      <td>TvR</td>\n",
       "      <td>{'date': '2008-05-26', 'title': None}</td>\n",
       "    </tr>\n",
       "    <tr>\n",
       "      <th>4</th>\n",
       "      <td>0000ff71-0c57-4a24-898f-25b203aa0ad9</td>\n",
       "      <td>Puls-mix</td>\n",
       "      <td>SF</td>\n",
       "      <td>{'date': '2007-02-26', 'title': None}</td>\n",
       "    </tr>\n",
       "    <tr>\n",
       "      <th>...</th>\n",
       "      <td>...</td>\n",
       "      <td>...</td>\n",
       "      <td>...</td>\n",
       "      <td>...</td>\n",
       "    </tr>\n",
       "    <tr>\n",
       "      <th>10095</th>\n",
       "      <td>06ae60ac-b66a-4fd0-b136-15fe196fbba5</td>\n",
       "      <td>None</td>\n",
       "      <td>SRG</td>\n",
       "      <td>{'date': '1981-09-06', 'title': None}</td>\n",
       "    </tr>\n",
       "    <tr>\n",
       "      <th>10096</th>\n",
       "      <td>06ae6336-2681-4e15-9591-986b77114eaa</td>\n",
       "      <td>Miese Weinernte im Baselbiet</td>\n",
       "      <td>SRF</td>\n",
       "      <td>{'date': '2017-10-24', 'title': None}</td>\n",
       "    </tr>\n",
       "    <tr>\n",
       "      <th>10097</th>\n",
       "      <td>06ae7452-5304-46b9-8ede-1e4fbccc8922</td>\n",
       "      <td>AKW-Region Niederamt</td>\n",
       "      <td>SRF</td>\n",
       "      <td>{'date': '2011-03-17', 'title': None}</td>\n",
       "    </tr>\n",
       "    <tr>\n",
       "      <th>10098</th>\n",
       "      <td>06ae8fdd-fbaf-482a-a407-fe92a26700c5</td>\n",
       "      <td>None</td>\n",
       "      <td>DRS</td>\n",
       "      <td>{'date': '1984-09-17', 'title': 'Ansprache Bun...</td>\n",
       "    </tr>\n",
       "    <tr>\n",
       "      <th>10099</th>\n",
       "      <td>06aeb40c-4f45-4fba-a115-44e9f39fe9fd</td>\n",
       "      <td>Fussball UEFA-Cup \\/ Torgarant Kuljic</td>\n",
       "      <td>SF</td>\n",
       "      <td>{'date': '2006-09-14', 'title': None}</td>\n",
       "    </tr>\n",
       "  </tbody>\n",
       "</table>\n",
       "<p>10100 rows × 4 columns</p>\n",
       "</div>"
      ],
      "text/plain": [
       "                                         id  \\\n",
       "0      00000703-a68b-43fd-a7c4-796f464f4f69   \n",
       "1      00003565-3733-4f67-8095-d1156c6c89f0   \n",
       "2      00005416-87ac-4d3f-a5a7-e4822ec929d4   \n",
       "3      00007798-1a95-478b-9fd4-22b186cd281a   \n",
       "4      0000ff71-0c57-4a24-898f-25b203aa0ad9   \n",
       "...                                     ...   \n",
       "10095  06ae60ac-b66a-4fd0-b136-15fe196fbba5   \n",
       "10096  06ae6336-2681-4e15-9591-986b77114eaa   \n",
       "10097  06ae7452-5304-46b9-8ede-1e4fbccc8922   \n",
       "10098  06ae8fdd-fbaf-482a-a407-fe92a26700c5   \n",
       "10099  06aeb40c-4f45-4fba-a115-44e9f39fe9fd   \n",
       "\n",
       "                                                   title producer  \\\n",
       "0                                             EW Ferrera      TvR   \n",
       "1       Gotthard-Basistunnel als Bauwerk der Superlative      SRF   \n",
       "2                                       Wahl Leuenberger       SF   \n",
       "3      Nationalpark-Serie \\\"Il parc naziunal svizzer\\...      TvR   \n",
       "4                                               Puls-mix       SF   \n",
       "...                                                  ...      ...   \n",
       "10095                                               None      SRG   \n",
       "10096                       Miese Weinernte im Baselbiet      SRF   \n",
       "10097                               AKW-Region Niederamt      SRF   \n",
       "10098                                               None      DRS   \n",
       "10099              Fussball UEFA-Cup \\/ Torgarant Kuljic       SF   \n",
       "\n",
       "                                                 program  \n",
       "0                  {'date': '1998-11-13', 'title': None}  \n",
       "1                  {'date': '2016-06-01', 'title': None}  \n",
       "2                  {'date': '2005-12-07', 'title': None}  \n",
       "3                  {'date': '2008-05-26', 'title': None}  \n",
       "4                  {'date': '2007-02-26', 'title': None}  \n",
       "...                                                  ...  \n",
       "10095              {'date': '1981-09-06', 'title': None}  \n",
       "10096              {'date': '2017-10-24', 'title': None}  \n",
       "10097              {'date': '2011-03-17', 'title': None}  \n",
       "10098  {'date': '1984-09-17', 'title': 'Ansprache Bun...  \n",
       "10099              {'date': '2006-09-14', 'title': None}  \n",
       "\n",
       "[10100 rows x 4 columns]"
      ]
     },
     "execution_count": 36,
     "metadata": {},
     "output_type": "execute_result"
    }
   ],
   "source": [
    "df"
   ]
  },
  {
   "cell_type": "code",
   "execution_count": 38,
   "id": "0254533b",
   "metadata": {},
   "outputs": [
    {
     "data": {
      "image/png": "[encoded data removed]",
      "text/plain": [
       "<Figure size 1440x720 with 1 Axes>"
      ]
     },
     "metadata": {},
     "output_type": "display_data"
    }
   ],
   "source": [
    "(df\n",
    " .groupby('producer')\n",
    " .filter(lambda x: len(x) > 100)\n",
    " .producer\n",
    " .value_counts()\n",
    " .plot\n",
    " .pie(fontsize=30));"
   ]
  },
  {
   "cell_type": "code",
   "execution_count": null,
   "id": "497a591e",
   "metadata": {},
   "outputs": [],
   "source": []
  }
 ],
 "metadata": {
  "kernelspec": {
   "display_name": "Python 3",
   "language": "python",
   "name": "python3"
  },
  "language_info": {
   "codemirror_mode": {
    "name": "ipython",
    "version": 3
   },
   "file_extension": ".py",
   "mimetype": "text/x-python",
   "name": "python",
   "nbconvert_exporter": "python",
   "pygments_lexer": "ipython3",
   "version": "3.8.8"
  }
 },
 "nbformat": 4,
 "nbformat_minor": 5
}
