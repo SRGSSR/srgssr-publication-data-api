{
 "cells": [
  {
   "cell_type": "markdown",
   "id": "administrative-savage",
   "metadata": {},
   "source": [
    "# Example 3: how to use random retrieval to plot distributions"
   ]
  },
  {
   "cell_type": "code",
   "execution_count": 1,
   "id": "legislative-turtle",
   "metadata": {},
   "outputs": [],
   "source": [
    "import sys\n",
    "from sgqlc.operation import Operation\n",
    "from srgssr_publication_data_api import pdp_schema as schema\n",
    "from srgssr_publication_data_api import client"
   ]
  },
  {
   "cell_type": "markdown",
   "id": "artistic-alignment",
   "metadata": {},
   "source": [
    "## 1. Set the API endpoint\n",
    "Ensure the endpoint is set to the PDP (FARO) schema on INT"
   ]
  },
  {
   "cell_type": "code",
   "execution_count": 2,
   "id": "ideal-fancy",
   "metadata": {},
   "outputs": [
    {
     "name": "stdout",
     "output_type": "stream",
     "text": [
      "env: PDP_API=https://graphql-api.pdp.int.srgssr.ch/graphql\n"
     ]
    }
   ],
   "source": [
    "%set_env PDP_API=https://graphql-api.pdp.dev.srgssr.ch/graphql"
   ]
  },
  {
   "cell_type": "code",
   "execution_count": 3,
   "id": "lovely-prototype",
   "metadata": {},
   "outputs": [
    {
     "name": "stdout",
     "output_type": "stream",
     "text": [
      "https://graphql-api.pdp.int.srgssr.ch/graphql\r\n"
     ]
    }
   ],
   "source": [
    "# fetch environment variable with PDP endpoint API address\n",
    "! echo \"${PDP_API}\""
   ]
  },
  {
   "cell_type": "markdown",
   "id": "blank-chair",
   "metadata": {},
   "source": [
    "## 2. Show available queries"
   ]
  },
  {
   "cell_type": "code",
   "execution_count": 4,
   "id": "linear-check",
   "metadata": {},
   "outputs": [
    {
     "data": {
      "text/plain": [
       "type Query {\n",
       "  faroProgramPage(first: Int!, after: String): FaroProgramPage!\n",
       "  faroPrograms(ids: [String!]!): [FaroProgram]!\n",
       "  randomFaroPrograms: [FaroProgram!]!\n",
       "  faroItemPage(first: Int!, after: String): FaroItemPage!\n",
       "  faroItems(ids: [String!]!): [FaroItem]!\n",
       "  faroItemsByPlayUrn(urns: [String!]!): [FaroItem]!\n",
       "  faroItemsByPlayUrnGraphDb(urns: [String!]!): [FaroItem]!\n",
       "  randomFaroItems: [FaroItem!]!\n",
       "}"
      ]
     },
     "execution_count": 4,
     "metadata": {},
     "output_type": "execute_result"
    }
   ],
   "source": [
    "schema.Query"
   ]
  },
  {
   "cell_type": "markdown",
   "id": "contemporary-maria",
   "metadata": {},
   "source": [
    "## 3. Configure the query operation"
   ]
  },
  {
   "cell_type": "code",
   "execution_count": 5,
   "id": "proper-intro",
   "metadata": {},
   "outputs": [],
   "source": [
    "op = Operation(schema.Query)"
   ]
  },
  {
   "cell_type": "code",
   "execution_count": 6,
   "id": "endangered-convention",
   "metadata": {},
   "outputs": [],
   "source": [
    "faro = op.random_faro_items()"
   ]
  },
  {
   "cell_type": "code",
   "execution_count": 7,
   "id": "lovely-accuracy",
   "metadata": {},
   "outputs": [
    {
     "data": {
      "text/plain": [
       "query {\n",
       "  randomFaroItems {\n",
       "    id\n",
       "    programId\n",
       "    itemNr\n",
       "    rights\n",
       "    isPoisonous\n",
       "    playMedias {\n",
       "      id\n",
       "      title\n",
       "      urn\n",
       "      description\n",
       "    }\n",
       "    mediaUrns\n",
       "    playLinks\n",
       "    descriptorPaths\n",
       "    program {\n",
       "      id\n",
       "      bu\n",
       "      mediaType\n",
       "      episodeIds\n",
       "      sTit\n",
       "      sDatStart\n",
       "      sGef\n",
       "      pTit\n",
       "      department\n",
       "      workgroup\n",
       "      seriesNr\n",
       "    }\n",
       "    bTit\n",
       "    recordingDate\n",
       "    ingestDate\n",
       "    prodTypes\n",
       "    producer\n",
       "    licenseHolder\n",
       "    abs\n",
       "    fdes\n",
       "    sportDoc {\n",
       "      season\n",
       "      sportEventPaths\n",
       "      sportPaths\n",
       "    }\n",
       "    webCmsIds\n",
       "  }\n",
       "}"
      ]
     },
     "execution_count": 7,
     "metadata": {},
     "output_type": "execute_result"
    }
   ],
   "source": [
    "# return the current query\n",
    "op"
   ]
  },
  {
   "cell_type": "markdown",
   "id": "banned-cyprus",
   "metadata": {},
   "source": [
    "## 4. Select fields of interest"
   ]
  },
  {
   "cell_type": "code",
   "execution_count": 8,
   "id": "married-restriction",
   "metadata": {},
   "outputs": [
    {
     "data": {
      "text/plain": [
       "webCmsIds"
      ]
     },
     "execution_count": 8,
     "metadata": {},
     "output_type": "execute_result"
    }
   ],
   "source": [
    "faro.id()\n",
    "faro.b_tit()\n",
    "faro.producer()\n",
    "faro.program.s_dat_start()\n",
    "faro.sport_doc()\n",
    "faro.web_cms_ids()"
   ]
  },
  {
   "cell_type": "code",
   "execution_count": 9,
   "id": "hired-sussex",
   "metadata": {},
   "outputs": [
    {
     "data": {
      "text/plain": [
       "query {\n",
       "  randomFaroItems {\n",
       "    id\n",
       "    bTit\n",
       "    producer\n",
       "    program {\n",
       "      sDatStart\n",
       "    }\n",
       "    sportDoc {\n",
       "      season\n",
       "      sportEventPaths\n",
       "      sportPaths\n",
       "    }\n",
       "    webCmsIds\n",
       "  }\n",
       "}"
      ]
     },
     "execution_count": 9,
     "metadata": {},
     "output_type": "execute_result"
    }
   ],
   "source": [
    "op"
   ]
  },
  {
   "cell_type": "markdown",
   "id": "educational-interval",
   "metadata": {},
   "source": [
    "## 5. Retrieve the data"
   ]
  },
  {
   "cell_type": "code",
   "execution_count": 10,
   "id": "preliminary-adrian",
   "metadata": {},
   "outputs": [],
   "source": [
    "# constants\n",
    "page_requests = 100"
   ]
  },
  {
   "cell_type": "code",
   "execution_count": 11,
   "id": "shared-universe",
   "metadata": {},
   "outputs": [],
   "source": [
    "# init results\n",
    "results = []"
   ]
  },
  {
   "cell_type": "code",
   "execution_count": 12,
   "id": "scientific-finish",
   "metadata": {},
   "outputs": [
    {
     "data": {
      "application/vnd.jupyter.widget-view+json": {
       "model_id": "a2ff9a1240de40c9b06061e64c0f4a42",
       "version_major": 2,
       "version_minor": 0
      },
      "text/plain": [
       "Downloading data:   0%|          | 0/100 [00:00<?, ?it/s]"
      ]
     },
     "metadata": {},
     "output_type": "display_data"
    }
   ],
   "source": [
    "# download data\n",
    "from tqdm.notebook import tnrange\n",
    "for i in tnrange(page_requests, desc=\"Downloading data\"):\n",
    "    # query page\n",
    "    data = client.run_query(op)\n",
    "    \n",
    "    # add results\n",
    "    results += (op + data).random_faro_items"
   ]
  },
  {
   "cell_type": "code",
   "execution_count": 13,
   "id": "acting-windsor",
   "metadata": {},
   "outputs": [
    {
     "name": "stdout",
     "output_type": "stream",
     "text": [
      "INFO - Retrieved 1,000 FaroItems\n"
     ]
    }
   ],
   "source": [
    "print(f'INFO - Retrieved {len(results):,} FaroItems')"
   ]
  },
  {
   "cell_type": "code",
   "execution_count": 14,
   "id": "pressing-longer",
   "metadata": {},
   "outputs": [
    {
     "data": {
      "text/plain": [
       "FaroItem(id='31135c2d-b305-4575-aba6-e3d681adbc6a', b_tit='Hotelleriesuisse GR', producer='RTR', program=FaroProgram(s_dat_start='2018-02-02'), sport_doc=FaroSportDoc(season=None, sport_event_paths=[], sport_paths=[]), web_cms_ids=['e504d662-04ab-4a9c-85b1-6fbe66638aa0'])"
      ]
     },
     "execution_count": 14,
     "metadata": {},
     "output_type": "execute_result"
    }
   ],
   "source": [
    "results[0]"
   ]
  },
  {
   "cell_type": "markdown",
   "id": "egyptian-probe",
   "metadata": {},
   "source": [
    "## 6. Plot the year distribution of first display"
   ]
  },
  {
   "cell_type": "code",
   "execution_count": 15,
   "id": "textile-change",
   "metadata": {},
   "outputs": [
    {
     "data": {
      "text/plain": [
       "'2018-02-02'"
      ]
     },
     "execution_count": 15,
     "metadata": {},
     "output_type": "execute_result"
    }
   ],
   "source": [
    "results[0].program.s_dat_start"
   ]
  },
  {
   "cell_type": "code",
   "execution_count": 16,
   "id": "understanding-summary",
   "metadata": {},
   "outputs": [],
   "source": [
    "from collections import Counter\n",
    "from datetime import date\n",
    "\n",
    "# count year occurrences\n",
    "c = Counter(date.fromisoformat(x.program.s_dat_start).year \n",
    "            for x in results if x.program.s_dat_start)"
   ]
  },
  {
   "cell_type": "code",
   "execution_count": 17,
   "id": "improved-honey",
   "metadata": {},
   "outputs": [],
   "source": [
    "import matplotlib.pyplot as plt\n",
    "%matplotlib inline\n",
    "plt.rcParams['figure.figsize'] = (20, 10)"
   ]
  },
  {
   "cell_type": "code",
   "execution_count": 18,
   "id": "hourly-russia",
   "metadata": {},
   "outputs": [
    {
     "data": {
      "image/png": "[encoded data removed]",
      "text/plain": [
       "<Figure size 1440x720 with 1 Axes>"
      ]
     },
     "metadata": {},
     "output_type": "display_data"
    }
   ],
   "source": [
    "with plt.style.context('fivethirtyeight'):\n",
    "    plt.bar(c.keys(), c.values())"
   ]
  },
  {
   "cell_type": "markdown",
   "id": "independent-selling",
   "metadata": {},
   "source": [
    "## 7. Load data into a `pandas` dataframe"
   ]
  },
  {
   "cell_type": "code",
   "execution_count": 19,
   "id": "ideal-pharmacy",
   "metadata": {},
   "outputs": [],
   "source": [
    "import pandas as pd"
   ]
  },
  {
   "cell_type": "code",
   "execution_count": 20,
   "id": "considerable-passenger",
   "metadata": {},
   "outputs": [
    {
     "data": {
      "text/plain": [
       "OrderedDict([('id', id: String!),\n",
       "             ('b_tit', bTit: String),\n",
       "             ('producer', producer: String),\n",
       "             ('program', program: FaroProgram),\n",
       "             ('sport_doc', sportDoc: FaroSportDoc!),\n",
       "             ('web_cms_ids', webCmsIds: [String!]!)])"
      ]
     },
     "execution_count": 20,
     "metadata": {},
     "output_type": "execute_result"
    }
   ],
   "source": [
    "results[0].__fields_cache__"
   ]
  },
  {
   "cell_type": "code",
   "execution_count": 21,
   "id": "applied-skiing",
   "metadata": {},
   "outputs": [],
   "source": [
    "df = pd.DataFrame([x.__json_data__ for x in results])"
   ]
  },
  {
   "cell_type": "code",
   "execution_count": 22,
   "id": "homeless-bottle",
   "metadata": {},
   "outputs": [
    {
     "data": {
      "text/html": [
       "<div>\n",
       "<style scoped>\n",
       "    .dataframe tbody tr th:only-of-type {\n",
       "        vertical-align: middle;\n",
       "    }\n",
       "\n",
       "    .dataframe tbody tr th {\n",
       "        vertical-align: top;\n",
       "    }\n",
       "\n",
       "    .dataframe thead th {\n",
       "        text-align: right;\n",
       "    }\n",
       "</style>\n",
       "<table border=\"1\" class=\"dataframe\">\n",
       "  <thead>\n",
       "    <tr style=\"text-align: right;\">\n",
       "      <th></th>\n",
       "      <th>program</th>\n",
       "      <th>bTit</th>\n",
       "      <th>sportDoc</th>\n",
       "      <th>id</th>\n",
       "      <th>webCmsIds</th>\n",
       "      <th>producer</th>\n",
       "    </tr>\n",
       "  </thead>\n",
       "  <tbody>\n",
       "    <tr>\n",
       "      <th>0</th>\n",
       "      <td>{'sDatStart': '2018-02-02'}</td>\n",
       "      <td>Hotelleriesuisse GR</td>\n",
       "      <td>{'season': None, 'sportEventPaths': [], 'sport...</td>\n",
       "      <td>31135c2d-b305-4575-aba6-e3d681adbc6a</td>\n",
       "      <td>[e504d662-04ab-4a9c-85b1-6fbe66638aa0]</td>\n",
       "      <td>RTR</td>\n",
       "    </tr>\n",
       "    <tr>\n",
       "      <th>1</th>\n",
       "      <td>{'sDatStart': '2017-12-29'}</td>\n",
       "      <td>SRF 1 29.12.2017 04 - 05 Uhr</td>\n",
       "      <td>{'season': None, 'sportEventPaths': [], 'sport...</td>\n",
       "      <td>3113653b-616d-4044-81ee-e66cd2b13390</td>\n",
       "      <td>[]</td>\n",
       "      <td>None</td>\n",
       "    </tr>\n",
       "    <tr>\n",
       "      <th>2</th>\n",
       "      <td>{'sDatStart': '2018-03-06'}</td>\n",
       "      <td>SRF Virus 06.03.2018 14 - 15 Uhr</td>\n",
       "      <td>{'season': None, 'sportEventPaths': [], 'sport...</td>\n",
       "      <td>311367fc-30be-4bc2-8898-7bb1063a2a5c</td>\n",
       "      <td>[]</td>\n",
       "      <td>None</td>\n",
       "    </tr>\n",
       "    <tr>\n",
       "      <th>3</th>\n",
       "      <td>{'sDatStart': '1993-11-28'}</td>\n",
       "      <td>Regionaljournal ZH\\/SH 19931128</td>\n",
       "      <td>{'season': None, 'sportEventPaths': [], 'sport...</td>\n",
       "      <td>3113762b-9b7f-4913-a4bc-72968108db12</td>\n",
       "      <td>[]</td>\n",
       "      <td>None</td>\n",
       "    </tr>\n",
       "    <tr>\n",
       "      <th>4</th>\n",
       "      <td>{'sDatStart': None}</td>\n",
       "      <td>None</td>\n",
       "      <td>{'season': None, 'sportEventPaths': [], 'sport...</td>\n",
       "      <td>3113768b-bf35-4e55-a19c-76d9bfea5237</td>\n",
       "      <td>[]</td>\n",
       "      <td>EVN/RTR</td>\n",
       "    </tr>\n",
       "    <tr>\n",
       "      <th>...</th>\n",
       "      <td>...</td>\n",
       "      <td>...</td>\n",
       "      <td>...</td>\n",
       "      <td>...</td>\n",
       "      <td>...</td>\n",
       "      <td>...</td>\n",
       "    </tr>\n",
       "    <tr>\n",
       "      <th>995</th>\n",
       "      <td>{'sDatStart': '2020-01-01'}</td>\n",
       "      <td>SRF Musikwelle 01.01.2020 00-01 Uhr</td>\n",
       "      <td>{'season': None, 'sportEventPaths': [], 'sport...</td>\n",
       "      <td>cc165d6f-d6bb-43f7-bad6-c5e4f270295b</td>\n",
       "      <td>[]</td>\n",
       "      <td>None</td>\n",
       "    </tr>\n",
       "    <tr>\n",
       "      <th>996</th>\n",
       "      <td>{'sDatStart': '2019-06-09'}</td>\n",
       "      <td>SRF Virus 09.06.2019 08 - 09 Uhr</td>\n",
       "      <td>{'season': None, 'sportEventPaths': [], 'sport...</td>\n",
       "      <td>cc166522-dbf0-4bea-910f-ee3ae58ccad1</td>\n",
       "      <td>[]</td>\n",
       "      <td>None</td>\n",
       "    </tr>\n",
       "    <tr>\n",
       "      <th>997</th>\n",
       "      <td>{'sDatStart': '2001-11-05'}</td>\n",
       "      <td>Du lieber Bahnhof (aus: Erinnerungen an glückl...</td>\n",
       "      <td>{'season': None, 'sportEventPaths': [], 'sport...</td>\n",
       "      <td>cc166801-ca00-4c77-a875-6675fadd827e</td>\n",
       "      <td>[]</td>\n",
       "      <td>None</td>\n",
       "    </tr>\n",
       "    <tr>\n",
       "      <th>998</th>\n",
       "      <td>{'sDatStart': '2016-09-02'}</td>\n",
       "      <td>Decider</td>\n",
       "      <td>{'season': None, 'sportEventPaths': [], 'sport...</td>\n",
       "      <td>cc16688c-dad4-40c6-818a-09093e2136d9</td>\n",
       "      <td>[]</td>\n",
       "      <td>RTR</td>\n",
       "    </tr>\n",
       "    <tr>\n",
       "      <th>999</th>\n",
       "      <td>{'sDatStart': '2003-02-18'}</td>\n",
       "      <td>Wer ist Gottfried Stutz? [Gopfrid Stutz]</td>\n",
       "      <td>{'season': None, 'sportEventPaths': [], 'sport...</td>\n",
       "      <td>cc16750e-60e4-4869-86e9-ba524516ae5b</td>\n",
       "      <td>[]</td>\n",
       "      <td>None</td>\n",
       "    </tr>\n",
       "  </tbody>\n",
       "</table>\n",
       "<p>1000 rows × 6 columns</p>\n",
       "</div>"
      ],
      "text/plain": [
       "                         program  \\\n",
       "0    {'sDatStart': '2018-02-02'}   \n",
       "1    {'sDatStart': '2017-12-29'}   \n",
       "2    {'sDatStart': '2018-03-06'}   \n",
       "3    {'sDatStart': '1993-11-28'}   \n",
       "4            {'sDatStart': None}   \n",
       "..                           ...   \n",
       "995  {'sDatStart': '2020-01-01'}   \n",
       "996  {'sDatStart': '2019-06-09'}   \n",
       "997  {'sDatStart': '2001-11-05'}   \n",
       "998  {'sDatStart': '2016-09-02'}   \n",
       "999  {'sDatStart': '2003-02-18'}   \n",
       "\n",
       "                                                  bTit  \\\n",
       "0                                  Hotelleriesuisse GR   \n",
       "1                         SRF 1 29.12.2017 04 - 05 Uhr   \n",
       "2                     SRF Virus 06.03.2018 14 - 15 Uhr   \n",
       "3                      Regionaljournal ZH\\/SH 19931128   \n",
       "4                                                 None   \n",
       "..                                                 ...   \n",
       "995                SRF Musikwelle 01.01.2020 00-01 Uhr   \n",
       "996                   SRF Virus 09.06.2019 08 - 09 Uhr   \n",
       "997  Du lieber Bahnhof (aus: Erinnerungen an glückl...   \n",
       "998                                            Decider   \n",
       "999           Wer ist Gottfried Stutz? [Gopfrid Stutz]   \n",
       "\n",
       "                                              sportDoc  \\\n",
       "0    {'season': None, 'sportEventPaths': [], 'sport...   \n",
       "1    {'season': None, 'sportEventPaths': [], 'sport...   \n",
       "2    {'season': None, 'sportEventPaths': [], 'sport...   \n",
       "3    {'season': None, 'sportEventPaths': [], 'sport...   \n",
       "4    {'season': None, 'sportEventPaths': [], 'sport...   \n",
       "..                                                 ...   \n",
       "995  {'season': None, 'sportEventPaths': [], 'sport...   \n",
       "996  {'season': None, 'sportEventPaths': [], 'sport...   \n",
       "997  {'season': None, 'sportEventPaths': [], 'sport...   \n",
       "998  {'season': None, 'sportEventPaths': [], 'sport...   \n",
       "999  {'season': None, 'sportEventPaths': [], 'sport...   \n",
       "\n",
       "                                       id  \\\n",
       "0    31135c2d-b305-4575-aba6-e3d681adbc6a   \n",
       "1    3113653b-616d-4044-81ee-e66cd2b13390   \n",
       "2    311367fc-30be-4bc2-8898-7bb1063a2a5c   \n",
       "3    3113762b-9b7f-4913-a4bc-72968108db12   \n",
       "4    3113768b-bf35-4e55-a19c-76d9bfea5237   \n",
       "..                                    ...   \n",
       "995  cc165d6f-d6bb-43f7-bad6-c5e4f270295b   \n",
       "996  cc166522-dbf0-4bea-910f-ee3ae58ccad1   \n",
       "997  cc166801-ca00-4c77-a875-6675fadd827e   \n",
       "998  cc16688c-dad4-40c6-818a-09093e2136d9   \n",
       "999  cc16750e-60e4-4869-86e9-ba524516ae5b   \n",
       "\n",
       "                                  webCmsIds producer  \n",
       "0    [e504d662-04ab-4a9c-85b1-6fbe66638aa0]      RTR  \n",
       "1                                        []     None  \n",
       "2                                        []     None  \n",
       "3                                        []     None  \n",
       "4                                        []  EVN/RTR  \n",
       "..                                      ...      ...  \n",
       "995                                      []     None  \n",
       "996                                      []     None  \n",
       "997                                      []     None  \n",
       "998                                      []      RTR  \n",
       "999                                      []     None  \n",
       "\n",
       "[1000 rows x 6 columns]"
      ]
     },
     "execution_count": 22,
     "metadata": {},
     "output_type": "execute_result"
    }
   ],
   "source": [
    "df"
   ]
  },
  {
   "cell_type": "markdown",
   "id": "interstate-nirvana",
   "metadata": {},
   "source": [
    "## 8. Simple plotting with `pandas`"
   ]
  },
  {
   "cell_type": "code",
   "execution_count": 23,
   "id": "dense-capital",
   "metadata": {},
   "outputs": [
    {
     "data": {
      "text/plain": [
       "count     490\n",
       "unique     94\n",
       "top       SRF\n",
       "freq      158\n",
       "Name: producer, dtype: object"
      ]
     },
     "execution_count": 23,
     "metadata": {},
     "output_type": "execute_result"
    }
   ],
   "source": [
    "df.producer.describe()"
   ]
  },
  {
   "cell_type": "code",
   "execution_count": 24,
   "id": "clean-procurement",
   "metadata": {},
   "outputs": [
    {
     "data": {
      "image/png": "[encoded data removed]",
      "text/plain": [
       "<Figure size 1440x720 with 1 Axes>"
      ]
     },
     "metadata": {},
     "output_type": "display_data"
    }
   ],
   "source": [
    "(df\n",
    " .groupby('producer')\n",
    " .filter(lambda x: len(x) > 10)\n",
    " .producer\n",
    " .value_counts()\n",
    " .plot\n",
    " .pie(fontsize=30));"
   ]
  },
  {
   "cell_type": "markdown",
   "id": "electrical-commons",
   "metadata": {},
   "source": [
    "## 9. Analysis of nested entries"
   ]
  },
  {
   "cell_type": "code",
   "execution_count": 25,
   "id": "explicit-going",
   "metadata": {},
   "outputs": [
    {
     "data": {
      "text/html": [
       "<div>\n",
       "<style scoped>\n",
       "    .dataframe tbody tr th:only-of-type {\n",
       "        vertical-align: middle;\n",
       "    }\n",
       "\n",
       "    .dataframe tbody tr th {\n",
       "        vertical-align: top;\n",
       "    }\n",
       "\n",
       "    .dataframe thead th {\n",
       "        text-align: right;\n",
       "    }\n",
       "</style>\n",
       "<table border=\"1\" class=\"dataframe\">\n",
       "  <thead>\n",
       "    <tr style=\"text-align: right;\">\n",
       "      <th></th>\n",
       "      <th>season</th>\n",
       "      <th>sportEventPaths</th>\n",
       "      <th>sportPaths</th>\n",
       "    </tr>\n",
       "  </thead>\n",
       "  <tbody>\n",
       "    <tr>\n",
       "      <th>9</th>\n",
       "      <td>1998</td>\n",
       "      <td>[]</td>\n",
       "      <td>[]</td>\n",
       "    </tr>\n",
       "    <tr>\n",
       "      <th>35</th>\n",
       "      <td>2007</td>\n",
       "      <td>[¦int¦Weltmeisterschaft¦]</td>\n",
       "      <td>[¦Ski Alpin¦]</td>\n",
       "    </tr>\n",
       "    <tr>\n",
       "      <th>36</th>\n",
       "      <td>2017</td>\n",
       "      <td>[¦int¦Weltmeisterschaft¦]</td>\n",
       "      <td>[¦Ski Alpin¦]</td>\n",
       "    </tr>\n",
       "    <tr>\n",
       "      <th>76</th>\n",
       "      <td>2015-2016</td>\n",
       "      <td>[¦nat¦Schweizermeisterschaft¦]</td>\n",
       "      <td>[¦Fussball¦]</td>\n",
       "    </tr>\n",
       "    <tr>\n",
       "      <th>88</th>\n",
       "      <td>2009-2010</td>\n",
       "      <td>[¦nat¦Schweizermeisterschaft¦Playoff¦Playoff H...</td>\n",
       "      <td>[¦Wintersport¦Eishockey¦]</td>\n",
       "    </tr>\n",
       "  </tbody>\n",
       "</table>\n",
       "</div>"
      ],
      "text/plain": [
       "       season                                    sportEventPaths  \\\n",
       "9        1998                                                 []   \n",
       "35       2007                          [¦int¦Weltmeisterschaft¦]   \n",
       "36       2017                          [¦int¦Weltmeisterschaft¦]   \n",
       "76  2015-2016                     [¦nat¦Schweizermeisterschaft¦]   \n",
       "88  2009-2010  [¦nat¦Schweizermeisterschaft¦Playoff¦Playoff H...   \n",
       "\n",
       "                   sportPaths  \n",
       "9                          []  \n",
       "35              [¦Ski Alpin¦]  \n",
       "36              [¦Ski Alpin¦]  \n",
       "76               [¦Fussball¦]  \n",
       "88  [¦Wintersport¦Eishockey¦]  "
      ]
     },
     "execution_count": 25,
     "metadata": {},
     "output_type": "execute_result"
    }
   ],
   "source": [
    "pd.json_normalize(df.sportDoc).dropna().head()"
   ]
  },
  {
   "cell_type": "code",
   "execution_count": 26,
   "id": "specialized-deviation",
   "metadata": {},
   "outputs": [
    {
     "data": {
      "image/png": "[encoded data removed]",
      "text/plain": [
       "<Figure size 1440x720 with 1 Axes>"
      ]
     },
     "metadata": {
      "needs_background": "light"
     },
     "output_type": "display_data"
    }
   ],
   "source": [
    "(pd\n",
    " .json_normalize(df.sportDoc)                # normalize sport doc entries\n",
    " .dropna()                                   # remove empty entries\n",
    " .sportPaths.explode()                       # explode array\n",
    " .str.split('¦').str[-2]                     # split by symbol and select 2nd to last\n",
    " .value_counts()                             # count occurrences\n",
    " .to_frame()                                 # transform to data frame\n",
    " .sort_values('sportPaths', ascending=False) # sort by occurrence\n",
    " .head(10)                                   # pick top 10\n",
    " .plot.barh(y='sportPaths', fontsize=30));   # plot as a horizontal bar chart"
   ]
  },
  {
   "cell_type": "code",
   "execution_count": null,
   "id": "separated-bristol",
   "metadata": {},
   "outputs": [],
   "source": []
  }
 ],
 "metadata": {
  "kernelspec": {
   "display_name": "Python 3",
   "language": "python",
   "name": "python3"
  },
  "language_info": {
   "codemirror_mode": {
    "name": "ipython",
    "version": 3
   },
   "file_extension": ".py",
   "mimetype": "text/x-python",
   "name": "python",
   "nbconvert_exporter": "python",
   "pygments_lexer": "ipython3",
   "version": "3.9.1"
  }
 },
 "nbformat": 4,
 "nbformat_minor": 5
}