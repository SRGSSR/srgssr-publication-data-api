{
 "cells": [
  {
   "cell_type": "markdown",
   "id": "administrative-savage",
   "metadata": {},
   "source": [
    "# Example how to query multiple items using paging"
   ]
  },
  {
   "cell_type": "code",
   "execution_count": 1,
   "id": "legislative-turtle",
   "metadata": {},
   "outputs": [],
   "source": [
    "import sys\n",
    "from sgqlc.operation import Operation\n",
    "from pdp_schema import pdp_schema as schema\n",
    "from pdp_graphql_client_python import client"
   ]
  },
  {
   "cell_type": "code",
   "execution_count": 2,
   "id": "lovely-prototype",
   "metadata": {},
   "outputs": [
    {
     "name": "stdout",
     "output_type": "stream",
     "text": [
      "https://graphql-api.pdp.int.srgssr.ch/graphql\r\n"
     ]
    }
   ],
   "source": [
    "! echo \"${PDP_API}\""
   ]
  },
  {
   "cell_type": "code",
   "execution_count": 3,
   "id": "linear-check",
   "metadata": {},
   "outputs": [
    {
     "data": {
      "text/plain": [
       "type Query {\n",
       "  faroProgramPage(first: Int!, after: String): FaroProgramPage!\n",
       "  faroPrograms(ids: [String!]!): [FaroProgram]!\n",
       "  randomFaroPrograms: [FaroProgram!]!\n",
       "  faroItemPage(first: Int!, after: String): FaroItemPage!\n",
       "  faroItems(ids: [String!]!): [FaroItem]!\n",
       "  faroItemsByPlayUrn(urns: [String!]!): [FaroItem]!\n",
       "  faroItemsByPlayUrnGraphDb(urns: [String!]!): [FaroItem]!\n",
       "  randomFaroItems: [FaroItem!]!\n",
       "}"
      ]
     },
     "execution_count": 3,
     "metadata": {},
     "output_type": "execute_result"
    }
   ],
   "source": [
    "# show available queries\n",
    "# *Page queries allow for paging (https://graphql.org/learn/pagination/)\n",
    "# first=[number of queries to retrieve, e.g. *first* 10 queries]\n",
    "# after=[id or cursor position from which to start]\n",
    "schema.Query"
   ]
  },
  {
   "cell_type": "code",
   "execution_count": 4,
   "id": "proper-intro",
   "metadata": {},
   "outputs": [],
   "source": [
    "from sgqlc.types import Variable, non_null\n",
    "# retrieve query operations\n",
    "op = Operation(schema.Query, name='PagingQuery', variables={'first':non_null(int), 'after':str})"
   ]
  },
  {
   "cell_type": "code",
   "execution_count": 5,
   "id": "ongoing-disco",
   "metadata": {},
   "outputs": [
    {
     "data": {
      "text/plain": [
       "sgqlc.operation.Operation"
      ]
     },
     "execution_count": 5,
     "metadata": {},
     "output_type": "execute_result"
    }
   ],
   "source": [
    "type(op)"
   ]
  },
  {
   "cell_type": "code",
   "execution_count": 6,
   "id": "supreme-friend",
   "metadata": {},
   "outputs": [
    {
     "data": {
      "text/plain": [
       "query PagingQuery($first: Int!, $after: String) {\n",
       "}"
      ]
     },
     "execution_count": 6,
     "metadata": {},
     "output_type": "execute_result"
    }
   ],
   "source": [
    "# return current query (empty)\n",
    "op"
   ]
  },
  {
   "cell_type": "code",
   "execution_count": 7,
   "id": "endangered-convention",
   "metadata": {},
   "outputs": [],
   "source": [
    "# select query type and configure with argument\n",
    "faro = op.faro_program_page(first=Variable('first'), after=Variable('after'))"
   ]
  },
  {
   "cell_type": "code",
   "execution_count": 8,
   "id": "inappropriate-puzzle",
   "metadata": {},
   "outputs": [
    {
     "data": {
      "text/plain": [
       "query PagingQuery($first: Int!, $after: String) {\n",
       "  faroProgramPage(first: $first, after: $after) {\n",
       "    edges {\n",
       "      id\n",
       "      bu\n",
       "      mediaType\n",
       "      episodeIds\n",
       "      sTit\n",
       "      sDatStart\n",
       "      sGef\n",
       "      pTit\n",
       "      department\n",
       "      workgroup\n",
       "      seriesNr\n",
       "    }\n",
       "    cursor\n",
       "  }\n",
       "}"
      ]
     },
     "execution_count": 8,
     "metadata": {},
     "output_type": "execute_result"
    }
   ],
   "source": [
    "# return current query (empty)\n",
    "op"
   ]
  },
  {
   "cell_type": "code",
   "execution_count": 9,
   "id": "impressed-conviction",
   "metadata": {},
   "outputs": [
    {
     "data": {
      "text/plain": [
       "cursor"
      ]
     },
     "execution_count": 9,
     "metadata": {},
     "output_type": "execute_result"
    }
   ],
   "source": [
    "# select fields to be retured\n",
    "faro.edges.media_type()\n",
    "faro.edges.s_dat_start()\n",
    "faro.edges.s_gef()\n",
    "faro.edges.s_tit()\n",
    "faro.edges.series_nr()\n",
    "faro.cursor()"
   ]
  },
  {
   "cell_type": "code",
   "execution_count": 10,
   "id": "lovely-accuracy",
   "metadata": {},
   "outputs": [
    {
     "data": {
      "text/plain": [
       "query PagingQuery($first: Int!, $after: String) {\n",
       "  faroProgramPage(first: $first, after: $after) {\n",
       "    edges {\n",
       "      mediaType\n",
       "      sDatStart\n",
       "      sGef\n",
       "      sTit\n",
       "      seriesNr\n",
       "    }\n",
       "    cursor\n",
       "  }\n",
       "}"
      ]
     },
     "execution_count": 10,
     "metadata": {},
     "output_type": "execute_result"
    }
   ],
   "source": [
    "# return current query\n",
    "op"
   ]
  },
  {
   "cell_type": "code",
   "execution_count": 11,
   "id": "textile-brand",
   "metadata": {},
   "outputs": [],
   "source": [
    "# constants\n",
    "page_size = 10\n",
    "page_requests = 2"
   ]
  },
  {
   "cell_type": "code",
   "execution_count": 39,
   "id": "manufactured-ecuador",
   "metadata": {},
   "outputs": [],
   "source": [
    "data = client.run_query(op, {'first':page_size})\n",
    "\n",
    "results = (op + data).faro_program_page\n",
    "\n",
    "if not results.edges:\n",
    "    print('No items!', file=sys.stderr)\n",
    "    raise SystemExit()"
   ]
  },
  {
   "cell_type": "code",
   "execution_count": 13,
   "id": "scientific-finish",
   "metadata": {},
   "outputs": [
    {
     "name": "stderr",
     "output_type": "stream",
     "text": [
      "Downloaded 10 pages after: MDAwMDYyNWYtMjkwMi00ZTVhLWFlYjMtNmVjMTZjNjZmNjI2\n",
      "Downloaded 10 pages after: MDAwMGRjZTAtMDFhZC00ZWRmLThmY2MtZDhhOTE5NzM5MTdi\n"
     ]
    }
   ],
   "source": [
    "# todo tqdm\n",
    "for i in range(page_requests):\n",
    "    # query page\n",
    "    data = client.run_query(op, {'first':page_size, 'after':results.cursor})\n",
    "    \n",
    "    # convert page to object oriented results\n",
    "    page = (op + data).faro_program_page\n",
    "\n",
    "    # extract new edges and update cursor\n",
    "    results.edges += page.edges\n",
    "    results.cursor = page.cursor"
   ]
  },
  {
   "cell_type": "code",
   "execution_count": 14,
   "id": "acting-windsor",
   "metadata": {},
   "outputs": [
    {
     "data": {
      "text/plain": [
       "FaroProgramPage(edges=[FaroProgram(media_type='audio', s_dat_start='1994-06-26', s_gef='Doppelpunkt', s_tit=None, series_nr=0), FaroProgram(media_type='audio', s_dat_start='2012-11-26', s_gef=None, s_tit=None, series_nr=None), FaroProgram(media_type='audio', s_dat_start='2006-11-21', s_gef='Oz', s_tit='Contribuziun', series_nr=None), FaroProgram(media_type='audio', s_dat_start='2012-09-28', s_gef=None, s_tit=None, series_nr=None), FaroProgram(media_type=None, s_dat_start=None, s_gef=None, s_tit=None, series_nr=0), FaroProgram(media_type='audio', s_dat_start='2018-04-21', s_gef=None, s_tit=None, series_nr=0), FaroProgram(media_type='audio', s_dat_start='1979-03-20', s_gef='Wir lesen vor', s_tit='Fortsetzung folgt: Eine Krähe war mit mir\\n', series_nr=10), FaroProgram(media_type='audio', s_dat_start='2009-06-18', s_gef=None, s_tit=None, series_nr=None), FaroProgram(media_type='audio', s_dat_start='2005-04-20', s_gef='Kulturtipp', s_tit=None, series_nr=None), FaroProgram(media_type='audio', s_dat_start='2002-01-28', s_gef='Regionaljournal Zürich Schaffhausen', s_tit=None, series_nr=None), FaroProgram(media_type='audio', s_dat_start='2018-01-12', s_gef=None, s_tit=None, series_nr=0), FaroProgram(media_type='video', s_dat_start='2012-05-18', s_gef='10vor10 (ZvZ)', s_tit=None, series_nr=0), FaroProgram(media_type='audio', s_dat_start='2008-07-19', s_gef=None, s_tit=None, series_nr=None), FaroProgram(media_type='audio', s_dat_start='2011-04-01', s_gef='Daytime 3', s_tit=None, series_nr=None), FaroProgram(media_type='video', s_dat_start='1977-11-07', s_gef='Kinderstunde', s_tit=None, series_nr=0), FaroProgram(media_type='video', s_dat_start='2017-09-12', s_gef=None, s_tit=None, series_nr=0), FaroProgram(media_type='audio', s_dat_start='2017-02-02', s_gef=None, s_tit=None, series_nr=0), FaroProgram(media_type='video', s_dat_start='2015-05-06', s_gef='Schweiz aktuell (CHak)', s_tit=None, series_nr=0), FaroProgram(media_type='audio', s_dat_start='2010-07-01', s_gef='WortOrt', s_tit=None, series_nr=None), FaroProgram(media_type='audio', s_dat_start='1940-05-22', s_gef='Chroniques politiques du jour', s_tit=None, series_nr=None), FaroProgram(media_type='video', s_dat_start='2010-12-27', s_gef='Telesguard', s_tit=None, series_nr=0), FaroProgram(media_type='video', s_dat_start=None, s_gef=None, s_tit=None, series_nr=0), FaroProgram(media_type='audio', s_dat_start='2016-07-13', s_gef='Espresso', s_tit=None, series_nr=0), FaroProgram(media_type='audio', s_dat_start='2012-01-09', s_gef=None, s_tit=None, series_nr=None), FaroProgram(media_type='audio', s_dat_start='2018-02-18', s_gef='Marella', s_tit=None, series_nr=0), FaroProgram(media_type='video', s_dat_start='2003-03-12', s_gef='Oops!', s_tit=None, series_nr=None), FaroProgram(media_type='audio', s_dat_start='2008-11-13', s_gef=None, s_tit=None, series_nr=None), FaroProgram(media_type='audio', s_dat_start='2017-10-17', s_gef=None, s_tit=None, series_nr=0), FaroProgram(media_type='video', s_dat_start='2000-10-13', s_gef='Arena', s_tit=None, series_nr=0), FaroProgram(media_type='video', s_dat_start='2007-06-05', s_gef='Tubii', s_tit=None, series_nr=0)], cursor='MDAwMTEyZDEtOTU2Ni00ZjQ1LTk3MzMtNWUyMzBhMTgxMGJm')"
      ]
     },
     "execution_count": 14,
     "metadata": {},
     "output_type": "execute_result"
    }
   ],
   "source": [
    "# display data converted as objects\n",
    "results"
   ]
  },
  {
   "cell_type": "code",
   "execution_count": 15,
   "id": "understanding-summary",
   "metadata": {},
   "outputs": [
    {
     "data": {
      "text/plain": [
       "Counter({1994: 1,\n",
       "         2012: 4,\n",
       "         2006: 1,\n",
       "         2018: 3,\n",
       "         1979: 1,\n",
       "         2009: 1,\n",
       "         2005: 1,\n",
       "         2002: 1,\n",
       "         2008: 2,\n",
       "         2011: 1,\n",
       "         1977: 1,\n",
       "         2017: 3,\n",
       "         2015: 1,\n",
       "         2010: 2,\n",
       "         1940: 1,\n",
       "         2016: 1,\n",
       "         2003: 1,\n",
       "         2000: 1,\n",
       "         2007: 1})"
      ]
     },
     "execution_count": 15,
     "metadata": {},
     "output_type": "execute_result"
    }
   ],
   "source": [
    "from collections import Counter\n",
    "from datetime import date\n",
    "\n",
    "# count year occurrences\n",
    "Counter(date.fromisoformat(x.s_dat_start).year for x in results.edges if x.s_dat_start)"
   ]
  },
  {
   "cell_type": "code",
   "execution_count": 16,
   "id": "ideal-pharmacy",
   "metadata": {},
   "outputs": [],
   "source": [
    "import pandas as pd"
   ]
  },
  {
   "cell_type": "code",
   "execution_count": 17,
   "id": "regulated-teach",
   "metadata": {},
   "outputs": [
    {
     "data": {
      "text/plain": [
       "['_ContainerTypeMeta__fields',\n",
       " '_ContainerType__get_type_for_selection',\n",
       " '_ContainerType__populate_field_data',\n",
       " '_ContainerType__populate_fields',\n",
       " '_ContainerType__populate_fields_from_selection_list',\n",
       " '__bytes__',\n",
       " '__class__',\n",
       " '__contains__',\n",
       " '__delattr__',\n",
       " '__dict__',\n",
       " '__dir__',\n",
       " '__doc__',\n",
       " '__eq__',\n",
       " '__field_names__',\n",
       " '__fields_cache__',\n",
       " '__format__',\n",
       " '__ge__',\n",
       " '__getattribute__',\n",
       " '__getitem__',\n",
       " '__gt__',\n",
       " '__hash__',\n",
       " '__init__',\n",
       " '__init_subclass__',\n",
       " '__interfaces__',\n",
       " '__iter__',\n",
       " '__json_data__',\n",
       " '__json_dump_args__',\n",
       " '__kind__',\n",
       " '__le__',\n",
       " '__len__',\n",
       " '__lt__',\n",
       " '__meta_fields__',\n",
       " '__module__',\n",
       " '__ne__',\n",
       " '__new__',\n",
       " '__reduce__',\n",
       " '__reduce_ex__',\n",
       " '__repr__',\n",
       " '__schema__',\n",
       " '__selection_list__',\n",
       " '__setattr__',\n",
       " '__setitem__',\n",
       " '__sizeof__',\n",
       " '__str__',\n",
       " '__subclasshook__',\n",
       " '__to_json_value__',\n",
       " '__weakref__',\n",
       " 'media_type',\n",
       " 's_dat_start',\n",
       " 's_gef',\n",
       " 's_tit',\n",
       " 'series_nr']"
      ]
     },
     "execution_count": 17,
     "metadata": {},
     "output_type": "execute_result"
    }
   ],
   "source": [
    "dir(results.edges[0])"
   ]
  },
  {
   "cell_type": "code",
   "execution_count": 18,
   "id": "million-stamp",
   "metadata": {},
   "outputs": [
    {
     "data": {
      "text/plain": [
       "('id',\n",
       " 'bu',\n",
       " 'media_type',\n",
       " 'episode_ids',\n",
       " 's_tit',\n",
       " 's_dat_start',\n",
       " 's_gef',\n",
       " 'p_tit',\n",
       " 'department',\n",
       " 'workgroup',\n",
       " 'series_nr',\n",
       " 'moderators',\n",
       " 'item_page',\n",
       " 'play_episodes')"
      ]
     },
     "execution_count": 18,
     "metadata": {},
     "output_type": "execute_result"
    }
   ],
   "source": [
    "results.edges[0].__field_names__"
   ]
  },
  {
   "cell_type": "code",
   "execution_count": 19,
   "id": "becoming-serbia",
   "metadata": {},
   "outputs": [
    {
     "data": {
      "text/plain": [
       "{'media_type': 'audio',\n",
       " 's_dat_start': '1994-06-26',\n",
       " 's_gef': 'Doppelpunkt',\n",
       " 's_tit': None,\n",
       " 'series_nr': 0}"
      ]
     },
     "execution_count": 19,
     "metadata": {},
     "output_type": "execute_result"
    }
   ],
   "source": [
    "{key: value for key, value in results.edges[0].__dict__.items() if not key.startswith(\"__\")}"
   ]
  },
  {
   "cell_type": "code",
   "execution_count": 24,
   "id": "virtual-fetish",
   "metadata": {},
   "outputs": [],
   "source": [
    "a = results.edges[0]"
   ]
  },
  {
   "cell_type": "code",
   "execution_count": 25,
   "id": "ecological-adaptation",
   "metadata": {},
   "outputs": [
    {
     "data": {
      "text/plain": [
       "['_ContainerTypeMeta__fields',\n",
       " '_ContainerType__get_type_for_selection',\n",
       " '_ContainerType__populate_field_data',\n",
       " '_ContainerType__populate_fields',\n",
       " '_ContainerType__populate_fields_from_selection_list',\n",
       " '__bytes__',\n",
       " '__class__',\n",
       " '__contains__',\n",
       " '__delattr__',\n",
       " '__dict__',\n",
       " '__dir__',\n",
       " '__doc__',\n",
       " '__eq__',\n",
       " '__field_names__',\n",
       " '__fields_cache__',\n",
       " '__format__',\n",
       " '__ge__',\n",
       " '__getattribute__',\n",
       " '__getitem__',\n",
       " '__gt__',\n",
       " '__hash__',\n",
       " '__init__',\n",
       " '__init_subclass__',\n",
       " '__interfaces__',\n",
       " '__iter__',\n",
       " '__json_data__',\n",
       " '__json_dump_args__',\n",
       " '__kind__',\n",
       " '__le__',\n",
       " '__len__',\n",
       " '__lt__',\n",
       " '__meta_fields__',\n",
       " '__module__',\n",
       " '__ne__',\n",
       " '__new__',\n",
       " '__reduce__',\n",
       " '__reduce_ex__',\n",
       " '__repr__',\n",
       " '__schema__',\n",
       " '__selection_list__',\n",
       " '__setattr__',\n",
       " '__setitem__',\n",
       " '__sizeof__',\n",
       " '__str__',\n",
       " '__subclasshook__',\n",
       " '__to_json_value__',\n",
       " '__weakref__',\n",
       " 'media_type',\n",
       " 's_dat_start',\n",
       " 's_gef',\n",
       " 's_tit',\n",
       " 'series_nr']"
      ]
     },
     "execution_count": 25,
     "metadata": {},
     "output_type": "execute_result"
    }
   ],
   "source": [
    "dir(a)"
   ]
  },
  {
   "cell_type": "code",
   "execution_count": 30,
   "id": "charged-green",
   "metadata": {},
   "outputs": [
    {
     "data": {
      "text/plain": [
       "OrderedDict([('media_type', mediaType: String),\n",
       "             ('s_dat_start', sDatStart: String),\n",
       "             ('s_gef', sGef: String),\n",
       "             ('s_tit', sTit: String),\n",
       "             ('series_nr', seriesNr: Int)])"
      ]
     },
     "execution_count": 30,
     "metadata": {},
     "output_type": "execute_result"
    }
   ],
   "source": [
    "a.__fields_cache__"
   ]
  },
  {
   "cell_type": "code",
   "execution_count": 34,
   "id": "cathedral-double",
   "metadata": {},
   "outputs": [
    {
     "data": {
      "text/plain": [
       "{'sort_keys': True, 'separators': (',', ':')}"
      ]
     },
     "execution_count": 34,
     "metadata": {},
     "output_type": "execute_result"
    }
   ],
   "source": [
    "a.__json_dump_args__"
   ]
  },
  {
   "cell_type": "code",
   "execution_count": 35,
   "id": "aboriginal-brain",
   "metadata": {},
   "outputs": [
    {
     "data": {
      "text/plain": [
       "[{'sGef': 'Telesguard',\n",
       "  'sTit': None,\n",
       "  'mediaType': 'video',\n",
       "  'sDatStart': '2010-12-27',\n",
       "  'seriesNr': 0},\n",
       " {'sGef': None,\n",
       "  'sTit': None,\n",
       "  'mediaType': 'video',\n",
       "  'sDatStart': None,\n",
       "  'seriesNr': 0},\n",
       " {'sGef': 'Espresso',\n",
       "  'sTit': None,\n",
       "  'mediaType': 'audio',\n",
       "  'sDatStart': '2016-07-13',\n",
       "  'seriesNr': 0},\n",
       " {'sGef': None,\n",
       "  'sTit': None,\n",
       "  'mediaType': 'audio',\n",
       "  'sDatStart': '2012-01-09',\n",
       "  'seriesNr': None},\n",
       " {'sGef': 'Marella',\n",
       "  'sTit': None,\n",
       "  'mediaType': 'audio',\n",
       "  'sDatStart': '2018-02-18',\n",
       "  'seriesNr': 0},\n",
       " {'sGef': 'Oops!',\n",
       "  'sTit': None,\n",
       "  'mediaType': 'video',\n",
       "  'sDatStart': '2003-03-12',\n",
       "  'seriesNr': None},\n",
       " {'sGef': None,\n",
       "  'sTit': None,\n",
       "  'mediaType': 'audio',\n",
       "  'sDatStart': '2008-11-13',\n",
       "  'seriesNr': None},\n",
       " {'sGef': None,\n",
       "  'sTit': None,\n",
       "  'mediaType': 'audio',\n",
       "  'sDatStart': '2017-10-17',\n",
       "  'seriesNr': 0},\n",
       " {'sGef': 'Arena',\n",
       "  'sTit': None,\n",
       "  'mediaType': 'video',\n",
       "  'sDatStart': '2000-10-13',\n",
       "  'seriesNr': 0},\n",
       " {'sGef': 'Tubii',\n",
       "  'sTit': None,\n",
       "  'mediaType': 'video',\n",
       "  'sDatStart': '2007-06-05',\n",
       "  'seriesNr': 0}]"
      ]
     },
     "execution_count": 35,
     "metadata": {},
     "output_type": "execute_result"
    }
   ],
   "source": [
    "data['data']['faroProgramPage']['edges']"
   ]
  },
  {
   "cell_type": "code",
   "execution_count": 37,
   "id": "applied-skiing",
   "metadata": {},
   "outputs": [],
   "source": [
    "df = pd.DataFrame([x.__json_data__ for x in results.edges])"
   ]
  },
  {
   "cell_type": "code",
   "execution_count": 38,
   "id": "homeless-bottle",
   "metadata": {},
   "outputs": [
    {
     "data": {
      "text/html": [
       "<div>\n",
       "<style scoped>\n",
       "    .dataframe tbody tr th:only-of-type {\n",
       "        vertical-align: middle;\n",
       "    }\n",
       "\n",
       "    .dataframe tbody tr th {\n",
       "        vertical-align: top;\n",
       "    }\n",
       "\n",
       "    .dataframe thead th {\n",
       "        text-align: right;\n",
       "    }\n",
       "</style>\n",
       "<table border=\"1\" class=\"dataframe\">\n",
       "  <thead>\n",
       "    <tr style=\"text-align: right;\">\n",
       "      <th></th>\n",
       "      <th>sGef</th>\n",
       "      <th>sTit</th>\n",
       "      <th>mediaType</th>\n",
       "      <th>sDatStart</th>\n",
       "      <th>seriesNr</th>\n",
       "    </tr>\n",
       "  </thead>\n",
       "  <tbody>\n",
       "    <tr>\n",
       "      <th>0</th>\n",
       "      <td>Doppelpunkt</td>\n",
       "      <td>None</td>\n",
       "      <td>audio</td>\n",
       "      <td>1994-06-26</td>\n",
       "      <td>0.0</td>\n",
       "    </tr>\n",
       "    <tr>\n",
       "      <th>1</th>\n",
       "      <td>None</td>\n",
       "      <td>None</td>\n",
       "      <td>audio</td>\n",
       "      <td>2012-11-26</td>\n",
       "      <td>NaN</td>\n",
       "    </tr>\n",
       "    <tr>\n",
       "      <th>2</th>\n",
       "      <td>Oz</td>\n",
       "      <td>Contribuziun</td>\n",
       "      <td>audio</td>\n",
       "      <td>2006-11-21</td>\n",
       "      <td>NaN</td>\n",
       "    </tr>\n",
       "    <tr>\n",
       "      <th>3</th>\n",
       "      <td>None</td>\n",
       "      <td>None</td>\n",
       "      <td>audio</td>\n",
       "      <td>2012-09-28</td>\n",
       "      <td>NaN</td>\n",
       "    </tr>\n",
       "    <tr>\n",
       "      <th>4</th>\n",
       "      <td>None</td>\n",
       "      <td>None</td>\n",
       "      <td>None</td>\n",
       "      <td>None</td>\n",
       "      <td>0.0</td>\n",
       "    </tr>\n",
       "    <tr>\n",
       "      <th>5</th>\n",
       "      <td>None</td>\n",
       "      <td>None</td>\n",
       "      <td>audio</td>\n",
       "      <td>2018-04-21</td>\n",
       "      <td>0.0</td>\n",
       "    </tr>\n",
       "    <tr>\n",
       "      <th>6</th>\n",
       "      <td>Wir lesen vor</td>\n",
       "      <td>Fortsetzung folgt: Eine Krähe war mit mir\\n</td>\n",
       "      <td>audio</td>\n",
       "      <td>1979-03-20</td>\n",
       "      <td>10.0</td>\n",
       "    </tr>\n",
       "    <tr>\n",
       "      <th>7</th>\n",
       "      <td>None</td>\n",
       "      <td>None</td>\n",
       "      <td>audio</td>\n",
       "      <td>2009-06-18</td>\n",
       "      <td>NaN</td>\n",
       "    </tr>\n",
       "    <tr>\n",
       "      <th>8</th>\n",
       "      <td>Kulturtipp</td>\n",
       "      <td>None</td>\n",
       "      <td>audio</td>\n",
       "      <td>2005-04-20</td>\n",
       "      <td>NaN</td>\n",
       "    </tr>\n",
       "    <tr>\n",
       "      <th>9</th>\n",
       "      <td>Regionaljournal Zürich Schaffhausen</td>\n",
       "      <td>None</td>\n",
       "      <td>audio</td>\n",
       "      <td>2002-01-28</td>\n",
       "      <td>NaN</td>\n",
       "    </tr>\n",
       "    <tr>\n",
       "      <th>10</th>\n",
       "      <td>None</td>\n",
       "      <td>None</td>\n",
       "      <td>audio</td>\n",
       "      <td>2018-01-12</td>\n",
       "      <td>0.0</td>\n",
       "    </tr>\n",
       "    <tr>\n",
       "      <th>11</th>\n",
       "      <td>10vor10 (ZvZ)</td>\n",
       "      <td>None</td>\n",
       "      <td>video</td>\n",
       "      <td>2012-05-18</td>\n",
       "      <td>0.0</td>\n",
       "    </tr>\n",
       "    <tr>\n",
       "      <th>12</th>\n",
       "      <td>None</td>\n",
       "      <td>None</td>\n",
       "      <td>audio</td>\n",
       "      <td>2008-07-19</td>\n",
       "      <td>NaN</td>\n",
       "    </tr>\n",
       "    <tr>\n",
       "      <th>13</th>\n",
       "      <td>Daytime 3</td>\n",
       "      <td>None</td>\n",
       "      <td>audio</td>\n",
       "      <td>2011-04-01</td>\n",
       "      <td>NaN</td>\n",
       "    </tr>\n",
       "    <tr>\n",
       "      <th>14</th>\n",
       "      <td>Kinderstunde</td>\n",
       "      <td>None</td>\n",
       "      <td>video</td>\n",
       "      <td>1977-11-07</td>\n",
       "      <td>0.0</td>\n",
       "    </tr>\n",
       "    <tr>\n",
       "      <th>15</th>\n",
       "      <td>None</td>\n",
       "      <td>None</td>\n",
       "      <td>video</td>\n",
       "      <td>2017-09-12</td>\n",
       "      <td>0.0</td>\n",
       "    </tr>\n",
       "    <tr>\n",
       "      <th>16</th>\n",
       "      <td>None</td>\n",
       "      <td>None</td>\n",
       "      <td>audio</td>\n",
       "      <td>2017-02-02</td>\n",
       "      <td>0.0</td>\n",
       "    </tr>\n",
       "    <tr>\n",
       "      <th>17</th>\n",
       "      <td>Schweiz aktuell (CHak)</td>\n",
       "      <td>None</td>\n",
       "      <td>video</td>\n",
       "      <td>2015-05-06</td>\n",
       "      <td>0.0</td>\n",
       "    </tr>\n",
       "    <tr>\n",
       "      <th>18</th>\n",
       "      <td>WortOrt</td>\n",
       "      <td>None</td>\n",
       "      <td>audio</td>\n",
       "      <td>2010-07-01</td>\n",
       "      <td>NaN</td>\n",
       "    </tr>\n",
       "    <tr>\n",
       "      <th>19</th>\n",
       "      <td>Chroniques politiques du jour</td>\n",
       "      <td>None</td>\n",
       "      <td>audio</td>\n",
       "      <td>1940-05-22</td>\n",
       "      <td>NaN</td>\n",
       "    </tr>\n",
       "    <tr>\n",
       "      <th>20</th>\n",
       "      <td>Telesguard</td>\n",
       "      <td>None</td>\n",
       "      <td>video</td>\n",
       "      <td>2010-12-27</td>\n",
       "      <td>0.0</td>\n",
       "    </tr>\n",
       "    <tr>\n",
       "      <th>21</th>\n",
       "      <td>None</td>\n",
       "      <td>None</td>\n",
       "      <td>video</td>\n",
       "      <td>None</td>\n",
       "      <td>0.0</td>\n",
       "    </tr>\n",
       "    <tr>\n",
       "      <th>22</th>\n",
       "      <td>Espresso</td>\n",
       "      <td>None</td>\n",
       "      <td>audio</td>\n",
       "      <td>2016-07-13</td>\n",
       "      <td>0.0</td>\n",
       "    </tr>\n",
       "    <tr>\n",
       "      <th>23</th>\n",
       "      <td>None</td>\n",
       "      <td>None</td>\n",
       "      <td>audio</td>\n",
       "      <td>2012-01-09</td>\n",
       "      <td>NaN</td>\n",
       "    </tr>\n",
       "    <tr>\n",
       "      <th>24</th>\n",
       "      <td>Marella</td>\n",
       "      <td>None</td>\n",
       "      <td>audio</td>\n",
       "      <td>2018-02-18</td>\n",
       "      <td>0.0</td>\n",
       "    </tr>\n",
       "    <tr>\n",
       "      <th>25</th>\n",
       "      <td>Oops!</td>\n",
       "      <td>None</td>\n",
       "      <td>video</td>\n",
       "      <td>2003-03-12</td>\n",
       "      <td>NaN</td>\n",
       "    </tr>\n",
       "    <tr>\n",
       "      <th>26</th>\n",
       "      <td>None</td>\n",
       "      <td>None</td>\n",
       "      <td>audio</td>\n",
       "      <td>2008-11-13</td>\n",
       "      <td>NaN</td>\n",
       "    </tr>\n",
       "    <tr>\n",
       "      <th>27</th>\n",
       "      <td>None</td>\n",
       "      <td>None</td>\n",
       "      <td>audio</td>\n",
       "      <td>2017-10-17</td>\n",
       "      <td>0.0</td>\n",
       "    </tr>\n",
       "    <tr>\n",
       "      <th>28</th>\n",
       "      <td>Arena</td>\n",
       "      <td>None</td>\n",
       "      <td>video</td>\n",
       "      <td>2000-10-13</td>\n",
       "      <td>0.0</td>\n",
       "    </tr>\n",
       "    <tr>\n",
       "      <th>29</th>\n",
       "      <td>Tubii</td>\n",
       "      <td>None</td>\n",
       "      <td>video</td>\n",
       "      <td>2007-06-05</td>\n",
       "      <td>0.0</td>\n",
       "    </tr>\n",
       "  </tbody>\n",
       "</table>\n",
       "</div>"
      ],
      "text/plain": [
       "                                   sGef  \\\n",
       "0                           Doppelpunkt   \n",
       "1                                  None   \n",
       "2                                    Oz   \n",
       "3                                  None   \n",
       "4                                  None   \n",
       "5                                  None   \n",
       "6                         Wir lesen vor   \n",
       "7                                  None   \n",
       "8                            Kulturtipp   \n",
       "9   Regionaljournal Zürich Schaffhausen   \n",
       "10                                 None   \n",
       "11                        10vor10 (ZvZ)   \n",
       "12                                 None   \n",
       "13                            Daytime 3   \n",
       "14                         Kinderstunde   \n",
       "15                                 None   \n",
       "16                                 None   \n",
       "17               Schweiz aktuell (CHak)   \n",
       "18                              WortOrt   \n",
       "19        Chroniques politiques du jour   \n",
       "20                           Telesguard   \n",
       "21                                 None   \n",
       "22                             Espresso   \n",
       "23                                 None   \n",
       "24                              Marella   \n",
       "25                                Oops!   \n",
       "26                                 None   \n",
       "27                                 None   \n",
       "28                                Arena   \n",
       "29                                Tubii   \n",
       "\n",
       "                                           sTit mediaType   sDatStart  \\\n",
       "0                                          None     audio  1994-06-26   \n",
       "1                                          None     audio  2012-11-26   \n",
       "2                                  Contribuziun     audio  2006-11-21   \n",
       "3                                          None     audio  2012-09-28   \n",
       "4                                          None      None        None   \n",
       "5                                          None     audio  2018-04-21   \n",
       "6   Fortsetzung folgt: Eine Krähe war mit mir\\n     audio  1979-03-20   \n",
       "7                                          None     audio  2009-06-18   \n",
       "8                                          None     audio  2005-04-20   \n",
       "9                                          None     audio  2002-01-28   \n",
       "10                                         None     audio  2018-01-12   \n",
       "11                                         None     video  2012-05-18   \n",
       "12                                         None     audio  2008-07-19   \n",
       "13                                         None     audio  2011-04-01   \n",
       "14                                         None     video  1977-11-07   \n",
       "15                                         None     video  2017-09-12   \n",
       "16                                         None     audio  2017-02-02   \n",
       "17                                         None     video  2015-05-06   \n",
       "18                                         None     audio  2010-07-01   \n",
       "19                                         None     audio  1940-05-22   \n",
       "20                                         None     video  2010-12-27   \n",
       "21                                         None     video        None   \n",
       "22                                         None     audio  2016-07-13   \n",
       "23                                         None     audio  2012-01-09   \n",
       "24                                         None     audio  2018-02-18   \n",
       "25                                         None     video  2003-03-12   \n",
       "26                                         None     audio  2008-11-13   \n",
       "27                                         None     audio  2017-10-17   \n",
       "28                                         None     video  2000-10-13   \n",
       "29                                         None     video  2007-06-05   \n",
       "\n",
       "    seriesNr  \n",
       "0        0.0  \n",
       "1        NaN  \n",
       "2        NaN  \n",
       "3        NaN  \n",
       "4        0.0  \n",
       "5        0.0  \n",
       "6       10.0  \n",
       "7        NaN  \n",
       "8        NaN  \n",
       "9        NaN  \n",
       "10       0.0  \n",
       "11       0.0  \n",
       "12       NaN  \n",
       "13       NaN  \n",
       "14       0.0  \n",
       "15       0.0  \n",
       "16       0.0  \n",
       "17       0.0  \n",
       "18       NaN  \n",
       "19       NaN  \n",
       "20       0.0  \n",
       "21       0.0  \n",
       "22       0.0  \n",
       "23       NaN  \n",
       "24       0.0  \n",
       "25       NaN  \n",
       "26       NaN  \n",
       "27       0.0  \n",
       "28       0.0  \n",
       "29       0.0  "
      ]
     },
     "execution_count": 38,
     "metadata": {},
     "output_type": "execute_result"
    }
   ],
   "source": [
    "df"
   ]
  },
  {
   "cell_type": "code",
   "execution_count": null,
   "id": "trying-suspension",
   "metadata": {},
   "outputs": [],
   "source": []
  }
 ],
 "metadata": {
  "kernelspec": {
   "display_name": "Python 3",
   "language": "python",
   "name": "python3"
  },
  "language_info": {
   "codemirror_mode": {
    "name": "ipython",
    "version": 3
   },
   "file_extension": ".py",
   "mimetype": "text/x-python",
   "name": "python",
   "nbconvert_exporter": "python",
   "pygments_lexer": "ipython3",
   "version": "3.9.1"
  }
 },
 "nbformat": 4,
 "nbformat_minor": 5
}
