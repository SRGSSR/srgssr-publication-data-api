{
 "cells": [
  {
   "cell_type": "markdown",
   "id": "administrative-savage",
   "metadata": {},
   "source": [
    "# Example how to query multiple items using paging"
   ]
  },
  {
   "cell_type": "code",
   "execution_count": 1,
   "id": "legislative-turtle",
   "metadata": {},
   "outputs": [],
   "source": [
    "from sgqlc.operation import Operation\n",
    "from pdp_schema import pdp_schema as schema\n",
    "from pdp_graphql_client_python import client"
   ]
  },
  {
   "cell_type": "code",
   "execution_count": 15,
   "id": "chief-inspector",
   "metadata": {},
   "outputs": [
    {
     "name": "stdout",
     "output_type": "stream",
     "text": [
      "https://graphql-api.pdp.int.srgssr.ch/graphql\r\n"
     ]
    }
   ],
   "source": [
    "! echo \"${PDP_API}\""
   ]
  },
  {
   "cell_type": "code",
   "execution_count": 16,
   "id": "linear-check",
   "metadata": {},
   "outputs": [
    {
     "data": {
      "text/plain": [
       "type Query {\n",
       "  faroProgramPage(first: Int!, after: String): FaroProgramPage!\n",
       "  faroPrograms(ids: [String!]!): [FaroProgram]!\n",
       "  randomFaroPrograms: [FaroProgram!]!\n",
       "  faroItemPage(first: Int!, after: String): FaroItemPage!\n",
       "  faroItems(ids: [String!]!): [FaroItem]!\n",
       "  faroItemsByPlayUrn(urns: [String!]!): [FaroItem]!\n",
       "  faroItemsByPlayUrnGraphDb(urns: [String!]!): [FaroItem]!\n",
       "  randomFaroItems: [FaroItem!]!\n",
       "}"
      ]
     },
     "execution_count": 16,
     "metadata": {},
     "output_type": "execute_result"
    }
   ],
   "source": [
    "# show available queries\n",
    "# *Page queries allow for paging (https://graphql.org/learn/pagination/)\n",
    "# first=[number of queries to retrieve, e.g. *first* 10 queries]\n",
    "# after=[id or cursor position from which to start]\n",
    "schema.Query"
   ]
  },
  {
   "cell_type": "code",
   "execution_count": 46,
   "id": "proper-intro",
   "metadata": {},
   "outputs": [],
   "source": [
    "# retrieve query operations\n",
    "op = Operation(schema.Query)"
   ]
  },
  {
   "cell_type": "code",
   "execution_count": 33,
   "id": "ongoing-disco",
   "metadata": {},
   "outputs": [
    {
     "data": {
      "text/plain": [
       "sgqlc.operation.Operation"
      ]
     },
     "execution_count": 33,
     "metadata": {},
     "output_type": "execute_result"
    }
   ],
   "source": [
    "type(op)"
   ]
  },
  {
   "cell_type": "code",
   "execution_count": 19,
   "id": "supreme-friend",
   "metadata": {},
   "outputs": [
    {
     "data": {
      "text/plain": [
       "query {\n",
       "}"
      ]
     },
     "execution_count": 19,
     "metadata": {},
     "output_type": "execute_result"
    }
   ],
   "source": [
    "# return current query (empty)\n",
    "op"
   ]
  },
  {
   "cell_type": "code",
   "execution_count": 47,
   "id": "endangered-convention",
   "metadata": {},
   "outputs": [],
   "source": [
    "# select query type and configure with argument\n",
    "faro = op.faro_program_page(first=10)"
   ]
  },
  {
   "cell_type": "code",
   "execution_count": 48,
   "id": "unexpected-tourism",
   "metadata": {},
   "outputs": [
    {
     "data": {
      "text/plain": [
       "query {\n",
       "  faroProgramPage(first: 10) {\n",
       "    edges {\n",
       "      id\n",
       "      bu\n",
       "      mediaType\n",
       "      episodeIds\n",
       "      sTit\n",
       "      sDatStart\n",
       "      sGef\n",
       "      pTit\n",
       "      department\n",
       "      workgroup\n",
       "      seriesNr\n",
       "    }\n",
       "    cursor\n",
       "  }\n",
       "}"
      ]
     },
     "execution_count": 48,
     "metadata": {},
     "output_type": "execute_result"
    }
   ],
   "source": [
    "# return current query (empty)\n",
    "op"
   ]
  },
  {
   "cell_type": "code",
   "execution_count": 54,
   "id": "impressed-conviction",
   "metadata": {},
   "outputs": [
    {
     "data": {
      "text/plain": [
       "sTit"
      ]
     },
     "execution_count": 54,
     "metadata": {},
     "output_type": "execute_result"
    }
   ],
   "source": [
    "# select fields to be retured\n",
    "faro.edges.media_type()\n",
    "faro.edges.s_dat_start()\n",
    "faro.edges.s_gef()\n",
    "faro.edges.s_tit()"
   ]
  },
  {
   "cell_type": "code",
   "execution_count": 55,
   "id": "lovely-accuracy",
   "metadata": {},
   "outputs": [
    {
     "data": {
      "text/plain": [
       "query {\n",
       "  faroProgramPage(first: 10) {\n",
       "    edges {\n",
       "      mediaType\n",
       "      sDatStart\n",
       "      sGef\n",
       "      sTit\n",
       "    }\n",
       "  }\n",
       "}"
      ]
     },
     "execution_count": 55,
     "metadata": {},
     "output_type": "execute_result"
    }
   ],
   "source": [
    "# return current query\n",
    "op"
   ]
  },
  {
   "cell_type": "code",
   "execution_count": 56,
   "id": "scientific-finish",
   "metadata": {},
   "outputs": [],
   "source": [
    "# run query and retrieve data\n",
    "data = client.run_query(op)"
   ]
  },
  {
   "cell_type": "code",
   "execution_count": 57,
   "id": "acting-windsor",
   "metadata": {},
   "outputs": [
    {
     "data": {
      "text/plain": [
       "{'data': {'faroProgramPage': {'edges': [{'mediaType': 'audio',\n",
       "     'sDatStart': '1994-06-26',\n",
       "     'sGef': 'Doppelpunkt',\n",
       "     'sTit': None},\n",
       "    {'mediaType': 'audio',\n",
       "     'sDatStart': '2012-11-26',\n",
       "     'sGef': None,\n",
       "     'sTit': None},\n",
       "    {'mediaType': 'audio',\n",
       "     'sDatStart': '2006-11-21',\n",
       "     'sGef': 'Oz',\n",
       "     'sTit': 'Contribuziun'},\n",
       "    {'mediaType': 'audio',\n",
       "     'sDatStart': '2012-09-28',\n",
       "     'sGef': None,\n",
       "     'sTit': None},\n",
       "    {'mediaType': None, 'sDatStart': None, 'sGef': None, 'sTit': None},\n",
       "    {'mediaType': 'audio',\n",
       "     'sDatStart': '2018-04-21',\n",
       "     'sGef': None,\n",
       "     'sTit': None},\n",
       "    {'mediaType': 'audio',\n",
       "     'sDatStart': '1979-03-20',\n",
       "     'sGef': 'Wir lesen vor',\n",
       "     'sTit': 'Fortsetzung folgt: Eine Krähe war mit mir\\n'},\n",
       "    {'mediaType': 'audio',\n",
       "     'sDatStart': '2009-06-18',\n",
       "     'sGef': None,\n",
       "     'sTit': None},\n",
       "    {'mediaType': 'audio',\n",
       "     'sDatStart': '2005-04-20',\n",
       "     'sGef': 'Kulturtipp',\n",
       "     'sTit': None},\n",
       "    {'mediaType': 'audio',\n",
       "     'sDatStart': '2002-01-28',\n",
       "     'sGef': 'Regionaljournal Zürich Schaffhausen',\n",
       "     'sTit': None}]}}}"
      ]
     },
     "execution_count": 57,
     "metadata": {},
     "output_type": "execute_result"
    }
   ],
   "source": [
    "# display raw data (json)\n",
    "data"
   ]
  },
  {
   "cell_type": "code",
   "execution_count": 58,
   "id": "comic-material",
   "metadata": {},
   "outputs": [],
   "source": [
    "# convert again to object oriented results\n",
    "results = (op + data).faro_program_page"
   ]
  },
  {
   "cell_type": "code",
   "execution_count": 59,
   "id": "solar-ethnic",
   "metadata": {},
   "outputs": [
    {
     "data": {
      "text/plain": [
       "FaroProgramPage(edges=[FaroProgram(media_type='audio', s_dat_start='1994-06-26', s_gef='Doppelpunkt', s_tit=None), FaroProgram(media_type='audio', s_dat_start='2012-11-26', s_gef=None, s_tit=None), FaroProgram(media_type='audio', s_dat_start='2006-11-21', s_gef='Oz', s_tit='Contribuziun'), FaroProgram(media_type='audio', s_dat_start='2012-09-28', s_gef=None, s_tit=None), FaroProgram(media_type=None, s_dat_start=None, s_gef=None, s_tit=None), FaroProgram(media_type='audio', s_dat_start='2018-04-21', s_gef=None, s_tit=None), FaroProgram(media_type='audio', s_dat_start='1979-03-20', s_gef='Wir lesen vor', s_tit='Fortsetzung folgt: Eine Krähe war mit mir\\n'), FaroProgram(media_type='audio', s_dat_start='2009-06-18', s_gef=None, s_tit=None), FaroProgram(media_type='audio', s_dat_start='2005-04-20', s_gef='Kulturtipp', s_tit=None), FaroProgram(media_type='audio', s_dat_start='2002-01-28', s_gef='Regionaljournal Zürich Schaffhausen', s_tit=None)])"
      ]
     },
     "execution_count": 59,
     "metadata": {},
     "output_type": "execute_result"
    }
   ],
   "source": [
    "# display object transformed data\n",
    "results"
   ]
  },
  {
   "cell_type": "code",
   "execution_count": 63,
   "id": "sharp-wells",
   "metadata": {},
   "outputs": [
    {
     "data": {
      "text/plain": [
       "type FaroProgram {\n",
       "  id: String!\n",
       "  bu: String\n",
       "  mediaType: String\n",
       "  episodeIds: [String!]!\n",
       "  sTit: String\n",
       "  sDatStart: String\n",
       "  sGef: String\n",
       "  pTit: String\n",
       "  department: String\n",
       "  workgroup: String\n",
       "  seriesNr: Int\n",
       "  moderators: [FaroModerator!]!\n",
       "  itemPage(first: Int!, after: String): FaroItemPage!\n",
       "  playEpisodes: [PlayEpisode!]!\n",
       "}"
      ]
     },
     "execution_count": 63,
     "metadata": {},
     "output_type": "execute_result"
    }
   ],
   "source": [
    "# discover data types\n",
    "type(results.edges[0])"
   ]
  },
  {
   "cell_type": "code",
   "execution_count": 69,
   "id": "understanding-summary",
   "metadata": {},
   "outputs": [
    {
     "data": {
      "text/plain": [
       "Counter({1994: 1,\n",
       "         2012: 2,\n",
       "         2006: 1,\n",
       "         2018: 1,\n",
       "         1979: 1,\n",
       "         2009: 1,\n",
       "         2005: 1,\n",
       "         2002: 1})"
      ]
     },
     "execution_count": 69,
     "metadata": {},
     "output_type": "execute_result"
    }
   ],
   "source": [
    "from collections import Counter\n",
    "from datetime import date\n",
    "\n",
    "# count year occurrences\n",
    "Counter(date.fromisoformat(x.s_dat_start).year for x in results.edges if x.s_dat_start)"
   ]
  },
  {
   "cell_type": "code",
   "execution_count": null,
   "id": "heavy-cooperative",
   "metadata": {},
   "outputs": [],
   "source": []
  }
 ],
 "metadata": {
  "kernelspec": {
   "display_name": "Python 3",
   "language": "python",
   "name": "python3"
  },
  "language_info": {
   "codemirror_mode": {
    "name": "ipython",
    "version": 3
   },
   "file_extension": ".py",
   "mimetype": "text/x-python",
   "name": "python",
   "nbconvert_exporter": "python",
   "pygments_lexer": "ipython3",
   "version": "3.9.1"
  }
 },
 "nbformat": 4,
 "nbformat_minor": 5
}
