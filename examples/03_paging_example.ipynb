{
 "cells": [
  {
   "cell_type": "markdown",
   "id": "administrative-savage",
   "metadata": {},
   "source": [
    "# Example how to query multiple items using paging"
   ]
  },
  {
   "cell_type": "code",
   "execution_count": 1,
   "id": "legislative-turtle",
   "metadata": {},
   "outputs": [],
   "source": [
    "from sgqlc.operation import Operation\n",
    "from pdp_schema import pdp_schema as schema\n",
    "from pdp_graphql_client_python import client"
   ]
  },
  {
   "cell_type": "code",
   "execution_count": 2,
   "id": "lovely-prototype",
   "metadata": {},
   "outputs": [
    {
     "name": "stdout",
     "output_type": "stream",
     "text": [
      "https://graphql-api.pdp.int.srgssr.ch/graphql\r\n"
     ]
    }
   ],
   "source": [
    "! echo \"${PDP_API}\""
   ]
  },
  {
   "cell_type": "code",
   "execution_count": 3,
   "id": "linear-check",
   "metadata": {},
   "outputs": [
    {
     "data": {
      "text/plain": [
       "type Query {\n",
       "  faroProgramPage(first: Int!, after: String): FaroProgramPage!\n",
       "  faroPrograms(ids: [String!]!): [FaroProgram]!\n",
       "  randomFaroPrograms: [FaroProgram!]!\n",
       "  faroItemPage(first: Int!, after: String): FaroItemPage!\n",
       "  faroItems(ids: [String!]!): [FaroItem]!\n",
       "  faroItemsByPlayUrn(urns: [String!]!): [FaroItem]!\n",
       "  faroItemsByPlayUrnGraphDb(urns: [String!]!): [FaroItem]!\n",
       "  randomFaroItems: [FaroItem!]!\n",
       "}"
      ]
     },
     "execution_count": 3,
     "metadata": {},
     "output_type": "execute_result"
    }
   ],
   "source": [
    "# show available queries\n",
    "# *Page queries allow for paging (https://graphql.org/learn/pagination/)\n",
    "# first=[number of queries to retrieve, e.g. *first* 10 queries]\n",
    "# after=[id or cursor position from which to start]\n",
    "schema.Query"
   ]
  },
  {
   "cell_type": "code",
   "execution_count": 4,
   "id": "proper-intro",
   "metadata": {},
   "outputs": [],
   "source": [
    "# retrieve query operations\n",
    "op = Operation(schema.Query)"
   ]
  },
  {
   "cell_type": "code",
   "execution_count": 5,
   "id": "ongoing-disco",
   "metadata": {},
   "outputs": [
    {
     "data": {
      "text/plain": [
       "sgqlc.operation.Operation"
      ]
     },
     "execution_count": 5,
     "metadata": {},
     "output_type": "execute_result"
    }
   ],
   "source": [
    "type(op)"
   ]
  },
  {
   "cell_type": "code",
   "execution_count": 6,
   "id": "supreme-friend",
   "metadata": {},
   "outputs": [
    {
     "data": {
      "text/plain": [
       "query {\n",
       "}"
      ]
     },
     "execution_count": 6,
     "metadata": {},
     "output_type": "execute_result"
    }
   ],
   "source": [
    "# return current query (empty)\n",
    "op"
   ]
  },
  {
   "cell_type": "code",
   "execution_count": 7,
   "id": "endangered-convention",
   "metadata": {},
   "outputs": [],
   "source": [
    "# select query type and configure with argument\n",
    "faro = op.faro_program_page(first=10)"
   ]
  },
  {
   "cell_type": "code",
   "execution_count": 8,
   "id": "inappropriate-puzzle",
   "metadata": {},
   "outputs": [
    {
     "data": {
      "text/plain": [
       "query {\n",
       "  faroProgramPage(first: 10) {\n",
       "    edges {\n",
       "      id\n",
       "      bu\n",
       "      mediaType\n",
       "      episodeIds\n",
       "      sTit\n",
       "      sDatStart\n",
       "      sGef\n",
       "      pTit\n",
       "      department\n",
       "      workgroup\n",
       "      seriesNr\n",
       "    }\n",
       "    cursor\n",
       "  }\n",
       "}"
      ]
     },
     "execution_count": 8,
     "metadata": {},
     "output_type": "execute_result"
    }
   ],
   "source": [
    "# return current query (empty)\n",
    "op"
   ]
  },
  {
   "cell_type": "code",
   "execution_count": 9,
   "id": "impressed-conviction",
   "metadata": {},
   "outputs": [
    {
     "data": {
      "text/plain": [
       "sTit"
      ]
     },
     "execution_count": 9,
     "metadata": {},
     "output_type": "execute_result"
    }
   ],
   "source": [
    "# select fields to be retured\n",
    "faro.edges.media_type()\n",
    "faro.edges.s_dat_start()\n",
    "faro.edges.s_gef()\n",
    "faro.edges.s_tit()"
   ]
  },
  {
   "cell_type": "code",
   "execution_count": 10,
   "id": "lovely-accuracy",
   "metadata": {},
   "outputs": [
    {
     "data": {
      "text/plain": [
       "query {\n",
       "  faroProgramPage(first: 10) {\n",
       "    edges {\n",
       "      mediaType\n",
       "      sDatStart\n",
       "      sGef\n",
       "      sTit\n",
       "    }\n",
       "  }\n",
       "}"
      ]
     },
     "execution_count": 10,
     "metadata": {},
     "output_type": "execute_result"
    }
   ],
   "source": [
    "# return current query\n",
    "op"
   ]
  },
  {
   "cell_type": "code",
   "execution_count": 11,
   "id": "scientific-finish",
   "metadata": {},
   "outputs": [],
   "source": [
    "# run query and retrieve data\n",
    "data = client.run_query(op)"
   ]
  },
  {
   "cell_type": "code",
   "execution_count": 12,
   "id": "acting-windsor",
   "metadata": {},
   "outputs": [
    {
     "data": {
      "text/plain": [
       "{'data': {'faroProgramPage': {'edges': [{'mediaType': 'audio',\n",
       "     'sDatStart': '1994-06-26',\n",
       "     'sGef': 'Doppelpunkt',\n",
       "     'sTit': None},\n",
       "    {'mediaType': 'audio',\n",
       "     'sDatStart': '2012-11-26',\n",
       "     'sGef': None,\n",
       "     'sTit': None},\n",
       "    {'mediaType': 'audio',\n",
       "     'sDatStart': '2006-11-21',\n",
       "     'sGef': 'Oz',\n",
       "     'sTit': 'Contribuziun'},\n",
       "    {'mediaType': 'audio',\n",
       "     'sDatStart': '2012-09-28',\n",
       "     'sGef': None,\n",
       "     'sTit': None},\n",
       "    {'mediaType': None, 'sDatStart': None, 'sGef': None, 'sTit': None},\n",
       "    {'mediaType': 'audio',\n",
       "     'sDatStart': '2018-04-21',\n",
       "     'sGef': None,\n",
       "     'sTit': None},\n",
       "    {'mediaType': 'audio',\n",
       "     'sDatStart': '1979-03-20',\n",
       "     'sGef': 'Wir lesen vor',\n",
       "     'sTit': 'Fortsetzung folgt: Eine Krähe war mit mir\\n'},\n",
       "    {'mediaType': 'audio',\n",
       "     'sDatStart': '2009-06-18',\n",
       "     'sGef': None,\n",
       "     'sTit': None},\n",
       "    {'mediaType': 'audio',\n",
       "     'sDatStart': '2005-04-20',\n",
       "     'sGef': 'Kulturtipp',\n",
       "     'sTit': None},\n",
       "    {'mediaType': 'audio',\n",
       "     'sDatStart': '2002-01-28',\n",
       "     'sGef': 'Regionaljournal Zürich Schaffhausen',\n",
       "     'sTit': None}]}}}"
      ]
     },
     "execution_count": 12,
     "metadata": {},
     "output_type": "execute_result"
    }
   ],
   "source": [
    "# display raw data (json)\n",
    "data"
   ]
  },
  {
   "cell_type": "code",
   "execution_count": 13,
   "id": "comic-material",
   "metadata": {},
   "outputs": [],
   "source": [
    "# convert again to object oriented results\n",
    "results = (op + data).faro_program_page"
   ]
  },
  {
   "cell_type": "code",
   "execution_count": 14,
   "id": "solar-ethnic",
   "metadata": {},
   "outputs": [
    {
     "data": {
      "text/plain": [
       "FaroProgramPage(edges=[FaroProgram(media_type='audio', s_dat_start='1994-06-26', s_gef='Doppelpunkt', s_tit=None), FaroProgram(media_type='audio', s_dat_start='2012-11-26', s_gef=None, s_tit=None), FaroProgram(media_type='audio', s_dat_start='2006-11-21', s_gef='Oz', s_tit='Contribuziun'), FaroProgram(media_type='audio', s_dat_start='2012-09-28', s_gef=None, s_tit=None), FaroProgram(media_type=None, s_dat_start=None, s_gef=None, s_tit=None), FaroProgram(media_type='audio', s_dat_start='2018-04-21', s_gef=None, s_tit=None), FaroProgram(media_type='audio', s_dat_start='1979-03-20', s_gef='Wir lesen vor', s_tit='Fortsetzung folgt: Eine Krähe war mit mir\\n'), FaroProgram(media_type='audio', s_dat_start='2009-06-18', s_gef=None, s_tit=None), FaroProgram(media_type='audio', s_dat_start='2005-04-20', s_gef='Kulturtipp', s_tit=None), FaroProgram(media_type='audio', s_dat_start='2002-01-28', s_gef='Regionaljournal Zürich Schaffhausen', s_tit=None)])"
      ]
     },
     "execution_count": 14,
     "metadata": {},
     "output_type": "execute_result"
    }
   ],
   "source": [
    "# display object transformed data\n",
    "results"
   ]
  },
  {
   "cell_type": "code",
   "execution_count": 15,
   "id": "sharp-wells",
   "metadata": {},
   "outputs": [
    {
     "data": {
      "text/plain": [
       "type FaroProgram {\n",
       "  id: String!\n",
       "  bu: String\n",
       "  mediaType: String\n",
       "  episodeIds: [String!]!\n",
       "  sTit: String\n",
       "  sDatStart: String\n",
       "  sGef: String\n",
       "  pTit: String\n",
       "  department: String\n",
       "  workgroup: String\n",
       "  seriesNr: Int\n",
       "  moderators: [FaroModerator!]!\n",
       "  itemPage(first: Int!, after: String): FaroItemPage!\n",
       "  playEpisodes: [PlayEpisode!]!\n",
       "}"
      ]
     },
     "execution_count": 15,
     "metadata": {},
     "output_type": "execute_result"
    }
   ],
   "source": [
    "# discover data types\n",
    "type(results.edges[0])"
   ]
  },
  {
   "cell_type": "code",
   "execution_count": 16,
   "id": "understanding-summary",
   "metadata": {},
   "outputs": [
    {
     "data": {
      "text/plain": [
       "Counter({1994: 1,\n",
       "         2012: 2,\n",
       "         2006: 1,\n",
       "         2018: 1,\n",
       "         1979: 1,\n",
       "         2009: 1,\n",
       "         2005: 1,\n",
       "         2002: 1})"
      ]
     },
     "execution_count": 16,
     "metadata": {},
     "output_type": "execute_result"
    }
   ],
   "source": [
    "from collections import Counter\n",
    "from datetime import date\n",
    "\n",
    "# count year occurrences\n",
    "Counter(date.fromisoformat(x.s_dat_start).year for x in results.edges if x.s_dat_start)"
   ]
  },
  {
   "cell_type": "code",
   "execution_count": 17,
   "id": "ideal-pharmacy",
   "metadata": {},
   "outputs": [],
   "source": [
    "import pandas as pd"
   ]
  },
  {
   "cell_type": "code",
   "execution_count": 18,
   "id": "regulated-teach",
   "metadata": {},
   "outputs": [
    {
     "data": {
      "text/plain": [
       "['_ContainerTypeMeta__fields',\n",
       " '_ContainerType__get_type_for_selection',\n",
       " '_ContainerType__populate_field_data',\n",
       " '_ContainerType__populate_fields',\n",
       " '_ContainerType__populate_fields_from_selection_list',\n",
       " '__bytes__',\n",
       " '__class__',\n",
       " '__contains__',\n",
       " '__delattr__',\n",
       " '__dict__',\n",
       " '__dir__',\n",
       " '__doc__',\n",
       " '__eq__',\n",
       " '__field_names__',\n",
       " '__fields_cache__',\n",
       " '__format__',\n",
       " '__ge__',\n",
       " '__getattribute__',\n",
       " '__getitem__',\n",
       " '__gt__',\n",
       " '__hash__',\n",
       " '__init__',\n",
       " '__init_subclass__',\n",
       " '__interfaces__',\n",
       " '__iter__',\n",
       " '__json_data__',\n",
       " '__json_dump_args__',\n",
       " '__kind__',\n",
       " '__le__',\n",
       " '__len__',\n",
       " '__lt__',\n",
       " '__meta_fields__',\n",
       " '__module__',\n",
       " '__ne__',\n",
       " '__new__',\n",
       " '__reduce__',\n",
       " '__reduce_ex__',\n",
       " '__repr__',\n",
       " '__schema__',\n",
       " '__selection_list__',\n",
       " '__setattr__',\n",
       " '__setitem__',\n",
       " '__sizeof__',\n",
       " '__str__',\n",
       " '__subclasshook__',\n",
       " '__to_json_value__',\n",
       " '__weakref__',\n",
       " 'media_type',\n",
       " 's_dat_start',\n",
       " 's_gef',\n",
       " 's_tit']"
      ]
     },
     "execution_count": 18,
     "metadata": {},
     "output_type": "execute_result"
    }
   ],
   "source": [
    "dir(results.edges[0])"
   ]
  },
  {
   "cell_type": "code",
   "execution_count": 19,
   "id": "million-stamp",
   "metadata": {},
   "outputs": [
    {
     "data": {
      "text/plain": [
       "('id',\n",
       " 'bu',\n",
       " 'media_type',\n",
       " 'episode_ids',\n",
       " 's_tit',\n",
       " 's_dat_start',\n",
       " 's_gef',\n",
       " 'p_tit',\n",
       " 'department',\n",
       " 'workgroup',\n",
       " 'series_nr',\n",
       " 'moderators',\n",
       " 'item_page',\n",
       " 'play_episodes')"
      ]
     },
     "execution_count": 19,
     "metadata": {},
     "output_type": "execute_result"
    }
   ],
   "source": [
    "results.edges[0].__field_names__"
   ]
  },
  {
   "cell_type": "code",
   "execution_count": 20,
   "id": "becoming-serbia",
   "metadata": {},
   "outputs": [
    {
     "data": {
      "text/plain": [
       "{'media_type': 'audio',\n",
       " 's_dat_start': '1994-06-26',\n",
       " 's_gef': 'Doppelpunkt',\n",
       " 's_tit': None}"
      ]
     },
     "execution_count": 20,
     "metadata": {},
     "output_type": "execute_result"
    }
   ],
   "source": [
    "{key: value for key, value in results.edges[0].__dict__.items() if not key.startswith(\"__\")}"
   ]
  },
  {
   "cell_type": "code",
   "execution_count": 21,
   "id": "applied-skiing",
   "metadata": {},
   "outputs": [],
   "source": [
    "df = pd.DataFrame(data['data']['faroProgramPage']['edges'])"
   ]
  },
  {
   "cell_type": "code",
   "execution_count": 22,
   "id": "homeless-bottle",
   "metadata": {},
   "outputs": [
    {
     "data": {
      "text/html": [
       "<div>\n",
       "<style scoped>\n",
       "    .dataframe tbody tr th:only-of-type {\n",
       "        vertical-align: middle;\n",
       "    }\n",
       "\n",
       "    .dataframe tbody tr th {\n",
       "        vertical-align: top;\n",
       "    }\n",
       "\n",
       "    .dataframe thead th {\n",
       "        text-align: right;\n",
       "    }\n",
       "</style>\n",
       "<table border=\"1\" class=\"dataframe\">\n",
       "  <thead>\n",
       "    <tr style=\"text-align: right;\">\n",
       "      <th></th>\n",
       "      <th>mediaType</th>\n",
       "      <th>sDatStart</th>\n",
       "      <th>sGef</th>\n",
       "      <th>sTit</th>\n",
       "    </tr>\n",
       "  </thead>\n",
       "  <tbody>\n",
       "    <tr>\n",
       "      <th>0</th>\n",
       "      <td>audio</td>\n",
       "      <td>1994-06-26</td>\n",
       "      <td>Doppelpunkt</td>\n",
       "      <td>None</td>\n",
       "    </tr>\n",
       "    <tr>\n",
       "      <th>1</th>\n",
       "      <td>audio</td>\n",
       "      <td>2012-11-26</td>\n",
       "      <td>None</td>\n",
       "      <td>None</td>\n",
       "    </tr>\n",
       "    <tr>\n",
       "      <th>2</th>\n",
       "      <td>audio</td>\n",
       "      <td>2006-11-21</td>\n",
       "      <td>Oz</td>\n",
       "      <td>Contribuziun</td>\n",
       "    </tr>\n",
       "    <tr>\n",
       "      <th>3</th>\n",
       "      <td>audio</td>\n",
       "      <td>2012-09-28</td>\n",
       "      <td>None</td>\n",
       "      <td>None</td>\n",
       "    </tr>\n",
       "    <tr>\n",
       "      <th>4</th>\n",
       "      <td>None</td>\n",
       "      <td>None</td>\n",
       "      <td>None</td>\n",
       "      <td>None</td>\n",
       "    </tr>\n",
       "    <tr>\n",
       "      <th>5</th>\n",
       "      <td>audio</td>\n",
       "      <td>2018-04-21</td>\n",
       "      <td>None</td>\n",
       "      <td>None</td>\n",
       "    </tr>\n",
       "    <tr>\n",
       "      <th>6</th>\n",
       "      <td>audio</td>\n",
       "      <td>1979-03-20</td>\n",
       "      <td>Wir lesen vor</td>\n",
       "      <td>Fortsetzung folgt: Eine Krähe war mit mir\\n</td>\n",
       "    </tr>\n",
       "    <tr>\n",
       "      <th>7</th>\n",
       "      <td>audio</td>\n",
       "      <td>2009-06-18</td>\n",
       "      <td>None</td>\n",
       "      <td>None</td>\n",
       "    </tr>\n",
       "    <tr>\n",
       "      <th>8</th>\n",
       "      <td>audio</td>\n",
       "      <td>2005-04-20</td>\n",
       "      <td>Kulturtipp</td>\n",
       "      <td>None</td>\n",
       "    </tr>\n",
       "    <tr>\n",
       "      <th>9</th>\n",
       "      <td>audio</td>\n",
       "      <td>2002-01-28</td>\n",
       "      <td>Regionaljournal Zürich Schaffhausen</td>\n",
       "      <td>None</td>\n",
       "    </tr>\n",
       "  </tbody>\n",
       "</table>\n",
       "</div>"
      ],
      "text/plain": [
       "  mediaType   sDatStart                                 sGef  \\\n",
       "0     audio  1994-06-26                          Doppelpunkt   \n",
       "1     audio  2012-11-26                                 None   \n",
       "2     audio  2006-11-21                                   Oz   \n",
       "3     audio  2012-09-28                                 None   \n",
       "4      None        None                                 None   \n",
       "5     audio  2018-04-21                                 None   \n",
       "6     audio  1979-03-20                        Wir lesen vor   \n",
       "7     audio  2009-06-18                                 None   \n",
       "8     audio  2005-04-20                           Kulturtipp   \n",
       "9     audio  2002-01-28  Regionaljournal Zürich Schaffhausen   \n",
       "\n",
       "                                          sTit  \n",
       "0                                         None  \n",
       "1                                         None  \n",
       "2                                 Contribuziun  \n",
       "3                                         None  \n",
       "4                                         None  \n",
       "5                                         None  \n",
       "6  Fortsetzung folgt: Eine Krähe war mit mir\\n  \n",
       "7                                         None  \n",
       "8                                         None  \n",
       "9                                         None  "
      ]
     },
     "execution_count": 22,
     "metadata": {},
     "output_type": "execute_result"
    }
   ],
   "source": [
    "df"
   ]
  },
  {
   "cell_type": "code",
   "execution_count": null,
   "id": "electoral-mambo",
   "metadata": {},
   "outputs": [],
   "source": []
  }
 ],
 "metadata": {
  "kernelspec": {
   "display_name": "Python 3",
   "language": "python",
   "name": "python3"
  },
  "language_info": {
   "codemirror_mode": {
    "name": "ipython",
    "version": 3
   },
   "file_extension": ".py",
   "mimetype": "text/x-python",
   "name": "python",
   "nbconvert_exporter": "python",
   "pygments_lexer": "ipython3",
   "version": "3.9.1"
  }
 },
 "nbformat": 4,
 "nbformat_minor": 5
}
