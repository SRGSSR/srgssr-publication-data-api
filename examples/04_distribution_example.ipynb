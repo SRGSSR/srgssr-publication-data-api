{
 "cells": [
  {
   "cell_type": "markdown",
   "id": "administrative-savage",
   "metadata": {},
   "source": [
    "# Example 4: how to use random retrieval to plot distributions"
   ]
  },
  {
   "cell_type": "code",
   "execution_count": 1,
   "id": "legislative-turtle",
   "metadata": {},
   "outputs": [],
   "source": [
    "import sys\n",
    "from sgqlc.operation import Operation\n",
    "from pdp_schema import pdp_schema as schema\n",
    "from pdp_graphql_client_python import client"
   ]
  },
  {
   "cell_type": "markdown",
   "id": "artistic-alignment",
   "metadata": {},
   "source": [
    "## 1. Set the API endpoint\n",
    "set endpoint to old PDP (FARO) schema on INT"
   ]
  },
  {
   "cell_type": "code",
   "execution_count": 2,
   "id": "ideal-fancy",
   "metadata": {},
   "outputs": [
    {
     "name": "stdout",
     "output_type": "stream",
     "text": [
      "env: PDP_API=https://graphql-api.pdp.int.srgssr.ch/graphql\n"
     ]
    }
   ],
   "source": [
    "%set_env PDP_API=https://graphql-api.pdp.int.srgssr.ch/graphql"
   ]
  },
  {
   "cell_type": "code",
   "execution_count": 3,
   "id": "lovely-prototype",
   "metadata": {},
   "outputs": [
    {
     "name": "stdout",
     "output_type": "stream",
     "text": [
      "https://graphql-api.pdp.int.srgssr.ch/graphql\r\n"
     ]
    }
   ],
   "source": [
    "# fetch environment variable with PDP endpoint API address\n",
    "! echo \"${PDP_API}\""
   ]
  },
  {
   "cell_type": "markdown",
   "id": "blank-chair",
   "metadata": {},
   "source": [
    "## 2. Show available queries"
   ]
  },
  {
   "cell_type": "code",
   "execution_count": 4,
   "id": "linear-check",
   "metadata": {},
   "outputs": [
    {
     "data": {
      "text/plain": [
       "type Query {\n",
       "  faroProgramPage(first: Int!, after: String): FaroProgramPage!\n",
       "  faroPrograms(ids: [String!]!): [FaroProgram]!\n",
       "  randomFaroPrograms: [FaroProgram!]!\n",
       "  faroItemPage(first: Int!, after: String): FaroItemPage!\n",
       "  faroItems(ids: [String!]!): [FaroItem]!\n",
       "  faroItemsByPlayUrn(urns: [String!]!): [FaroItem]!\n",
       "  faroItemsByPlayUrnGraphDb(urns: [String!]!): [FaroItem]!\n",
       "  randomFaroItems: [FaroItem!]!\n",
       "}"
      ]
     },
     "execution_count": 4,
     "metadata": {},
     "output_type": "execute_result"
    }
   ],
   "source": [
    "schema.Query"
   ]
  },
  {
   "cell_type": "markdown",
   "id": "contemporary-maria",
   "metadata": {},
   "source": [
    "## 3. Configure the query operation"
   ]
  },
  {
   "cell_type": "code",
   "execution_count": 5,
   "id": "proper-intro",
   "metadata": {},
   "outputs": [],
   "source": [
    "op = Operation(schema.Query)"
   ]
  },
  {
   "cell_type": "code",
   "execution_count": 6,
   "id": "endangered-convention",
   "metadata": {},
   "outputs": [],
   "source": [
    "faro = op.random_faro_items()"
   ]
  },
  {
   "cell_type": "code",
   "execution_count": 7,
   "id": "lovely-accuracy",
   "metadata": {},
   "outputs": [
    {
     "data": {
      "text/plain": [
       "query {\n",
       "  randomFaroItems {\n",
       "    id\n",
       "    programId\n",
       "    itemNr\n",
       "    rights\n",
       "    isPoisonous\n",
       "    playMedias {\n",
       "      id\n",
       "      title\n",
       "      urn\n",
       "      description\n",
       "    }\n",
       "    mediaUrns\n",
       "    playLinks\n",
       "    descriptorPaths\n",
       "    program {\n",
       "      id\n",
       "      bu\n",
       "      mediaType\n",
       "      episodeIds\n",
       "      sTit\n",
       "      sDatStart\n",
       "      sGef\n",
       "      pTit\n",
       "      department\n",
       "      workgroup\n",
       "      seriesNr\n",
       "    }\n",
       "    bTit\n",
       "    recordingDate\n",
       "    ingestDate\n",
       "    prodTypes\n",
       "    producer\n",
       "    licenseHolder\n",
       "    abs\n",
       "    fdes\n",
       "    sportDoc {\n",
       "      season\n",
       "      sportEventPaths\n",
       "      sportPaths\n",
       "    }\n",
       "    webCmsIds\n",
       "  }\n",
       "}"
      ]
     },
     "execution_count": 7,
     "metadata": {},
     "output_type": "execute_result"
    }
   ],
   "source": [
    "# return the current query\n",
    "op"
   ]
  },
  {
   "cell_type": "markdown",
   "id": "banned-cyprus",
   "metadata": {},
   "source": [
    "## 4. Select fields of interest"
   ]
  },
  {
   "cell_type": "code",
   "execution_count": 8,
   "id": "married-restriction",
   "metadata": {},
   "outputs": [],
   "source": [
    "faro.id()\n",
    "faro.b_tit()\n",
    "faro.producer()\n",
    "faro.program.s_dat_start()\n",
    "faro.sport_doc();"
   ]
  },
  {
   "cell_type": "code",
   "execution_count": 9,
   "id": "hired-sussex",
   "metadata": {},
   "outputs": [
    {
     "data": {
      "text/plain": [
       "query {\n",
       "  randomFaroItems {\n",
       "    id\n",
       "    bTit\n",
       "    producer\n",
       "    program {\n",
       "      sDatStart\n",
       "    }\n",
       "    sportDoc {\n",
       "      season\n",
       "      sportEventPaths\n",
       "      sportPaths\n",
       "    }\n",
       "  }\n",
       "}"
      ]
     },
     "execution_count": 9,
     "metadata": {},
     "output_type": "execute_result"
    }
   ],
   "source": [
    "op"
   ]
  },
  {
   "cell_type": "markdown",
   "id": "educational-interval",
   "metadata": {},
   "source": [
    "## 5. Retrieve the data"
   ]
  },
  {
   "cell_type": "code",
   "execution_count": 10,
   "id": "preliminary-adrian",
   "metadata": {},
   "outputs": [],
   "source": [
    "# constants\n",
    "page_requests = 100"
   ]
  },
  {
   "cell_type": "code",
   "execution_count": 11,
   "id": "shared-universe",
   "metadata": {},
   "outputs": [],
   "source": [
    "# init results\n",
    "results = []"
   ]
  },
  {
   "cell_type": "code",
   "execution_count": 12,
   "id": "scientific-finish",
   "metadata": {},
   "outputs": [
    {
     "data": {
      "application/vnd.jupyter.widget-view+json": {
       "model_id": "24b98c39aeeb4a0b8b8a86e426f60534",
       "version_major": 2,
       "version_minor": 0
      },
      "text/plain": [
       "Downloading data:   0%|          | 0/100 [00:00<?, ?it/s]"
      ]
     },
     "metadata": {},
     "output_type": "display_data"
    }
   ],
   "source": [
    "# download data\n",
    "from tqdm.notebook import tnrange\n",
    "for i in tnrange(page_requests, desc=\"Downloading data\"):\n",
    "    # query page\n",
    "    data = client.run_query(op)\n",
    "    \n",
    "    # add results\n",
    "    results += (op + data).random_faro_items"
   ]
  },
  {
   "cell_type": "code",
   "execution_count": 13,
   "id": "acting-windsor",
   "metadata": {},
   "outputs": [
    {
     "name": "stdout",
     "output_type": "stream",
     "text": [
      "INFO - Retrieved 1,000 FaroItems\n"
     ]
    }
   ],
   "source": [
    "print(f'INFO - Retrieved {len(results):,} FaroItems')"
   ]
  },
  {
   "cell_type": "code",
   "execution_count": 14,
   "id": "pressing-longer",
   "metadata": {},
   "outputs": [
    {
     "data": {
      "text/plain": [
       "FaroItem(id='9c89171d-d913-48af-9a75-8ffbc76aac15', b_tit='Razzia Kinder-Pornografie', producer='SF', program=FaroProgram(s_dat_start='2007-05-08'), sport_doc=FaroSportDoc(season=None, sport_event_paths=[], sport_paths=[]))"
      ]
     },
     "execution_count": 14,
     "metadata": {},
     "output_type": "execute_result"
    }
   ],
   "source": [
    "results[0]"
   ]
  },
  {
   "cell_type": "markdown",
   "id": "egyptian-probe",
   "metadata": {},
   "source": [
    "## 6. Plot the year distribution of first display"
   ]
  },
  {
   "cell_type": "code",
   "execution_count": 15,
   "id": "textile-change",
   "metadata": {},
   "outputs": [
    {
     "data": {
      "text/plain": [
       "'2007-05-08'"
      ]
     },
     "execution_count": 15,
     "metadata": {},
     "output_type": "execute_result"
    }
   ],
   "source": [
    "results[0].program.s_dat_start"
   ]
  },
  {
   "cell_type": "code",
   "execution_count": 16,
   "id": "understanding-summary",
   "metadata": {},
   "outputs": [],
   "source": [
    "from collections import Counter\n",
    "from datetime import date\n",
    "\n",
    "# count year occurrences\n",
    "c = Counter(date.fromisoformat(x.program.s_dat_start).year \n",
    "            for x in results if x.program.s_dat_start)"
   ]
  },
  {
   "cell_type": "code",
   "execution_count": 17,
   "id": "improved-honey",
   "metadata": {},
   "outputs": [],
   "source": [
    "import matplotlib.pyplot as plt\n",
    "%matplotlib inline\n",
    "plt.rcParams['figure.figsize'] = (20, 10)"
   ]
  },
  {
   "cell_type": "code",
   "execution_count": 18,
   "id": "hourly-russia",
   "metadata": {},
   "outputs": [
    {
     "data": {
      "image/png": "[encoded data removed]",
      "text/plain": [
       "<Figure size 1440x720 with 1 Axes>"
      ]
     },
     "metadata": {},
     "output_type": "display_data"
    }
   ],
   "source": [
    "with plt.style.context('fivethirtyeight'):\n",
    "    plt.bar(c.keys(), c.values())"
   ]
  },
  {
   "cell_type": "markdown",
   "id": "independent-selling",
   "metadata": {},
   "source": [
    "## 7. Load data into a `pandas` dataframe"
   ]
  },
  {
   "cell_type": "code",
   "execution_count": 19,
   "id": "ideal-pharmacy",
   "metadata": {},
   "outputs": [],
   "source": [
    "import pandas as pd"
   ]
  },
  {
   "cell_type": "code",
   "execution_count": 20,
   "id": "considerable-passenger",
   "metadata": {},
   "outputs": [
    {
     "data": {
      "text/plain": [
       "OrderedDict([('id', id: String!),\n",
       "             ('b_tit', bTit: String),\n",
       "             ('producer', producer: String),\n",
       "             ('program', program: FaroProgram),\n",
       "             ('sport_doc', sportDoc: FaroSportDoc!)])"
      ]
     },
     "execution_count": 20,
     "metadata": {},
     "output_type": "execute_result"
    }
   ],
   "source": [
    "results[0].__fields_cache__"
   ]
  },
  {
   "cell_type": "code",
   "execution_count": 21,
   "id": "applied-skiing",
   "metadata": {},
   "outputs": [],
   "source": [
    "df = pd.DataFrame([x.__json_data__ for x in results])"
   ]
  },
  {
   "cell_type": "code",
   "execution_count": 22,
   "id": "homeless-bottle",
   "metadata": {},
   "outputs": [
    {
     "data": {
      "text/html": [
       "<div>\n",
       "<style scoped>\n",
       "    .dataframe tbody tr th:only-of-type {\n",
       "        vertical-align: middle;\n",
       "    }\n",
       "\n",
       "    .dataframe tbody tr th {\n",
       "        vertical-align: top;\n",
       "    }\n",
       "\n",
       "    .dataframe thead th {\n",
       "        text-align: right;\n",
       "    }\n",
       "</style>\n",
       "<table border=\"1\" class=\"dataframe\">\n",
       "  <thead>\n",
       "    <tr style=\"text-align: right;\">\n",
       "      <th></th>\n",
       "      <th>program</th>\n",
       "      <th>bTit</th>\n",
       "      <th>sportDoc</th>\n",
       "      <th>id</th>\n",
       "      <th>producer</th>\n",
       "    </tr>\n",
       "  </thead>\n",
       "  <tbody>\n",
       "    <tr>\n",
       "      <th>0</th>\n",
       "      <td>{'sDatStart': '2007-05-08'}</td>\n",
       "      <td>Razzia Kinder-Pornografie</td>\n",
       "      <td>{'season': None, 'sportEventPaths': [], 'sport...</td>\n",
       "      <td>9c89171d-d913-48af-9a75-8ffbc76aac15</td>\n",
       "      <td>SF</td>\n",
       "    </tr>\n",
       "    <tr>\n",
       "      <th>1</th>\n",
       "      <td>{'sDatStart': '2008-04-08'}</td>\n",
       "      <td>Lohn-Dumping auf Westside-Baustelle</td>\n",
       "      <td>{'season': None, 'sportEventPaths': [], 'sport...</td>\n",
       "      <td>9c8946bc-0a17-4b8e-b95a-0c73a545238d</td>\n",
       "      <td>SF</td>\n",
       "    </tr>\n",
       "    <tr>\n",
       "      <th>2</th>\n",
       "      <td>{'sDatStart': None}</td>\n",
       "      <td>OS Sydney Leichtathletik</td>\n",
       "      <td>{'season': None, 'sportEventPaths': ['¦int¦Oly...</td>\n",
       "      <td>9c894778-5cf0-461f-81f7-bca92ab4a200</td>\n",
       "      <td>SOBO</td>\n",
       "    </tr>\n",
       "    <tr>\n",
       "      <th>3</th>\n",
       "      <td>{'sDatStart': '2014-09-01'}</td>\n",
       "      <td>SRF 1 01.09.2014 03 - 04 Uhr</td>\n",
       "      <td>{'season': None, 'sportEventPaths': [], 'sport...</td>\n",
       "      <td>9c894846-e651-42af-9838-a36671099fb5</td>\n",
       "      <td>None</td>\n",
       "    </tr>\n",
       "    <tr>\n",
       "      <th>4</th>\n",
       "      <td>{'sDatStart': '1992-12-23'}</td>\n",
       "      <td>Guido Baumann</td>\n",
       "      <td>{'season': None, 'sportEventPaths': [], 'sport...</td>\n",
       "      <td>9c89509b-1194-48be-8a00-1bb56e1ce0b0</td>\n",
       "      <td>DRS</td>\n",
       "    </tr>\n",
       "    <tr>\n",
       "      <th>...</th>\n",
       "      <td>...</td>\n",
       "      <td>...</td>\n",
       "      <td>...</td>\n",
       "      <td>...</td>\n",
       "      <td>...</td>\n",
       "    </tr>\n",
       "    <tr>\n",
       "      <th>995</th>\n",
       "      <td>{'sDatStart': '2018-07-13'}</td>\n",
       "      <td>Regionaljournal AG\\/SO 13.07.2018 12:00 Uhr</td>\n",
       "      <td>{'season': None, 'sportEventPaths': [], 'sport...</td>\n",
       "      <td>b5eefb73-59ac-4155-b914-11bbf3830cd6</td>\n",
       "      <td>None</td>\n",
       "    </tr>\n",
       "    <tr>\n",
       "      <th>996</th>\n",
       "      <td>{'sDatStart': None}</td>\n",
       "      <td>Italien: PCI-Kongress</td>\n",
       "      <td>{'season': None, 'sportEventPaths': [], 'sport...</td>\n",
       "      <td>b5eeff9d-54e8-4f42-9304-4c16dad12b00</td>\n",
       "      <td>EVN/RAI</td>\n",
       "    </tr>\n",
       "    <tr>\n",
       "      <th>997</th>\n",
       "      <td>{'sDatStart': '2016-06-22'}</td>\n",
       "      <td>SRF 2 Kultur 22.06.2016 03 - 04 Uhr</td>\n",
       "      <td>{'season': None, 'sportEventPaths': [], 'sport...</td>\n",
       "      <td>b5ef16ff-abe1-4368-b01e-682945e03bb4</td>\n",
       "      <td>None</td>\n",
       "    </tr>\n",
       "    <tr>\n",
       "      <th>998</th>\n",
       "      <td>{'sDatStart': '2009-05-18'}</td>\n",
       "      <td>Regionaljournal AG\\/SO 18.05.2009 08:30 Uhr</td>\n",
       "      <td>{'season': None, 'sportEventPaths': [], 'sport...</td>\n",
       "      <td>b5ef1898-76af-47fd-9fe1-24f8a25b6d49</td>\n",
       "      <td>None</td>\n",
       "    </tr>\n",
       "    <tr>\n",
       "      <th>999</th>\n",
       "      <td>{'sDatStart': '2006-12-14'}</td>\n",
       "      <td>Regionaljournal Zentralschweiz 14.12.2006 08:3...</td>\n",
       "      <td>{'season': None, 'sportEventPaths': [], 'sport...</td>\n",
       "      <td>b5ef1c57-6ed1-4e67-aafc-ad65a7f02a73</td>\n",
       "      <td>None</td>\n",
       "    </tr>\n",
       "  </tbody>\n",
       "</table>\n",
       "<p>1000 rows × 5 columns</p>\n",
       "</div>"
      ],
      "text/plain": [
       "                         program  \\\n",
       "0    {'sDatStart': '2007-05-08'}   \n",
       "1    {'sDatStart': '2008-04-08'}   \n",
       "2            {'sDatStart': None}   \n",
       "3    {'sDatStart': '2014-09-01'}   \n",
       "4    {'sDatStart': '1992-12-23'}   \n",
       "..                           ...   \n",
       "995  {'sDatStart': '2018-07-13'}   \n",
       "996          {'sDatStart': None}   \n",
       "997  {'sDatStart': '2016-06-22'}   \n",
       "998  {'sDatStart': '2009-05-18'}   \n",
       "999  {'sDatStart': '2006-12-14'}   \n",
       "\n",
       "                                                  bTit  \\\n",
       "0                            Razzia Kinder-Pornografie   \n",
       "1                  Lohn-Dumping auf Westside-Baustelle   \n",
       "2                             OS Sydney Leichtathletik   \n",
       "3                         SRF 1 01.09.2014 03 - 04 Uhr   \n",
       "4                                        Guido Baumann   \n",
       "..                                                 ...   \n",
       "995        Regionaljournal AG\\/SO 13.07.2018 12:00 Uhr   \n",
       "996                              Italien: PCI-Kongress   \n",
       "997                SRF 2 Kultur 22.06.2016 03 - 04 Uhr   \n",
       "998        Regionaljournal AG\\/SO 18.05.2009 08:30 Uhr   \n",
       "999  Regionaljournal Zentralschweiz 14.12.2006 08:3...   \n",
       "\n",
       "                                              sportDoc  \\\n",
       "0    {'season': None, 'sportEventPaths': [], 'sport...   \n",
       "1    {'season': None, 'sportEventPaths': [], 'sport...   \n",
       "2    {'season': None, 'sportEventPaths': ['¦int¦Oly...   \n",
       "3    {'season': None, 'sportEventPaths': [], 'sport...   \n",
       "4    {'season': None, 'sportEventPaths': [], 'sport...   \n",
       "..                                                 ...   \n",
       "995  {'season': None, 'sportEventPaths': [], 'sport...   \n",
       "996  {'season': None, 'sportEventPaths': [], 'sport...   \n",
       "997  {'season': None, 'sportEventPaths': [], 'sport...   \n",
       "998  {'season': None, 'sportEventPaths': [], 'sport...   \n",
       "999  {'season': None, 'sportEventPaths': [], 'sport...   \n",
       "\n",
       "                                       id producer  \n",
       "0    9c89171d-d913-48af-9a75-8ffbc76aac15       SF  \n",
       "1    9c8946bc-0a17-4b8e-b95a-0c73a545238d       SF  \n",
       "2    9c894778-5cf0-461f-81f7-bca92ab4a200     SOBO  \n",
       "3    9c894846-e651-42af-9838-a36671099fb5     None  \n",
       "4    9c89509b-1194-48be-8a00-1bb56e1ce0b0      DRS  \n",
       "..                                    ...      ...  \n",
       "995  b5eefb73-59ac-4155-b914-11bbf3830cd6     None  \n",
       "996  b5eeff9d-54e8-4f42-9304-4c16dad12b00  EVN/RAI  \n",
       "997  b5ef16ff-abe1-4368-b01e-682945e03bb4     None  \n",
       "998  b5ef1898-76af-47fd-9fe1-24f8a25b6d49     None  \n",
       "999  b5ef1c57-6ed1-4e67-aafc-ad65a7f02a73     None  \n",
       "\n",
       "[1000 rows x 5 columns]"
      ]
     },
     "execution_count": 22,
     "metadata": {},
     "output_type": "execute_result"
    }
   ],
   "source": [
    "df"
   ]
  },
  {
   "cell_type": "markdown",
   "id": "interstate-nirvana",
   "metadata": {},
   "source": [
    "## 8. Simple plotting with `pandas`"
   ]
  },
  {
   "cell_type": "code",
   "execution_count": 23,
   "id": "dense-capital",
   "metadata": {},
   "outputs": [
    {
     "data": {
      "text/plain": [
       "count     467\n",
       "unique     80\n",
       "top       SRF\n",
       "freq      141\n",
       "Name: producer, dtype: object"
      ]
     },
     "execution_count": 23,
     "metadata": {},
     "output_type": "execute_result"
    }
   ],
   "source": [
    "df.producer.describe()"
   ]
  },
  {
   "cell_type": "code",
   "execution_count": 24,
   "id": "clean-procurement",
   "metadata": {},
   "outputs": [
    {
     "data": {
      "image/png": "[encoded data removed]",
      "text/plain": [
       "<Figure size 1440x720 with 1 Axes>"
      ]
     },
     "metadata": {},
     "output_type": "display_data"
    }
   ],
   "source": [
    "(df\n",
    " .groupby('producer')\n",
    " .filter(lambda x: len(x) > 10)\n",
    " .producer\n",
    " .value_counts()\n",
    " .plot\n",
    " .pie(fontsize=30));"
   ]
  },
  {
   "cell_type": "markdown",
   "id": "electrical-commons",
   "metadata": {},
   "source": [
    "## 9. Analysis of nested entries"
   ]
  },
  {
   "cell_type": "code",
   "execution_count": 25,
   "id": "impressive-poultry",
   "metadata": {},
   "outputs": [
    {
     "data": {
      "text/html": [
       "<div>\n",
       "<style scoped>\n",
       "    .dataframe tbody tr th:only-of-type {\n",
       "        vertical-align: middle;\n",
       "    }\n",
       "\n",
       "    .dataframe tbody tr th {\n",
       "        vertical-align: top;\n",
       "    }\n",
       "\n",
       "    .dataframe thead th {\n",
       "        text-align: right;\n",
       "    }\n",
       "</style>\n",
       "<table border=\"1\" class=\"dataframe\">\n",
       "  <thead>\n",
       "    <tr style=\"text-align: right;\">\n",
       "      <th></th>\n",
       "      <th>season</th>\n",
       "      <th>sportEventPaths</th>\n",
       "      <th>sportPaths</th>\n",
       "    </tr>\n",
       "  </thead>\n",
       "  <tbody>\n",
       "    <tr>\n",
       "      <th>44</th>\n",
       "      <td>2016</td>\n",
       "      <td>[¦int¦Fedcup¦Fedcup Halbfinal¦]</td>\n",
       "      <td>[¦Tennis¦]</td>\n",
       "    </tr>\n",
       "    <tr>\n",
       "      <th>56</th>\n",
       "      <td>2015</td>\n",
       "      <td>[]</td>\n",
       "      <td>[¦Leichtathletik¦Hürdenlauf¦Hürden 100m¦]</td>\n",
       "    </tr>\n",
       "    <tr>\n",
       "      <th>58</th>\n",
       "      <td>2008-2009</td>\n",
       "      <td>[¦nat¦Schweizermeisterschaft¦]</td>\n",
       "      <td>[¦Fussball¦]</td>\n",
       "    </tr>\n",
       "    <tr>\n",
       "      <th>66</th>\n",
       "      <td>2016</td>\n",
       "      <td>[¦int¦Paralympics¦]</td>\n",
       "      <td>[¦Behindertensport¦, ¦Leichtathletik¦]</td>\n",
       "    </tr>\n",
       "    <tr>\n",
       "      <th>81</th>\n",
       "      <td>2013</td>\n",
       "      <td>[¦int¦Grand Slam Turnier¦Wimbledon (Rasen)¦Wim...</td>\n",
       "      <td>[¦Tennis¦]</td>\n",
       "    </tr>\n",
       "  </tbody>\n",
       "</table>\n",
       "</div>"
      ],
      "text/plain": [
       "       season                                    sportEventPaths  \\\n",
       "44       2016                    [¦int¦Fedcup¦Fedcup Halbfinal¦]   \n",
       "56       2015                                                 []   \n",
       "58  2008-2009                     [¦nat¦Schweizermeisterschaft¦]   \n",
       "66       2016                                [¦int¦Paralympics¦]   \n",
       "81       2013  [¦int¦Grand Slam Turnier¦Wimbledon (Rasen)¦Wim...   \n",
       "\n",
       "                                   sportPaths  \n",
       "44                                 [¦Tennis¦]  \n",
       "56  [¦Leichtathletik¦Hürdenlauf¦Hürden 100m¦]  \n",
       "58                               [¦Fussball¦]  \n",
       "66     [¦Behindertensport¦, ¦Leichtathletik¦]  \n",
       "81                                 [¦Tennis¦]  "
      ]
     },
     "execution_count": 25,
     "metadata": {},
     "output_type": "execute_result"
    }
   ],
   "source": [
    "pd.json_normalize(df.sportDoc).dropna().head()"
   ]
  },
  {
   "cell_type": "code",
   "execution_count": 26,
   "id": "several-motel",
   "metadata": {},
   "outputs": [
    {
     "data": {
      "image/png": "[encoded data removed]",
      "text/plain": [
       "<Figure size 1440x720 with 1 Axes>"
      ]
     },
     "metadata": {
      "needs_background": "light"
     },
     "output_type": "display_data"
    }
   ],
   "source": [
    "(pd\n",
    " .json_normalize(df.sportDoc)                # normalize sport doc entries\n",
    " .dropna()                                   # remove empty entries\n",
    " .sportPaths.explode()                       # explode array\n",
    " .str.split('¦').str[-2]                     # split by symbol and select 2nd to last\n",
    " .value_counts()                             # count occurrences\n",
    " .to_frame()                                 # transform to data frame\n",
    " .sort_values('sportPaths', ascending=False) # sort by occurrence\n",
    " .head(10)                                   # pick top 10\n",
    " .plot.barh(y='sportPaths', fontsize=30));   # plot as a horizontal bar chart"
   ]
  }
 ],
 "metadata": {
  "kernelspec": {
   "display_name": "Python 3",
   "language": "python",
   "name": "python3"
  },
  "language_info": {
   "codemirror_mode": {
    "name": "ipython",
    "version": 3
   },
   "file_extension": ".py",
   "mimetype": "text/x-python",
   "name": "python",
   "nbconvert_exporter": "python",
   "pygments_lexer": "ipython3",
   "version": "3.9.1"
  }
 },
 "nbformat": 4,
 "nbformat_minor": 5
}
