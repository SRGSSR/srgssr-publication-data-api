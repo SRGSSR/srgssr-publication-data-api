{
 "cells": [
  {
   "cell_type": "markdown",
   "id": "administrative-savage",
   "metadata": {},
   "source": [
    "# Example how to access PDP GraphQL API"
   ]
  },
  {
   "cell_type": "code",
   "execution_count": 1,
   "id": "legislative-turtle",
   "metadata": {},
   "outputs": [],
   "source": [
    "from sgqlc.operation import Operation\n",
    "from pdp_schema import pdp_schema as schema\n",
    "from pdp_graphql_client_python import client"
   ]
  },
  {
   "cell_type": "code",
   "execution_count": 2,
   "id": "linear-check",
   "metadata": {},
   "outputs": [
    {
     "data": {
      "text/plain": [
       "type Query {\n",
       "  faroProgramPage(first: Int!, after: String): FaroProgramPage!\n",
       "  faroPrograms(ids: [String!]!): [FaroProgram]!\n",
       "  randomFaroPrograms: [FaroProgram!]!\n",
       "  faroItemPage(first: Int!, after: String): FaroItemPage!\n",
       "  faroItems(ids: [String!]!): [FaroItem]!\n",
       "  faroItemsByPlayUrn(urns: [String!]!): [FaroItem]!\n",
       "  faroItemsByPlayUrnGraphDb(urns: [String!]!): [FaroItem]!\n",
       "  randomFaroItems: [FaroItem!]!\n",
       "}"
      ]
     },
     "execution_count": 2,
     "metadata": {},
     "output_type": "execute_result"
    }
   ],
   "source": [
    "# show available queries\n",
    "schema.Query"
   ]
  },
  {
   "cell_type": "code",
   "execution_count": 3,
   "id": "proper-intro",
   "metadata": {},
   "outputs": [],
   "source": [
    "# retrieve query operations\n",
    "op = Operation(schema.Query)"
   ]
  },
  {
   "cell_type": "code",
   "execution_count": 4,
   "id": "ongoing-disco",
   "metadata": {},
   "outputs": [
    {
     "data": {
      "text/plain": [
       "sgqlc.operation.Operation"
      ]
     },
     "execution_count": 4,
     "metadata": {},
     "output_type": "execute_result"
    }
   ],
   "source": [
    "type(op)"
   ]
  },
  {
   "cell_type": "code",
   "execution_count": 5,
   "id": "supreme-friend",
   "metadata": {},
   "outputs": [
    {
     "data": {
      "text/plain": [
       "query {\n",
       "}"
      ]
     },
     "execution_count": 5,
     "metadata": {},
     "output_type": "execute_result"
    }
   ],
   "source": [
    "# return current query (empty)\n",
    "op"
   ]
  },
  {
   "cell_type": "code",
   "execution_count": 6,
   "id": "endangered-convention",
   "metadata": {},
   "outputs": [],
   "source": [
    "# select query type and configure with argument\n",
    "faro = op.faro_items_by_play_urn(urns=['urn:srf:video:00025f95-2437-4dc3-a15a-44e5d2fa1d37'])"
   ]
  },
  {
   "cell_type": "code",
   "execution_count": 7,
   "id": "impressed-conviction",
   "metadata": {},
   "outputs": [
    {
     "data": {
      "text/plain": [
       "bu"
      ]
     },
     "execution_count": 7,
     "metadata": {},
     "output_type": "execute_result"
    }
   ],
   "source": [
    "# select fields to be retured\n",
    "faro.program.id()\n",
    "faro.program.bu()"
   ]
  },
  {
   "cell_type": "code",
   "execution_count": 8,
   "id": "lovely-accuracy",
   "metadata": {},
   "outputs": [
    {
     "data": {
      "text/plain": [
       "query {\n",
       "  faroItemsByPlayUrn(urns: [\"urn:srf:video:00025f95-2437-4dc3-a15a-44e5d2fa1d37\"]) {\n",
       "    program {\n",
       "      id\n",
       "      bu\n",
       "    }\n",
       "  }\n",
       "}"
      ]
     },
     "execution_count": 8,
     "metadata": {},
     "output_type": "execute_result"
    }
   ],
   "source": [
    "# return current query\n",
    "op"
   ]
  },
  {
   "cell_type": "code",
   "execution_count": 9,
   "id": "scientific-finish",
   "metadata": {},
   "outputs": [],
   "source": [
    "# run query and retrieve data\n",
    "data = client.run_query(op)"
   ]
  },
  {
   "cell_type": "code",
   "execution_count": 10,
   "id": "acting-windsor",
   "metadata": {},
   "outputs": [
    {
     "data": {
      "text/plain": [
       "{'data': {'faroItemsByPlayUrn': [{'program': {'id': '5a5b58fe-4ac7-4db8-87a4-899e27f3b826',\n",
       "     'bu': 'srf'}}]}}"
      ]
     },
     "execution_count": 10,
     "metadata": {},
     "output_type": "execute_result"
    }
   ],
   "source": [
    "# display raw data (json)\n",
    "data"
   ]
  },
  {
   "cell_type": "code",
   "execution_count": 11,
   "id": "comic-material",
   "metadata": {},
   "outputs": [],
   "source": [
    "# convert again to object oriented results\n",
    "results = (op + data).faro_items_by_play_urn"
   ]
  },
  {
   "cell_type": "code",
   "execution_count": 12,
   "id": "solar-ethnic",
   "metadata": {},
   "outputs": [
    {
     "data": {
      "text/plain": [
       "[FaroItem(program=FaroProgram(id='5a5b58fe-4ac7-4db8-87a4-899e27f3b826', bu='srf'))]"
      ]
     },
     "execution_count": 12,
     "metadata": {},
     "output_type": "execute_result"
    }
   ],
   "source": [
    "# display object transformed data\n",
    "results"
   ]
  },
  {
   "cell_type": "code",
   "execution_count": 13,
   "id": "sharp-wells",
   "metadata": {},
   "outputs": [
    {
     "data": {
      "text/plain": [
       "type FaroProgram {\n",
       "  id: String!\n",
       "  bu: String\n",
       "  mediaType: String\n",
       "  episodeIds: [String!]!\n",
       "  sTit: String\n",
       "  sDatStart: String\n",
       "  sGef: String\n",
       "  pTit: String\n",
       "  department: String\n",
       "  workgroup: String\n",
       "  seriesNr: Int\n",
       "  moderators: [FaroModerator!]!\n",
       "  itemPage(first: Int!, after: String): FaroItemPage!\n",
       "  playEpisodes: [PlayEpisode!]!\n",
       "}"
      ]
     },
     "execution_count": 13,
     "metadata": {},
     "output_type": "execute_result"
    }
   ],
   "source": [
    "# discover data types\n",
    "type(results[0].program)"
   ]
  },
  {
   "cell_type": "code",
   "execution_count": 14,
   "id": "understanding-summary",
   "metadata": {},
   "outputs": [
    {
     "name": "stdout",
     "output_type": "stream",
     "text": [
      "The program business unit of the first result is: srf\n"
     ]
    }
   ],
   "source": [
    "# return data\n",
    "print(f'The program business unit of the first result is: {results[0].program.bu}')"
   ]
  }
 ],
 "metadata": {
  "kernelspec": {
   "display_name": "Python 3",
   "language": "python",
   "name": "python3"
  },
  "language_info": {
   "codemirror_mode": {
    "name": "ipython",
    "version": 3
   },
   "file_extension": ".py",
   "mimetype": "text/x-python",
   "name": "python",
   "nbconvert_exporter": "python",
   "pygments_lexer": "ipython3",
   "version": "3.9.1"
  }
 },
 "nbformat": 4,
 "nbformat_minor": 5
}
