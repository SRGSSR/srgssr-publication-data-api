{
 "cells": [
  {
   "cell_type": "markdown",
   "id": "official-clarity",
   "metadata": {},
   "source": [
    "# EBUcore Metadata example"
   ]
  },
  {
   "cell_type": "code",
   "execution_count": 1,
   "id": "little-birmingham",
   "metadata": {},
   "outputs": [],
   "source": [
    "import sys\n",
    "from tqdm.notebook import tnrange\n",
    "from sgqlc.operation import Operation\n",
    "from pdp_schema import pdp_schema\n",
    "from ebucore_schema import ebucore_schema\n",
    "from pdp_graphql_client_python import client"
   ]
  },
  {
   "cell_type": "markdown",
   "id": "annual-arrangement",
   "metadata": {},
   "source": [
    "## [on hold] part 1: retrieve ids from INT using the pdp_schema (FARO)"
   ]
  },
  {
   "cell_type": "code",
   "execution_count": 2,
   "id": "appropriate-cooperative",
   "metadata": {},
   "outputs": [
    {
     "name": "stdout",
     "output_type": "stream",
     "text": [
      "env: PDP_API=https://graphql-api.pdp.int.srgssr.ch/graphql\n"
     ]
    }
   ],
   "source": [
    "# set endpoint to old PDP (FARO) schema on INT\n",
    "%set_env PDP_API=https://graphql-api.pdp.int.srgssr.ch/graphql"
   ]
  },
  {
   "cell_type": "code",
   "execution_count": 3,
   "id": "fabulous-breast",
   "metadata": {},
   "outputs": [
    {
     "name": "stdout",
     "output_type": "stream",
     "text": [
      "https://graphql-api.pdp.int.srgssr.ch/graphql\r\n"
     ]
    }
   ],
   "source": [
    "# fetch environment variable with PDP endpoint API address\n",
    "! echo \"${PDP_API}\""
   ]
  },
  {
   "cell_type": "code",
   "execution_count": 4,
   "id": "right-springfield",
   "metadata": {},
   "outputs": [],
   "source": [
    "op = Operation(pdp_schema.Query)\n",
    "faro = op.random_faro_items()"
   ]
  },
  {
   "cell_type": "code",
   "execution_count": 5,
   "id": "freelance-mainland",
   "metadata": {},
   "outputs": [
    {
     "data": {
      "text/plain": [
       "programId"
      ]
     },
     "execution_count": 5,
     "metadata": {},
     "output_type": "execute_result"
    }
   ],
   "source": [
    "faro.program_id()"
   ]
  },
  {
   "cell_type": "code",
   "execution_count": 6,
   "id": "experienced-lodge",
   "metadata": {},
   "outputs": [
    {
     "data": {
      "text/plain": [
       "query {\n",
       "  randomFaroItems {\n",
       "    programId\n",
       "  }\n",
       "}"
      ]
     },
     "execution_count": 6,
     "metadata": {},
     "output_type": "execute_result"
    }
   ],
   "source": [
    "op"
   ]
  },
  {
   "cell_type": "code",
   "execution_count": 7,
   "id": "nominated-spring",
   "metadata": {},
   "outputs": [
    {
     "name": "stdout",
     "output_type": "stream",
     "text": [
      "https://graphql-api.pdp.int.srgssr.ch/graphql\r\n"
     ]
    }
   ],
   "source": [
    "# fetch environment variable with PDP endpoint API address\n",
    "! echo \"${PDP_API}\""
   ]
  },
  {
   "cell_type": "code",
   "execution_count": 8,
   "id": "valid-favorite",
   "metadata": {},
   "outputs": [
    {
     "data": {
      "application/vnd.jupyter.widget-view+json": {
       "model_id": "160db96f05a34a2da6a3f86b44e97bd4",
       "version_major": 2,
       "version_minor": 0
      },
      "text/plain": [
       "Downloading data:   0%|          | 0/1 [00:00<?, ?it/s]"
      ]
     },
     "metadata": {},
     "output_type": "display_data"
    }
   ],
   "source": [
    "# download data\n",
    "page_requests = 1\n",
    "faro_items = []\n",
    "for i in tnrange(page_requests, desc=\"Downloading data\"):\n",
    "    # query page\n",
    "    data = client.run_query(op)\n",
    "    \n",
    "    # add results\n",
    "    faro_items += (op + data).random_faro_items"
   ]
  },
  {
   "cell_type": "markdown",
   "id": "broadband-surprise",
   "metadata": {},
   "source": [
    "## part 2: use ids to query ebucore schema"
   ]
  },
  {
   "cell_type": "code",
   "execution_count": 9,
   "id": "aggregate-transcript",
   "metadata": {},
   "outputs": [
    {
     "name": "stdout",
     "output_type": "stream",
     "text": [
      "env: PDP_API=https://graphql-api.pdp.dev.srgssr.ch/graphql\n"
     ]
    }
   ],
   "source": [
    "# set endpoint to new EBUcore schema on DEV\n",
    "%set_env PDP_API=https://graphql-api.pdp.dev.srgssr.ch/graphql"
   ]
  },
  {
   "cell_type": "code",
   "execution_count": 10,
   "id": "monthly-parts",
   "metadata": {},
   "outputs": [],
   "source": [
    "# random program_ids are currently not supported in DEV\n",
    "# op = Operation(ebucore_schema.Query)\n",
    "# assets = op.assets(ids=[x.program_id for x in faro_items])"
   ]
  },
  {
   "cell_type": "code",
   "execution_count": 11,
   "id": "seventh-senator",
   "metadata": {},
   "outputs": [],
   "source": [
    "# use example\n",
    "op = Operation(ebucore_schema.Query)\n",
    "assets = op.assets(ids=[\n",
    "    \"30115005-A6C3-4708-98F8-10FB082E381E\",\n",
    "    \"7296F1FD-5767-4BB9-9C3C-546959723141\",\n",
    "    \"urn:srf:video:271310e9-f391-4d28-8495-be660fce42f1\"])"
   ]
  },
  {
   "cell_type": "code",
   "execution_count": 12,
   "id": "operating-journal",
   "metadata": {},
   "outputs": [
    {
     "data": {
      "text/plain": [
       "query {\n",
       "  assets(ids: [\"30115005-A6C3-4708-98F8-10FB082E381E\", \"7296F1FD-5767-4BB9-9C3C-546959723141\", \"urn:srf:video:271310e9-f391-4d28-8495-be660fce42f1\"]) {\n",
       "    assetId\n",
       "    title\n",
       "    abstract\n",
       "    date\n",
       "    hasContributor {\n",
       "      agentName\n",
       "      hasRole\n",
       "    }\n",
       "  }\n",
       "}"
      ]
     },
     "execution_count": 12,
     "metadata": {},
     "output_type": "execute_result"
    }
   ],
   "source": [
    "op"
   ]
  },
  {
   "cell_type": "markdown",
   "id": "cardiovascular-exemption",
   "metadata": {},
   "source": [
    "### Define fragment queries with `__as__` statement"
   ]
  },
  {
   "cell_type": "code",
   "execution_count": 13,
   "id": "actual-trial",
   "metadata": {},
   "outputs": [
    {
     "data": {
      "text/plain": [
       "familyName"
      ]
     },
     "execution_count": 13,
     "metadata": {},
     "output_type": "execute_result"
    }
   ],
   "source": [
    "# define fragements\n",
    "from ebucore_schema import Series, Episode, Staff\n",
    "\n",
    "assets.asset_id()\n",
    "assets.title()\n",
    "assets.__as__(Series).total_number_of_episodes() # => if asset is of instance Series, retrieve the number of episodes\n",
    "assets.__as__(Episode).orientation()\n",
    "assets.has_contributor.__as__(Staff).given_name()\n",
    "assets.has_contributor.__as__(Staff).family_name()"
   ]
  },
  {
   "cell_type": "code",
   "execution_count": 14,
   "id": "reported-cassette",
   "metadata": {},
   "outputs": [
    {
     "data": {
      "text/plain": [
       "query {\n",
       "  assets(ids: [\"30115005-A6C3-4708-98F8-10FB082E381E\", \"7296F1FD-5767-4BB9-9C3C-546959723141\", \"urn:srf:video:271310e9-f391-4d28-8495-be660fce42f1\"]) {\n",
       "    assetId\n",
       "    title\n",
       "    __typename\n",
       "    hasContributor {\n",
       "      __typename\n",
       "      ... on Staff {\n",
       "        givenName\n",
       "        familyName\n",
       "      }\n",
       "    }\n",
       "    ... on Series {\n",
       "      totalNumberOfEpisodes\n",
       "    }\n",
       "    ... on Episode {\n",
       "      orientation\n",
       "    }\n",
       "  }\n",
       "}"
      ]
     },
     "execution_count": 14,
     "metadata": {},
     "output_type": "execute_result"
    }
   ],
   "source": [
    "op"
   ]
  },
  {
   "cell_type": "code",
   "execution_count": 15,
   "id": "placed-element",
   "metadata": {},
   "outputs": [],
   "source": [
    "# query items\n",
    "data = client.run_query(op)"
   ]
  },
  {
   "cell_type": "code",
   "execution_count": 16,
   "id": "informational-transparency",
   "metadata": {},
   "outputs": [
    {
     "data": {
      "text/plain": [
       "{'data': {'assets': [{'assetId': '30115005-a6c3-4708-98f8-10fb082e381e',\n",
       "    '__typename': 'Episode',\n",
       "    'hasContributor': [{'__typename': 'Staff',\n",
       "      'givenName': 'Béatrice',\n",
       "      'familyName': 'Mohr'},\n",
       "     {'__typename': 'Staff', 'givenName': 'Kurt', 'familyName': 'Schaad'}],\n",
       "    'orientation': None,\n",
       "    'title': 'Fernweh: Von Kapstadt zu den Viktoriafällen'},\n",
       "   {'assetId': '7296f1fd-5767-4bb9-9c3c-546959723141',\n",
       "    '__typename': 'Series',\n",
       "    'title': 'Die Strassenfliege',\n",
       "    'totalNumberOfEpisodes': '5',\n",
       "    'hasContributor': []},\n",
       "   {'assetId': 'urn:srf:video:271310e9-f391-4d28-8495-be660fce42f1',\n",
       "    '__typename': 'Episode',\n",
       "    'hasContributor': [{'__typename': 'Staff',\n",
       "      'givenName': 'Ueli',\n",
       "      'familyName': 'Schmezer'}],\n",
       "    'orientation': None,\n",
       "    'title': 'Billiger Echtpelz. Knausrige Samsung. Winterhandschuh-Test.'}]}}"
      ]
     },
     "execution_count": 16,
     "metadata": {},
     "output_type": "execute_result"
    }
   ],
   "source": [
    "data"
   ]
  },
  {
   "cell_type": "code",
   "execution_count": 17,
   "id": "covered-begin",
   "metadata": {},
   "outputs": [],
   "source": [
    "results = (op + data).assets"
   ]
  },
  {
   "cell_type": "code",
   "execution_count": 18,
   "id": "identified-thought",
   "metadata": {},
   "outputs": [
    {
     "data": {
      "text/plain": [
       "[Episode(asset_id='30115005-a6c3-4708-98f8-10fb082e381e', title='Fernweh: Von Kapstadt zu den Viktoriafällen', __typename__='Episode', has_contributor=[Staff(__typename__='Staff', given_name='Béatrice', family_name='Mohr'), Staff(__typename__='Staff', given_name='Kurt', family_name='Schaad')], orientation=None),\n",
       " Series(asset_id='7296f1fd-5767-4bb9-9c3c-546959723141', title='Die Strassenfliege', __typename__='Series', has_contributor=[], total_number_of_episodes='5'),\n",
       " Episode(asset_id='urn:srf:video:271310e9-f391-4d28-8495-be660fce42f1', title='Billiger Echtpelz. Knausrige Samsung. Winterhandschuh-Test.', __typename__='Episode', has_contributor=[Staff(__typename__='Staff', given_name='Ueli', family_name='Schmezer')], orientation=None)]"
      ]
     },
     "execution_count": 18,
     "metadata": {},
     "output_type": "execute_result"
    }
   ],
   "source": [
    "results"
   ]
  },
  {
   "cell_type": "code",
   "execution_count": 19,
   "id": "contained-friendship",
   "metadata": {},
   "outputs": [
    {
     "name": "stdout",
     "output_type": "stream",
     "text": [
      "Episode \"Fernweh: Von Kapstadt zu den Viktoriafällen\" has contributors Béatrice Mohr,Kurt Schaad)\n",
      "Series \"Die Strassenfliege\" has 5 episodes\n",
      "Episode \"Billiger Echtpelz. Knausrige Samsung. Winterhandschuh-Test.\" has contributors Ueli Schmezer)\n"
     ]
    }
   ],
   "source": [
    "for result in results:\n",
    "    if isinstance(result, Episode):\n",
    "        contributor_names = ','.join([x.given_name+' '+x.family_name for x in result.has_contributor])\n",
    "        print(f'Episode \"{result.title}\" has contributors {contributor_names})')\n",
    "    if isinstance(result, Series):\n",
    "        print(f'Series \"{result.title}\" has {result.total_number_of_episodes} episodes')"
   ]
  },
  {
   "cell_type": "markdown",
   "id": "african-pharmacology",
   "metadata": {},
   "source": [
    "### load into pandas"
   ]
  },
  {
   "cell_type": "code",
   "execution_count": 20,
   "id": "beautiful-restoration",
   "metadata": {},
   "outputs": [],
   "source": [
    "import pandas as pd"
   ]
  },
  {
   "cell_type": "code",
   "execution_count": 21,
   "id": "terminal-savage",
   "metadata": {},
   "outputs": [],
   "source": [
    "df = pd.DataFrame([x.__json_data__ for x in results])"
   ]
  },
  {
   "cell_type": "code",
   "execution_count": 22,
   "id": "joint-attendance",
   "metadata": {},
   "outputs": [
    {
     "data": {
      "text/html": [
       "<div>\n",
       "<style scoped>\n",
       "    .dataframe tbody tr th:only-of-type {\n",
       "        vertical-align: middle;\n",
       "    }\n",
       "\n",
       "    .dataframe tbody tr th {\n",
       "        vertical-align: top;\n",
       "    }\n",
       "\n",
       "    .dataframe thead th {\n",
       "        text-align: right;\n",
       "    }\n",
       "</style>\n",
       "<table border=\"1\" class=\"dataframe\">\n",
       "  <thead>\n",
       "    <tr style=\"text-align: right;\">\n",
       "      <th></th>\n",
       "      <th>assetId</th>\n",
       "      <th>__typename</th>\n",
       "      <th>hasContributor</th>\n",
       "      <th>orientation</th>\n",
       "      <th>title</th>\n",
       "      <th>totalNumberOfEpisodes</th>\n",
       "    </tr>\n",
       "  </thead>\n",
       "  <tbody>\n",
       "    <tr>\n",
       "      <th>0</th>\n",
       "      <td>30115005-a6c3-4708-98f8-10fb082e381e</td>\n",
       "      <td>Episode</td>\n",
       "      <td>[{'givenName': 'Béatrice', 'familyName': 'Mohr...</td>\n",
       "      <td>NaN</td>\n",
       "      <td>Fernweh: Von Kapstadt zu den Viktoriafällen</td>\n",
       "      <td>NaN</td>\n",
       "    </tr>\n",
       "    <tr>\n",
       "      <th>1</th>\n",
       "      <td>7296f1fd-5767-4bb9-9c3c-546959723141</td>\n",
       "      <td>Series</td>\n",
       "      <td>[]</td>\n",
       "      <td>NaN</td>\n",
       "      <td>Die Strassenfliege</td>\n",
       "      <td>5</td>\n",
       "    </tr>\n",
       "    <tr>\n",
       "      <th>2</th>\n",
       "      <td>urn:srf:video:271310e9-f391-4d28-8495-be660fce...</td>\n",
       "      <td>Episode</td>\n",
       "      <td>[{'givenName': 'Ueli', 'familyName': 'Schmezer'}]</td>\n",
       "      <td>NaN</td>\n",
       "      <td>Billiger Echtpelz. Knausrige Samsung. Winterha...</td>\n",
       "      <td>NaN</td>\n",
       "    </tr>\n",
       "  </tbody>\n",
       "</table>\n",
       "</div>"
      ],
      "text/plain": [
       "                                             assetId __typename  \\\n",
       "0               30115005-a6c3-4708-98f8-10fb082e381e    Episode   \n",
       "1               7296f1fd-5767-4bb9-9c3c-546959723141     Series   \n",
       "2  urn:srf:video:271310e9-f391-4d28-8495-be660fce...    Episode   \n",
       "\n",
       "                                      hasContributor  orientation  \\\n",
       "0  [{'givenName': 'Béatrice', 'familyName': 'Mohr...          NaN   \n",
       "1                                                 []          NaN   \n",
       "2  [{'givenName': 'Ueli', 'familyName': 'Schmezer'}]          NaN   \n",
       "\n",
       "                                               title totalNumberOfEpisodes  \n",
       "0        Fernweh: Von Kapstadt zu den Viktoriafällen                   NaN  \n",
       "1                                 Die Strassenfliege                     5  \n",
       "2  Billiger Echtpelz. Knausrige Samsung. Winterha...                   NaN  "
      ]
     },
     "execution_count": 22,
     "metadata": {},
     "output_type": "execute_result"
    }
   ],
   "source": [
    "df"
   ]
  },
  {
   "cell_type": "code",
   "execution_count": 23,
   "id": "sixth-genetics",
   "metadata": {},
   "outputs": [],
   "source": [
    "# explode has_Contributor array\n",
    "df2 = df.explode('hasContributor')"
   ]
  },
  {
   "cell_type": "code",
   "execution_count": 24,
   "id": "american-regulation",
   "metadata": {},
   "outputs": [
    {
     "data": {
      "text/html": [
       "<div>\n",
       "<style scoped>\n",
       "    .dataframe tbody tr th:only-of-type {\n",
       "        vertical-align: middle;\n",
       "    }\n",
       "\n",
       "    .dataframe tbody tr th {\n",
       "        vertical-align: top;\n",
       "    }\n",
       "\n",
       "    .dataframe thead th {\n",
       "        text-align: right;\n",
       "    }\n",
       "</style>\n",
       "<table border=\"1\" class=\"dataframe\">\n",
       "  <thead>\n",
       "    <tr style=\"text-align: right;\">\n",
       "      <th></th>\n",
       "      <th>assetId</th>\n",
       "      <th>__typename</th>\n",
       "      <th>hasContributor</th>\n",
       "      <th>orientation</th>\n",
       "      <th>title</th>\n",
       "      <th>totalNumberOfEpisodes</th>\n",
       "    </tr>\n",
       "  </thead>\n",
       "  <tbody>\n",
       "    <tr>\n",
       "      <th>0</th>\n",
       "      <td>30115005-a6c3-4708-98f8-10fb082e381e</td>\n",
       "      <td>Episode</td>\n",
       "      <td>{'givenName': 'Béatrice', 'familyName': 'Mohr'}</td>\n",
       "      <td>NaN</td>\n",
       "      <td>Fernweh: Von Kapstadt zu den Viktoriafällen</td>\n",
       "      <td>NaN</td>\n",
       "    </tr>\n",
       "    <tr>\n",
       "      <th>0</th>\n",
       "      <td>30115005-a6c3-4708-98f8-10fb082e381e</td>\n",
       "      <td>Episode</td>\n",
       "      <td>{'givenName': 'Kurt', 'familyName': 'Schaad'}</td>\n",
       "      <td>NaN</td>\n",
       "      <td>Fernweh: Von Kapstadt zu den Viktoriafällen</td>\n",
       "      <td>NaN</td>\n",
       "    </tr>\n",
       "    <tr>\n",
       "      <th>1</th>\n",
       "      <td>7296f1fd-5767-4bb9-9c3c-546959723141</td>\n",
       "      <td>Series</td>\n",
       "      <td>NaN</td>\n",
       "      <td>NaN</td>\n",
       "      <td>Die Strassenfliege</td>\n",
       "      <td>5</td>\n",
       "    </tr>\n",
       "    <tr>\n",
       "      <th>2</th>\n",
       "      <td>urn:srf:video:271310e9-f391-4d28-8495-be660fce...</td>\n",
       "      <td>Episode</td>\n",
       "      <td>{'givenName': 'Ueli', 'familyName': 'Schmezer'}</td>\n",
       "      <td>NaN</td>\n",
       "      <td>Billiger Echtpelz. Knausrige Samsung. Winterha...</td>\n",
       "      <td>NaN</td>\n",
       "    </tr>\n",
       "  </tbody>\n",
       "</table>\n",
       "</div>"
      ],
      "text/plain": [
       "                                             assetId __typename  \\\n",
       "0               30115005-a6c3-4708-98f8-10fb082e381e    Episode   \n",
       "0               30115005-a6c3-4708-98f8-10fb082e381e    Episode   \n",
       "1               7296f1fd-5767-4bb9-9c3c-546959723141     Series   \n",
       "2  urn:srf:video:271310e9-f391-4d28-8495-be660fce...    Episode   \n",
       "\n",
       "                                    hasContributor  orientation  \\\n",
       "0  {'givenName': 'Béatrice', 'familyName': 'Mohr'}          NaN   \n",
       "0    {'givenName': 'Kurt', 'familyName': 'Schaad'}          NaN   \n",
       "1                                              NaN          NaN   \n",
       "2  {'givenName': 'Ueli', 'familyName': 'Schmezer'}          NaN   \n",
       "\n",
       "                                               title totalNumberOfEpisodes  \n",
       "0        Fernweh: Von Kapstadt zu den Viktoriafällen                   NaN  \n",
       "0        Fernweh: Von Kapstadt zu den Viktoriafällen                   NaN  \n",
       "1                                 Die Strassenfliege                     5  \n",
       "2  Billiger Echtpelz. Knausrige Samsung. Winterha...                   NaN  "
      ]
     },
     "execution_count": 24,
     "metadata": {},
     "output_type": "execute_result"
    }
   ],
   "source": [
    "df2"
   ]
  },
  {
   "cell_type": "code",
   "execution_count": 25,
   "id": "alone-dependence",
   "metadata": {},
   "outputs": [
    {
     "data": {
      "text/html": [
       "<div>\n",
       "<style scoped>\n",
       "    .dataframe tbody tr th:only-of-type {\n",
       "        vertical-align: middle;\n",
       "    }\n",
       "\n",
       "    .dataframe tbody tr th {\n",
       "        vertical-align: top;\n",
       "    }\n",
       "\n",
       "    .dataframe thead th {\n",
       "        text-align: right;\n",
       "    }\n",
       "</style>\n",
       "<table border=\"1\" class=\"dataframe\">\n",
       "  <thead>\n",
       "    <tr style=\"text-align: right;\">\n",
       "      <th></th>\n",
       "      <th>givenName</th>\n",
       "      <th>familyName</th>\n",
       "    </tr>\n",
       "  </thead>\n",
       "  <tbody>\n",
       "    <tr>\n",
       "      <th>0</th>\n",
       "      <td>Béatrice</td>\n",
       "      <td>Mohr</td>\n",
       "    </tr>\n",
       "    <tr>\n",
       "      <th>1</th>\n",
       "      <td>Kurt</td>\n",
       "      <td>Schaad</td>\n",
       "    </tr>\n",
       "    <tr>\n",
       "      <th>2</th>\n",
       "      <td>Ueli</td>\n",
       "      <td>Schmezer</td>\n",
       "    </tr>\n",
       "  </tbody>\n",
       "</table>\n",
       "</div>"
      ],
      "text/plain": [
       "  givenName familyName\n",
       "0  Béatrice       Mohr\n",
       "1      Kurt     Schaad\n",
       "2      Ueli   Schmezer"
      ]
     },
     "execution_count": 25,
     "metadata": {},
     "output_type": "execute_result"
    }
   ],
   "source": [
    "pd.json_normalize(data = df2.loc[df2.__typename == 'Episode'].hasContributor, meta=['assetId'])"
   ]
  }
 ],
 "metadata": {
  "kernelspec": {
   "display_name": "Python 3",
   "language": "python",
   "name": "python3"
  },
  "language_info": {
   "codemirror_mode": {
    "name": "ipython",
    "version": 3
   },
   "file_extension": ".py",
   "mimetype": "text/x-python",
   "name": "python",
   "nbconvert_exporter": "python",
   "pygments_lexer": "ipython3",
   "version": "3.9.1"
  }
 },
 "nbformat": 4,
 "nbformat_minor": 5
}
